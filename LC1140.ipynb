{
 "cells": [
  {
   "cell_type": "markdown",
   "id": "fa21c332-1954-4773-b155-6dc697e976c4",
   "metadata": {},
   "source": [
    "# Stone game II"
   ]
  },
  {
   "cell_type": "markdown",
   "id": "f074fe61-c85e-40ac-beaf-667a23c81118",
   "metadata": {},
   "source": [
    "stone arranged in row of piles: `piles[i]`. \n",
    "\n",
    "Alice and Bob take turns by removing stones. \n",
    "\n",
    "Who get most wins.\n",
    "\n",
    "Each turn, he/she can get **first** `1<=X<=2M` piles, then `M` is updated to `max(M,X)`\n",
    "initialy `M=1`\n",
    "\n",
    "Return max stones Alice can get.\n",
    "\n",
    "```\n",
    "1<=piles.length<=100\n",
    "1<=piles[i]<=10^4\n",
    "```"
   ]
  },
  {
   "cell_type": "markdown",
   "id": "230c6e83-4ae9-4b7b-9869-6a34381d1373",
   "metadata": {},
   "source": [
    "### Attempt 1"
   ]
  },
  {
   "cell_type": "code",
   "execution_count": 12,
   "id": "c977554e-fbb5-425b-bdb3-546b0691273c",
   "metadata": {},
   "outputs": [],
   "source": [
    "class Solution:\n",
    "    def stoneGameII(self,piles):\n",
    "        n = len(piles)\n",
    "        acc = list(accumulate(piles))\n",
    "        def dfs(i,m):\n",
    "            return acc[n]-acc[i]-min([dfs(i+x,max(x,m)) for x in range(1,2*m+1)])\n",
    "        return dfs(0,1)"
   ]
  },
  {
   "cell_type": "markdown",
   "id": "384f7087-f2f1-496d-a7d0-a4b60a89676c",
   "metadata": {},
   "source": [
    "**mistake**\n",
    "- accumulate is not defined, need to import itertools\n",
    "- accumulate is of length n, not n+1\n",
    "- forgot to test if i is out of range in recursion `i>=n`"
   ]
  },
  {
   "cell_type": "markdown",
   "id": "14c60bc7-e6d6-4cc8-9240-ee8a7d86b583",
   "metadata": {
    "tags": []
   },
   "source": [
    "### Attempt 2"
   ]
  },
  {
   "cell_type": "code",
   "execution_count": 170,
   "id": "47c3df47-760a-4282-9371-6cd36038e157",
   "metadata": {},
   "outputs": [],
   "source": [
    "from itertools import *\n",
    "from functools import *\n",
    "class Solution2:\n",
    "    def stoneGameII(self,piles):\n",
    "        n = len(piles)\n",
    "        acc = [0]+list(accumulate(piles))\n",
    "        @lru_cache(maxsize=None)\n",
    "        def dfs(i,m):\n",
    "            if i>=n:\n",
    "                return 0\n",
    "            # print(i,m,[dfs(i+x,max(x,m)) for x in range(1,(m<<1)+1)])\n",
    "            return acc[n]-acc[i]-min([dfs(i+x,max(x,m)) for x in range(1,(m<<1)+1)])\n",
    "        # for i in range(n):\n",
    "        #     print([dfs(i,m) for m in range(1,n+1)])\n",
    "        # for m in range(n,0,-1):\n",
    "        #     for i in range(n-2,-1,-1):\n",
    "        #         print(m,i,[dfs(i+x,m) for x in range(1,m+1) if i+x<n])\n",
    "            # print([dfs(i+m,m) for m in range(1,n+1)])\n",
    "        return dfs(0,1)"
   ]
  },
  {
   "cell_type": "code",
   "execution_count": 95,
   "id": "4bae496c-f768-4a63-a6a8-40c11b06a8c2",
   "metadata": {},
   "outputs": [
    {
     "name": "stdout",
     "output_type": "stream",
     "text": [
      "5 3 [4]\n",
      "5 2 [8, 4]\n",
      "5 1 [17, 8, 4]\n",
      "5 0 [24, 17, 8, 4]\n",
      "4 3 [4]\n",
      "4 2 [8, 4]\n",
      "4 1 [17, 8, 4]\n",
      "4 0 [24, 17, 8, 4]\n",
      "3 3 [4]\n",
      "3 2 [8, 4]\n",
      "3 1 [17, 8, 4]\n",
      "3 0 [24, 17, 8]\n",
      "2 3 [4]\n",
      "2 2 [8, 4]\n",
      "2 1 [17, 8]\n",
      "2 0 [24, 17]\n",
      "1 3 [4]\n",
      "1 2 [8]\n",
      "1 1 [13]\n",
      "1 0 [16]\n",
      "10\n"
     ]
    }
   ],
   "source": [
    "inp = [\n",
    "    [2,7,9,4,4],\n",
    "    [1,2,3,4,5,100]\n",
    "]\n",
    "for test in inp:\n",
    "    print(Solution().stoneGameII(test))\n",
    "    break\n",
    "# import numpy as np\n",
    "# Solution().stoneGameII(np.random.randint(1,10**4,100))"
   ]
  },
  {
   "cell_type": "markdown",
   "id": "04960afe-1551-413e-82d2-b5ac166a9ce1",
   "metadata": {},
   "source": [
    "### Attempt 3\n",
    "recursive to interative"
   ]
  },
  {
   "cell_type": "code",
   "execution_count": 107,
   "id": "389dd9f4-3090-4b13-8e59-0e6ab364aca8",
   "metadata": {},
   "outputs": [],
   "source": [
    "class Solution:\n",
    "    def stoneGameII(self,piles):\n",
    "        n = len(piles)\n",
    "        acc = [0]+list(accumulate(piles))\n",
    "        dp = [[None]*n for _ in range(n+1)]\n",
    "        for m in range(n,0,-1):\n",
    "            for i in range(n-1,-1,-1):\n",
    "                dp[m][i] = acc[n]-acc[i]-min([dp[i+x][m] for x in range(1,m) if i+x<n]+[dp[i+x][x] for x in range(m,m<<1) if i+x<n and x<=n])\n",
    "        return dp[1][0]"
   ]
  },
  {
   "cell_type": "markdown",
   "id": "6e808eeb-e3d1-4261-97a1-9441958be5e3",
   "metadata": {},
   "source": [
    "**mistake**\n",
    "- min of empty list\n",
    "- list index out of range"
   ]
  },
  {
   "cell_type": "markdown",
   "id": "5cebc7b2-055a-41df-bfe3-4b8ecdfbf168",
   "metadata": {
    "tags": []
   },
   "source": [
    "### Attempt 4"
   ]
  },
  {
   "cell_type": "code",
   "execution_count": null,
   "id": "64636c3e-85ec-4b82-a465-c697b3162602",
   "metadata": {},
   "outputs": [],
   "source": [
    "class Solution:\n",
    "    def stoneGameII(self,piles):\n",
    "        n = len(piles)\n",
    "        acc = [0]+list(accumulate(piles))\n",
    "        dp = [[None]*n for _ in range(n+1)]\n",
    "        for m in range(n,0,-1):\n",
    "            dp[m][n-1] = piles[n-1]\n",
    "            for i in range(n-2,-1,-1):\n",
    "                dp[m][i] = acc[n]-acc[i]-min([dp[m][i+x] for x in range(1,m) if i+x<n]\n",
    "                                             +[dp[x][i+x] for x in range(m,m<<1) if i+x<n and x<=n])\n",
    "        return dp[1][0]"
   ]
  },
  {
   "cell_type": "markdown",
   "id": "cdde9217-ff58-49d9-823b-b6a506b914c1",
   "metadata": {},
   "source": [
    "**mistake**\n",
    "- should allow zero. it's important\n",
    "- uppper limit of range is missed by 1"
   ]
  },
  {
   "cell_type": "markdown",
   "id": "dfd1db0f-4d3b-4ff1-ae46-3ed2cc66ecf8",
   "metadata": {},
   "source": [
    "### Attempt 5"
   ]
  },
  {
   "cell_type": "code",
   "execution_count": 122,
   "id": "28a3666f-09e9-406c-a4dd-d53d24ad07d7",
   "metadata": {},
   "outputs": [],
   "source": [
    "class Solution:\n",
    "    def stoneGameII(self,piles):\n",
    "a"
   ]
  },
  {
   "cell_type": "code",
   "execution_count": 123,
   "id": "1f5f57f1-bab3-43c2-8b06-9ad344dc44da",
   "metadata": {},
   "outputs": [
    {
     "name": "stdout",
     "output_type": "stream",
     "text": [
      "10\n"
     ]
    }
   ],
   "source": [
    "for test in inp:\n",
    "    print(Solution().stoneGameII(test))\n",
    "    break\n",
    "# import numpy as np\n",
    "# Solution().stoneGameII(np.random.randint(1,10**4,100))"
   ]
  },
  {
   "cell_type": "markdown",
   "id": "f4be3247-a687-4680-aecc-efd0bb39da6b",
   "metadata": {},
   "source": [
    "## Optimization\n",
    "### Attempt 6"
   ]
  },
  {
   "cell_type": "code",
   "execution_count": 124,
   "id": "cd1e72b5-289e-43fd-82b8-15b605596a4d",
   "metadata": {},
   "outputs": [],
   "source": [
    "class Solution:\n",
    "    def stoneGameII(self,piles):\n",
    "        n = len(piles)\n",
    "        acc = [0]+list(accumulate(piles))\n",
    "        dp = [[None]*(n+1) for _ in range(n+1)]\n",
    "        f = [[] for _ in range(n+1)]\n",
    "        g = [[] for _ in range(n)]\n",
    "        for m in range(n,0,-1):\n",
    "            dp[m][n] = 0\n",
    "            for i in range(n-1,-1,-1):\n",
    "                f[m].append(dp[m][i+1])\n",
    "                if len(f)>m:\n",
    "                    f.pop(0)\n",
    "                if i+m<=n:\n",
    "                    g[i].append(dp[m][i+m])\n",
    "                if len(g)>m:\n",
    "                    g.pop(0)\n",
    "                dp[m][i] = acc[n]-acc[i]-min(f[m]+g[i])\n",
    "        return dp[1][0]"
   ]
  },
  {
   "cell_type": "markdown",
   "id": "8158c1fd-ea72-4b12-a3b8-32235213352c",
   "metadata": {},
   "source": [
    "**mistake**\n",
    "- list index out of range (`f.pop -> f[m].pop`)"
   ]
  },
  {
   "cell_type": "markdown",
   "id": "3933cfad-f28b-44a0-9e3e-6ef8ff71d6bd",
   "metadata": {
    "tags": []
   },
   "source": [
    "### Attempt 7"
   ]
  },
  {
   "cell_type": "code",
   "execution_count": 164,
   "id": "017a2315-148f-47b0-8314-7d36ae649840",
   "metadata": {},
   "outputs": [],
   "source": [
    "class Solution7:\n",
    "    def stoneGameII(self,piles):\n",
    "        n = len(piles)\n",
    "        acc = [0]+list(accumulate(piles))\n",
    "        dp = [[None]*(n+1) for _ in range(n+1)]\n",
    "        f = [[] for _ in range(n+1)]\n",
    "        g = [[] for _ in range(n)]\n",
    "        for m in range(n,0,-1):\n",
    "            dp[m][n] = 0\n",
    "            for i in range(n-1,-1,-1):\n",
    "                f[m].append(dp[m][i+1])\n",
    "                if len(f[m])>m:\n",
    "                    f[m].pop(0)\n",
    "                if i+m<=n:\n",
    "                    g[i].append(dp[m][i+m])\n",
    "                if len(g[i])>m:\n",
    "                    g[i].pop(0)\n",
    "                dp[m][i] = acc[n]-acc[i]-min(f[m]+g[i])\n",
    "        return dp[1][0]"
   ]
  },
  {
   "cell_type": "markdown",
   "id": "8f686543-f323-43ea-b341-609edcc7d7ef",
   "metadata": {},
   "source": [
    "**mistake**\n",
    "- need to pop more than 1 g\n",
    "- length should be exact. m or m+1?\n",
    "- when length is changed, list index out of range checker should also be updated."
   ]
  },
  {
   "cell_type": "markdown",
   "id": "4194d0f3-08cf-49d3-b56f-ea32802f9edb",
   "metadata": {},
   "source": [
    "### Attempt 8"
   ]
  },
  {
   "cell_type": "code",
   "execution_count": 145,
   "id": "5173def1-d3d8-424d-9602-c835275b52fa",
   "metadata": {},
   "outputs": [],
   "source": [
    "class Solution:\n",
    "    def stoneGameII(self,piles):\n",
    "        n = len(piles)\n",
    "        acc = [0]+list(accumulate(piles))\n",
    "        dp = [[None]*(n+1) for _ in range(n+1)]\n",
    "        f = [[] for _ in range(n+1)]\n",
    "        g = [[] for _ in range(n)]\n",
    "        for m in range(n,0,-1):\n",
    "            dp[m][n] = 0\n",
    "            for i in range(n-1,-1,-1):\n",
    "                f[m].append(dp[m][i+1])\n",
    "                if len(f[m])>m:\n",
    "                    f[m].pop(0)\n",
    "                if i+m+1<=n:\n",
    "                    g[i].append(dp[m+1][i+m+1])\n",
    "                while len(g[i])>m:\n",
    "                    g[i].pop(0)\n",
    "                dp[m][i] = acc[n]-acc[i]-min(f[m]+g[i])\n",
    "        return dp[1][0]"
   ]
  },
  {
   "cell_type": "markdown",
   "id": "d9e124be-5597-437c-806d-238df80c32d6",
   "metadata": {
    "tags": []
   },
   "source": [
    "## Optimization: using monotonic stack"
   ]
  },
  {
   "cell_type": "markdown",
   "id": "c4dfa176-cb5e-4fd8-b034-8aa06c773325",
   "metadata": {},
   "source": [
    "### Attempt 9"
   ]
  },
  {
   "cell_type": "code",
   "execution_count": 165,
   "id": "a37b64a0-8501-4c6d-9edc-28d1eec7645b",
   "metadata": {},
   "outputs": [],
   "source": [
    "class Solution9:\n",
    "    def stoneGameII(self,piles):\n",
    "        n = len(piles)\n",
    "        acc = [0]+list(accumulate(piles))\n",
    "        dp = [[None]*(n+1) for _ in range(n+1)]\n",
    "        f = [[] for _ in range(n+1)]\n",
    "        g = [[] for _ in range(n)]\n",
    "        for m in range(n,0,-1):\n",
    "            dp[m][n] = 0\n",
    "            for i in range(n-1,-1,-1):\n",
    "                newf = dp[m][i+1]\n",
    "                while f[m] and f[m][-1][0]>newf:\n",
    "                    f[m].pop()\n",
    "                if f[m] and f[m][0][1]-i>m:\n",
    "                    f[m].pop(0)\n",
    "                f[m].append((newf,i+1))\n",
    "                if i+m+1<=n:\n",
    "                    newg = dp[m+1][i+m+1]\n",
    "                    while g[i] and g[i][-1][0]>newg:\n",
    "                        g[i].pop()\n",
    "                    while g[i] and g[i][0][1]-m>m:\n",
    "                        g[i].pop(0)\n",
    "                    g[i].append((newg,m+1))\n",
    "                dp[m][i] = acc[n]-acc[i]-min(f[m][0][0],g[i][0][0] if g[i] else float('inf'))\n",
    "        return dp[1][0]"
   ]
  },
  {
   "cell_type": "code",
   "execution_count": 162,
   "id": "be3be016-1f98-4776-b395-c36d77606848",
   "metadata": {},
   "outputs": [
    {
     "name": "stdout",
     "output_type": "stream",
     "text": [
      "10\n"
     ]
    }
   ],
   "source": [
    "for test in inp:\n",
    "    print(Solution().stoneGameII(test))\n",
    "    break"
   ]
  },
  {
   "cell_type": "code",
   "execution_count": 173,
   "id": "c100d4d2-c5fb-4558-b80f-8674b3acb56e",
   "metadata": {},
   "outputs": [
    {
     "name": "stdout",
     "output_type": "stream",
     "text": [
      "1.8295269012451172\n"
     ]
    }
   ],
   "source": [
    "import time\n",
    "for sol in [Solution9]:\n",
    "    t = time.time()\n",
    "    sol().stoneGameII(np.random.randint(1,10**4,1000))\n",
    "    print(time.time()-t)"
   ]
  }
 ],
 "metadata": {
  "kernelspec": {
   "display_name": "Python 3",
   "language": "python",
   "name": "python3"
  },
  "language_info": {
   "codemirror_mode": {
    "name": "ipython",
    "version": 3
   },
   "file_extension": ".py",
   "mimetype": "text/x-python",
   "name": "python",
   "nbconvert_exporter": "python",
   "pygments_lexer": "ipython3",
   "version": "3.9.2"
  }
 },
 "nbformat": 4,
 "nbformat_minor": 5
}
