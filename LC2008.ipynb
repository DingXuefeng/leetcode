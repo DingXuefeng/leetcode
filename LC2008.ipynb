{
 "cells": [
  {
   "cell_type": "markdown",
   "id": "f9c4799c-a0ad-4822-9f99-d0c4b7952bf6",
   "metadata": {},
   "source": [
    "# Maximum earning from taxi"
   ]
  },
  {
   "cell_type": "markdown",
   "id": "632f6adf-f441-4db3-aeeb-baa2bc31f7ea",
   "metadata": {},
   "source": [
    "Drive from left to right. Either empty or full. n stop 0...n-1. m passengers, start from s end at e, earn tip. Trip is [s,e)\n",
    "\n",
    "Get max tip\n",
    "\n",
    "```\n",
    "1<=n<=10**5\n",
    "1<=m<=3**4\n",
    "1<=s[i]<e[i]<=n\n",
    "1<=t[i]<=10**5\n",
    "```"
   ]
  },
  {
   "cell_type": "code",
   "execution_count": 42,
   "id": "3dc06e11-a40b-4f5c-a04d-4366cb07ea8e",
   "metadata": {},
   "outputs": [],
   "source": [
    "from collections import *"
   ]
  },
  {
   "cell_type": "code",
   "execution_count": 43,
   "id": "9b592ef8-ab63-49f2-9454-2aad72e061f5",
   "metadata": {},
   "outputs": [],
   "source": [
    "class Solution:\n",
    "    def maxTaxiEarnings(self,n,rides):\n",
    "        G = [defaultdict(int) for _ in range(n+1)]\n",
    "        for s,e,t in rides:\n",
    "            G[e][s] = max(G[e][s],t+e-s)\n",
    "        dp = [0]*(n+1)\n",
    "        ans = 0\n",
    "        for i in range(1,n+1):\n",
    "            dp[i] = max([ans]+[dp[j]+t for j,t in G[i].items()])\n",
    "            ans = max(ans,dp[i])\n",
    "            # print([t for j,t in G[i].items()],dp)\n",
    "        return ans\n",
    "            "
   ]
  },
  {
   "cell_type": "code",
   "execution_count": 46,
   "id": "64b59e1b-4fb9-4fde-8550-281f508ba770",
   "metadata": {},
   "outputs": [
    {
     "data": {
      "text/plain": [
       "23"
      ]
     },
     "execution_count": 46,
     "metadata": {},
     "output_type": "execute_result"
    }
   ],
   "source": [
    "# Solution().maxTaxiEarnings(20,[[1,6,1],[3,10,2],[10,12,3],[11,12,2],[12,15,2],[13,18,1]])\n",
    "Solution().maxTaxiEarnings(10,[[2,3,6],[8,9,8],[5,9,7],[8,9,1],[2,9,2],[9,10,6],[7,10,10],[6,7,9],[4,9,7],[2,3,1]])"
   ]
  },
  {
   "cell_type": "code",
   "execution_count": 45,
   "id": "dc31410e-1260-4f41-be81-a0017085c8ea",
   "metadata": {},
   "outputs": [],
   "source": [
    "class Solution:\n",
    "    def maxTaxiEarnings(self,n,rides):\n",
    "        rides.sort()\n",
    "        S = [s for s,e,t in rides]\n",
    "        length = len(rides)\n",
    "        dp = [0] * (length + 1)\n",
    "        for i in range(length - 1,-1,-1):\n",
    "            index = bisect_left(S,rides[i][1])\n",
    "            dp[i] = max(dp[i+1],rides[i][2] - rides[i][0] + rides[i][1] + dp[index])\n",
    "        return dp[0]\n",
    "            "
   ]
  },
  {
   "cell_type": "code",
   "execution_count": 48,
   "id": "ecb98ba3-f405-4707-98aa-c7ba953412d3",
   "metadata": {},
   "outputs": [
    {
     "ename": "TypeError",
     "evalue": "'<' not supported between instances of 'tuple' and 'int'",
     "output_type": "error",
     "traceback": [
      "\u001b[0;31m---------------------------------------------------------------------------\u001b[0m",
      "\u001b[0;31mTypeError\u001b[0m                                 Traceback (most recent call last)",
      "\u001b[0;32m<ipython-input-48-6f37b79f3189>\u001b[0m in \u001b[0;36m<module>\u001b[0;34m\u001b[0m\n\u001b[1;32m      1\u001b[0m \u001b[0;32mfrom\u001b[0m \u001b[0mbisect\u001b[0m \u001b[0;32mimport\u001b[0m \u001b[0;34m*\u001b[0m\u001b[0;34m\u001b[0m\u001b[0;34m\u001b[0m\u001b[0m\n\u001b[0;32m----> 2\u001b[0;31m \u001b[0mbisect_left\u001b[0m\u001b[0;34m(\u001b[0m\u001b[0;34m[\u001b[0m\u001b[0;34m(\u001b[0m\u001b[0;36m1\u001b[0m\u001b[0;34m,\u001b[0m\u001b[0;36m2\u001b[0m\u001b[0;34m,\u001b[0m\u001b[0;36m3\u001b[0m\u001b[0;34m)\u001b[0m\u001b[0;34m,\u001b[0m\u001b[0;34m(\u001b[0m\u001b[0;36m3\u001b[0m\u001b[0;34m,\u001b[0m\u001b[0;36m5\u001b[0m\u001b[0;34m,\u001b[0m\u001b[0;36m7\u001b[0m\u001b[0;34m)\u001b[0m\u001b[0;34m,\u001b[0m\u001b[0;34m(\u001b[0m\u001b[0;36m2\u001b[0m\u001b[0;34m,\u001b[0m\u001b[0;36m1\u001b[0m\u001b[0;34m,\u001b[0m\u001b[0;36m6\u001b[0m\u001b[0;34m)\u001b[0m\u001b[0;34m]\u001b[0m\u001b[0;34m,\u001b[0m\u001b[0;36m2\u001b[0m\u001b[0;34m)\u001b[0m\u001b[0;34m\u001b[0m\u001b[0;34m\u001b[0m\u001b[0m\n\u001b[0m",
      "\u001b[0;31mTypeError\u001b[0m: '<' not supported between instances of 'tuple' and 'int'"
     ]
    }
   ],
   "source": [
    "from bisect import *\n",
    "bisect_left([(1,2,3),(3,5,7),(2,1,6)],2)"
   ]
  },
  {
   "cell_type": "code",
   "execution_count": 49,
   "id": "297b23de-d3d1-4272-822b-eb13e483111e",
   "metadata": {},
   "outputs": [
    {
     "name": "stdout",
     "output_type": "stream",
     "text": [
      "9\n",
      "8\n",
      "7\n",
      "6\n",
      "5\n",
      "4\n",
      "3\n",
      "2\n",
      "1\n",
      "0\n"
     ]
    }
   ],
   "source": [
    "for i in reversed(range(10)):\n",
    "    print(i)"
   ]
  },
  {
   "cell_type": "code",
   "execution_count": null,
   "id": "742171a4-26ee-4aea-8c34-d6650664a33e",
   "metadata": {},
   "outputs": [],
   "source": []
  }
 ],
 "metadata": {
  "kernelspec": {
   "display_name": "Python 3",
   "language": "python",
   "name": "python3"
  },
  "language_info": {
   "codemirror_mode": {
    "name": "ipython",
    "version": 3
   },
   "file_extension": ".py",
   "mimetype": "text/x-python",
   "name": "python",
   "nbconvert_exporter": "python",
   "pygments_lexer": "ipython3",
   "version": "3.9.2"
  }
 },
 "nbformat": 4,
 "nbformat_minor": 5
}
