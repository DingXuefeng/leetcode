{
 "cells": [
  {
   "cell_type": "markdown",
   "id": "b0b35a6f-3dd9-4be0-95bb-ea584dee4ef2",
   "metadata": {},
   "source": [
    "# number of sets of K non-overlapping line segments"
   ]
  },
  {
   "cell_type": "markdown",
   "id": "5a165df6-3cc0-4987-a48f-6170940cc816",
   "metadata": {},
   "source": [
    "Given set a = {0...n-1}, find number of ways we can define set b = {(b[j].s,b[j].e)}, where\n",
    "```\n",
    "len(b) ==k, (exactly k segments)\n",
    "len(a & [b[j].s,b[j].e+1])>=2, (at least two from a) \n",
    "b[j].e<=b[k].s if j<k (non-overlapping)\n",
    "b & [0,..n-1] = b (can only take integers, and is less than n)\n",
    "```\n",
    "\n",
    "```\n",
    "2<=n<=1000\n",
    "1<=k<=n-1\n",
    "```"
   ]
  },
  {
   "cell_type": "markdown",
   "id": "eb758a45-d734-48e1-8c50-de124f88a474",
   "metadata": {},
   "source": [
    "## Idea\n",
    "\n",
    "```\n",
    "dp: last point is n\n",
    "need sum(dp(j,k), j = 0..n)\n",
    "\n",
    "dp(n,k) = sum(dp(j,k-1), j+1-n is last seg. n-(j+1)+1>=2 => j<=n-2)\n",
    "dp(n,k) = dp(0,k-1)+..+dp(n-3,k-1)\n",
    "dp(n-1,k) = dp(...)+dp(n-4,k-1)\n",
    "=> dp(n,k) = dp(n-1,k)+dp(n-3,k-1) (left to right)\n",
    "dp = 0, if n<(k>>1)\n",
    "dp = 1 if n==k>>1\n",
    "k=1: dp = n*(n-1)/2\n",
    "```"
   ]
  },
  {
   "cell_type": "code",
   "execution_count": 49,
   "id": "8e83518b-01db-41d8-a066-6f63e0233f44",
   "metadata": {},
   "outputs": [],
   "source": [
    "from functools import *\n",
    "class Solution:\n",
    "    def numberOfSets(self,n,k):\n",
    "        mod = 10**9+7\n",
    "        @lru_cache(maxsize=None)\n",
    "        def dfs(n,k):\n",
    "            if n<k+1:\n",
    "                return 0\n",
    "            if n==k+1:\n",
    "                return 1\n",
    "            if k==1:\n",
    "                return n-1\n",
    "            return sum([(dfs(na,1)*dfs(n-na+1,k-1))%mod for na in range(2,n+1)])%mod\n",
    "        return sum([dfs(na,k) for na in range(n+1)])%mod"
   ]
  },
  {
   "cell_type": "code",
   "execution_count": 51,
   "id": "035b5725-e9d8-4eae-8eae-06eb422a9325",
   "metadata": {},
   "outputs": [],
   "source": [
    "inp = [\n",
    "    [100,1,4950],\n",
    "    [100,99,1],\n",
    "    [3,2,1],\n",
    "    [5,4,1],\n",
    "    [4,2,5],\n",
    "    [3,1,3],\n",
    "    [30,7,796297179],\n",
    "]\n",
    "for n,k,o in inp:\n",
    "    t= Solution().numberOfSets(n,k)\n",
    "    if t!=o:\n",
    "        print(n,k,t,o)"
   ]
  },
  {
   "cell_type": "code",
   "execution_count": 52,
   "id": "9d6b4788-09dd-4847-a89e-2fb0f3e4f623",
   "metadata": {},
   "outputs": [],
   "source": [
    "class Solution:\n",
    "    def numberOfSets(self,n,k):\n",
    "        return math.comb(n+k-1,k<<1)"
   ]
  },
  {
   "cell_type": "code",
   "execution_count": null,
   "id": "eba47fa7-fdf1-4247-ba2b-08035fee7d30",
   "metadata": {},
   "outputs": [],
   "source": []
  }
 ],
 "metadata": {
  "kernelspec": {
   "display_name": "Python 3",
   "language": "python",
   "name": "python3"
  },
  "language_info": {
   "codemirror_mode": {
    "name": "ipython",
    "version": 3
   },
   "file_extension": ".py",
   "mimetype": "text/x-python",
   "name": "python",
   "nbconvert_exporter": "python",
   "pygments_lexer": "ipython3",
   "version": "3.9.2"
  }
 },
 "nbformat": 4,
 "nbformat_minor": 5
}
