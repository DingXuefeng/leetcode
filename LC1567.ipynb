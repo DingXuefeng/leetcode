{
 "cells": [
  {
   "cell_type": "markdown",
   "id": "6e7ecd55-09d0-4dcd-93a4-6146f7a9360d",
   "metadata": {},
   "source": [
    "# maximum length of subarray with positive product"
   ]
  },
  {
   "cell_type": "markdown",
   "id": "5c2d4bc0-d46a-4ef6-88f7-169e7c441c7c",
   "metadata": {},
   "source": [
    "0<=len(subarray)<=array.length\n",
    "\n",
    "```\n",
    "1<=nums.length<=10**5\n",
    "-10**9<=nums[i]<=10**9\n",
    "```"
   ]
  },
  {
   "cell_type": "code",
   "execution_count": 15,
   "id": "f9b3053c-6689-4ac8-b502-b88ede58c21e",
   "metadata": {},
   "outputs": [],
   "source": [
    "class Solution:\n",
    "    def getMaxLen(self,nums):\n",
    "        ap,an = 0,0\n",
    "        ans = 0\n",
    "        for a in nums:\n",
    "            if a>0:\n",
    "                ap,an = ap+1,an+1\n",
    "            elif a<0:\n",
    "                ap,an = an+1,ap+1\n",
    "            else:\n",
    "                ap,an = 0,0\n",
    "            ans = max(ans,ap)\n",
    "        return ans"
   ]
  },
  {
   "cell_type": "markdown",
   "id": "710d7c54-bb66-4110-b654-d06ee7ead898",
   "metadata": {},
   "source": [
    "**mistake**\n",
    "- starting point not correct. should be 0,float(-inf), not 0\n",
    "- forgot the option of selecting itself, only."
   ]
  },
  {
   "cell_type": "code",
   "execution_count": null,
   "id": "b978034b-023c-4536-9a7a-d7a332a81755",
   "metadata": {},
   "outputs": [
    {
     "name": "stdout",
     "output_type": "stream",
     "text": [
      "1 -inf 1 1\n",
      "-inf 2 -2 1\n",
      "3 1 -3 3\n",
      "4 2 4 4\n",
      "pass\n",
      "0 -inf 0 0\n",
      "1 -inf 1 1\n",
      "-inf 2 -2 1\n",
      "3 1 -3 3\n",
      "2 4 -4 3\n",
      "pass\n",
      "-inf 1 -1 0\n",
      "2 1 -2 2\n",
      "2 3 -3 2\n",
      "0 -inf 0 2\n",
      "1 -inf 1 2\n",
      "pass\n",
      "-inf 1 -1 0\n",
      "1 2 2 1\n",
      "pass\n"
     ]
    }
   ],
   "source": [
    "inps = [\n",
    "    [[1,-2,-3,4],4],\n",
    "    [[0,1,-2,-3,-4],3],\n",
    "    [[-1,-2,-3,0,1],2],\n",
    "    [[-1,2]\n",
    "]\n",
    "    \n",
    "for inp,out in inps:\n",
    "    test = Solution().getMaxLen(inp)\n",
    "    if test==out:\n",
    "        print('pass')\n",
    "    else:\n",
    "        print(f'fail {test} {out}')"
   ]
  },
  {
   "cell_type": "code",
   "execution_count": 19,
   "id": "681501f1-cdda-4bbc-aba2-3f21e15c5cee",
   "metadata": {},
   "outputs": [],
   "source": [
    "class Solution:\n",
    "    def getMaxLen(self,nums):\n",
    "        p,n = 0,float('-inf')\n",
    "        ans = 0\n",
    "        for a in nums:\n",
    "            if a>0:\n",
    "                p,n = max(p+1,1),n+1\n",
    "            elif a<0:\n",
    "                p,n = n+1,max(p+1,1)\n",
    "            else:\n",
    "                p,n = 0,float('-inf')\n",
    "            ans = max(ans,p)\n",
    "        return ans"
   ]
  },
  {
   "cell_type": "code",
   "execution_count": 20,
   "id": "691b24a0-45d9-4e17-b290-4ad7b9c3c347",
   "metadata": {},
   "outputs": [
    {
     "name": "stdout",
     "output_type": "stream",
     "text": [
      "pass\n",
      "pass\n",
      "pass\n",
      "pass\n"
     ]
    }
   ],
   "source": [
    "inps = [\n",
    "    [[1,-2,-3,4],4],\n",
    "    [[0,1,-2,-3,-4],3],\n",
    "    [[-1,-2,-3,0,1],2],\n",
    "    [[-1,2],1]\n",
    "]\n",
    "    \n",
    "for inp,out in inps:\n",
    "    test = Solution().getMaxLen(inp)\n",
    "    if test==out:\n",
    "        print('pass')\n",
    "    else:\n",
    "        print(f'fail {test} {out}')"
   ]
  },
  {
   "cell_type": "code",
   "execution_count": null,
   "id": "eb35a1a2-2b68-442c-8dc4-4499b804fd0f",
   "metadata": {},
   "outputs": [],
   "source": []
  }
 ],
 "metadata": {
  "kernelspec": {
   "display_name": "Python 3",
   "language": "python",
   "name": "python3"
  },
  "language_info": {
   "codemirror_mode": {
    "name": "ipython",
    "version": 3
   },
   "file_extension": ".py",
   "mimetype": "text/x-python",
   "name": "python",
   "nbconvert_exporter": "python",
   "pygments_lexer": "ipython3",
   "version": "3.9.2"
  }
 },
 "nbformat": 4,
 "nbformat_minor": 5
}
