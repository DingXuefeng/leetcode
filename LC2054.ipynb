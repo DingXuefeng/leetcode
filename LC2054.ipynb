{
 "cells": [
  {
   "cell_type": "markdown",
   "id": "99a72fc1-1d45-49ff-930c-9eb3ddba8c2d",
   "metadata": {},
   "source": [
    "# two best event"
   ]
  },
  {
   "cell_type": "markdown",
   "id": "0c0be7d6-83f1-4dca-8c1f-feb95a20118d",
   "metadata": {},
   "source": [
    "Given s,e,v, find two from the zip arrays such that s[i]<=e[i]<s[j]<=e[j] and v[i]+v[j] is maximum\n",
    "\n",
    "```\n",
    "2<=events.len<=10**5\n",
    "1<=s[i]<=e[i]<=10**9\n",
    "1<=v[i]<=10**6\n",
    "```"
   ]
  },
  {
   "cell_type": "markdown",
   "id": "9060da02-0383-49f0-b058-6e7ceb78dab7",
   "metadata": {},
   "source": [
    "## Idea\n",
    "\n",
    "sort by e[i], loop over j<i, find maximum v where e[j]<s[i]"
   ]
  },
  {
   "cell_type": "code",
   "execution_count": 1,
   "id": "4cc688ec-868b-45aa-bf12-b69b19e6800d",
   "metadata": {},
   "outputs": [],
   "source": [
    "class Fenwick:\n",
    "    def __init__(self,n):\n",
    "        self.n = n\n",
    "        self.data = [0]*(n+1)\n",
    "    def update(self,u,m):\n",
    "        while u<=self.n:\n",
    "            self.data[u] = max(self.data[u],m)\n",
    "            u += u&-u\n",
    "    def q(self,u):\n",
    "        ans = 0\n",
    "        while u>0:\n",
    "            ans = max(ans,self.data[u])\n",
    "            u -= u&-u\n",
    "        return ans\n",
    "class Solution:\n",
    "    def maxTwoEvents(self,events):\n",
    "        digi = {x:i+1 for i,x in enumerate(set([y for x in events for y in x[:2]]))}\n",
    "        BIT = Fenwick(len(digi))\n",
    "        ans = 0\n",
    "        for s,e,v in events:\n",
    "            ans = max(ans,v+BIT.q(digi[s]-1))\n",
    "            BIT.update(e,v)\n",
    "        return ans"
   ]
  },
  {
   "cell_type": "code",
   "execution_count": 3,
   "id": "e95e8dfd-cb45-4f5b-80fc-f5251f719284",
   "metadata": {},
   "outputs": [],
   "source": [
    "class Solution:\n",
    "    def maxTwoEvents(self,events):\n",
    "        digi = {x:i+1 for i,x in enumerate(sorted(set([y for x in events for y in x[:2]])))}\n",
    "        n = len(digi)\n",
    "        data = [0]*(n+1)\n",
    "        ans = 0\n",
    "        for s,e,v in events:\n",
    "            u,p = digi[s]-1,0\n",
    "            while u>0:\n",
    "                p = max(p,data[u])\n",
    "                u -= u&-u\n",
    "            ans = max(ans,v+p)\n",
    "            u = e\n",
    "            while u<=n:\n",
    "                data[u] = max(data[u],v)\n",
    "                u += u&-u\n",
    "        return ans"
   ]
  },
  {
   "cell_type": "code",
   "execution_count": 5,
   "id": "6d70bc01-7e9a-4f0e-82f3-f9bc34ed787f",
   "metadata": {},
   "outputs": [],
   "source": [
    "class Solution:\n",
    "    def maxTwoEvents(self,events):\n",
    "        events = sorted(events,key=lambda x: x[1])\n",
    "        digi = {x:i+1 for i,x in enumerate(sorted(set([y for x in events for y in x[:2]])))}\n",
    "        n = len(digi)\n",
    "        data = [0]*(n+1)\n",
    "        ans = 0\n",
    "        for s,e,v in events:\n",
    "            u,p = digi[s]-1,0\n",
    "            while u>0:\n",
    "                p = max(p,data[u])\n",
    "                u -= u&-u\n",
    "            ans = max(ans,v+p)\n",
    "            u = digi[e]\n",
    "            while u<=n:\n",
    "                data[u] = max(data[u],v)\n",
    "                u += u&-u\n",
    "        return ans\n",
    "            "
   ]
  },
  {
   "cell_type": "markdown",
   "id": "afd6e925-790a-42db-863c-a05da38402e1",
   "metadata": {},
   "source": [
    "**AC**"
   ]
  },
  {
   "cell_type": "code",
   "execution_count": 18,
   "id": "b50aaf2a-42db-430e-93c4-42f9bf52a7e8",
   "metadata": {},
   "outputs": [],
   "source": [
    "class Solution:\n",
    "    def maxTwoEvents(self,events):\n",
    "        events = sorted(events,key=lambda x:x[1])\n",
    "        maxv = SortedDict([])\n",
    "        vmax = 0\n",
    "        ans = 0\n",
    "        for s,e,v in events:\n",
    "            pos = maxv.bisect_left(s)\n",
    "            if pos>0:\n",
    "                ans = max(ans,v+maxv[maxv.keys()[pos-1]])\n",
    "            vmax = max(vmax,v)\n",
    "            maxv[e] = vmax\n",
    "        return ans"
   ]
  },
  {
   "cell_type": "code",
   "execution_count": 22,
   "id": "4533294c-c1b0-4695-a008-6456b6e0aa09",
   "metadata": {},
   "outputs": [],
   "source": [
    "from sortedcontainers import *\n",
    "class Solution:\n",
    "    def maxTwoEvents(self,events):\n",
    "        maxv = SortedDict()\n",
    "        ans = 0\n",
    "        vmax = 0\n",
    "        for s,e,v in events:\n",
    "            pos = maxv.bisect_left(s)\n",
    "            if pos>0:\n",
    "                ans = max(ans,v+maxv[maxv.keys()[pos-1]])\n",
    "            else:\n",
    "                ans = max(ans,v)\n",
    "            vmax = max(vmax,v)\n",
    "            maxv[e] = vmax\n",
    "        return ans"
   ]
  },
  {
   "cell_type": "code",
   "execution_count": 25,
   "id": "8fc9f8cd-9b48-4924-8702-72183c3c6778",
   "metadata": {},
   "outputs": [],
   "source": [
    "class Solution:\n",
    "    def maxTwoEvents(self,events):\n",
    "        events = sorted(events,key=operator.itemgetter(1))\n",
    "        maxv = SortedDict()\n",
    "        ans = 0\n",
    "        vmax = 0\n",
    "        for s,e,v in events:\n",
    "            pos = maxv.bisect_left(s)\n",
    "            if pos>0:\n",
    "                ans = max(ans,maxv[maxv.keys()[pos-1]]+v)\n",
    "            else:\n",
    "                ans = max(ans,v)\n",
    "            vmax = max(vmax,v)\n",
    "            maxv[e] = vmax\n",
    "        return ans"
   ]
  },
  {
   "cell_type": "markdown",
   "id": "d178a04d-53ab-447a-849d-977c9cf57bfd",
   "metadata": {},
   "source": [
    "**AC**"
   ]
  },
  {
   "cell_type": "code",
   "execution_count": 28,
   "id": "e6a00a13-62f4-4ab2-bc51-8af1c2e45d5c",
   "metadata": {},
   "outputs": [],
   "source": [
    "from heapq import *"
   ]
  },
  {
   "cell_type": "code",
   "execution_count": 41,
   "id": "7ed64284-d535-4079-9846-a5da15cc9d03",
   "metadata": {},
   "outputs": [],
   "source": [
    "class Solution:\n",
    "    def maxTwoEvents(self,events):\n",
    "        events = sorted(events)\n",
    "        heap = [(float('inf'),0)]\n",
    "        ans = 0\n",
    "        vmax = 0\n",
    "        for s,e,v in events:\n",
    "            while heap[0][0]<s:\n",
    "                vmax = max(vmax,heappop(heap)[1])\n",
    "            ans = max(ans,v+vmax)\n",
    "            heappush(heap,(e,v))\n",
    "        return ans"
   ]
  },
  {
   "cell_type": "code",
   "execution_count": 43,
   "id": "dae6fb51-3129-464d-b8bb-9b8768671174",
   "metadata": {},
   "outputs": [],
   "source": [
    "class Solution:\n",
    "    def maxTwoEvents(self,events):\n",
    "        events = sorted(events)\n",
    "        heap = [(float('inf'),0)]\n",
    "        ans = 0\n",
    "        vmax = 0\n",
    "        for s,e,v in events:\n",
    "            while heap[0][0]<s:\n",
    "                vmax = max(vmax,heappop(heap)[1])\n",
    "            ans = max(ans,v+vmax)\n",
    "            heappush((e,v))\n",
    "        return ans"
   ]
  },
  {
   "cell_type": "code",
   "execution_count": 46,
   "id": "dac88b36-64d5-4425-809b-9051f2d27e5f",
   "metadata": {},
   "outputs": [],
   "source": [
    "class Solution:\n",
    "    def maxTwoEvents(self,events):\n",
    "        events = sorted(events)\n",
    "        heap = [(float('inf'),0)]\n",
    "        ans = 0\n",
    "        vmax = 0\n",
    "        for s,e,v in events:\n",
    "            while heap[0][0]<s:\n",
    "                vmax = max(vmax,heappop(heap)[1])\n",
    "            ans = max(ans,v+vmax)\n",
    "            heappush(heap,(e,v))\n",
    "        return ans"
   ]
  },
  {
   "cell_type": "markdown",
   "id": "a138438c-cd35-4fcc-b21c-81d1d1646ac5",
   "metadata": {},
   "source": [
    "**AC**"
   ]
  },
  {
   "cell_type": "code",
   "execution_count": 54,
   "id": "abf3de71-fa6d-47dd-b256-1b20f03c473c",
   "metadata": {},
   "outputs": [],
   "source": [
    "class Solution:\n",
    "    def maxTwoEvents(self,events):\n",
    "        events = sorted(events)\n",
    "        stack = [(float('inf'),None)]\n",
    "        ans = 0\n",
    "        vmax = 0\n",
    "        for s,e,v in events:\n",
    "            while stack[-1][0]<s:\n",
    "                vmax = max(vmax,stack.pop()[1])\n",
    "            print(s,e,vmax,stack,v)\n",
    "            ans = max(ans,v+vmax)\n",
    "            stack.append((e,v))\n",
    "        return ans"
   ]
  },
  {
   "cell_type": "markdown",
   "id": "850bc96a-a984-4c47-90b1-f22bbae3543b",
   "metadata": {},
   "source": [
    "**AC**"
   ]
  },
  {
   "cell_type": "code",
   "execution_count": 55,
   "id": "2022c1a2-8794-46ad-a202-9ea4b4566758",
   "metadata": {},
   "outputs": [
    {
     "name": "stdout",
     "output_type": "stream",
     "text": [
      "1 3 0 [(inf, None)] 2\n",
      "2 4 0 [(inf, None), (3, 2)] 2\n",
      "4 5 0 [(inf, None), (3, 2), (4, 2)] 2\n"
     ]
    },
    {
     "data": {
      "text/plain": [
       "2"
      ]
     },
     "execution_count": 55,
     "metadata": {},
     "output_type": "execute_result"
    }
   ],
   "source": [
    "Solution().maxTwoEvents([[1,3,2],[4,5,2],[2,4,2]])"
   ]
  },
  {
   "cell_type": "code",
   "execution_count": 14,
   "id": "cd0dcba5-c423-4038-8f62-2a70937ff2e0",
   "metadata": {},
   "outputs": [
    {
     "data": {
      "text/plain": [
       "1"
      ]
     },
     "execution_count": 14,
     "metadata": {},
     "output_type": "execute_result"
    }
   ],
   "source": [
    "from sortedcontainers import *\n",
    "from bisect import *\n",
    "a = SortedDict({99:2,130:3})\n",
    "a.bisect_left(200)\n",
    "bisect_left(a.keys(),100)"
   ]
  },
  {
   "cell_type": "code",
   "execution_count": null,
   "id": "fffd5e78-6469-4bb6-bf4c-537f21bcdab6",
   "metadata": {},
   "outputs": [
    {
     "data": {
      "text/plain": [
       "4"
      ]
     },
     "execution_count": 20,
     "metadata": {},
     "output_type": "execute_result"
    }
   ],
   "source": [
    "Solution().maxTwoEvents("
   ]
  }
 ],
 "metadata": {
  "kernelspec": {
   "display_name": "Python 3",
   "language": "python",
   "name": "python3"
  },
  "language_info": {
   "codemirror_mode": {
    "name": "ipython",
    "version": 3
   },
   "file_extension": ".py",
   "mimetype": "text/x-python",
   "name": "python",
   "nbconvert_exporter": "python",
   "pygments_lexer": "ipython3",
   "version": "3.9.2"
  }
 },
 "nbformat": 4,
 "nbformat_minor": 5
}
