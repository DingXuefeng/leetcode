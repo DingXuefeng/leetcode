{
 "cells": [
  {
   "cell_type": "markdown",
   "id": "18b99bc7-bdb8-40a5-9a20-cf18af847e48",
   "metadata": {},
   "source": [
    "# Count suqare submatrix with all ones"
   ]
  },
  {
   "cell_type": "markdown",
   "id": "a6523d0a-30e9-410d-a55c-a098a64ff4c3",
   "metadata": {},
   "source": [
    "Given a matrix, count all square submatrix with all ones\n",
    "\n",
    "constraints\n",
    "```\n",
    "1<=arr.length<=300\n",
    "1<=arr[0].length<=300\n",
    "0<=arr[i][j]<=1\n",
    "```"
   ]
  },
  {
   "cell_type": "markdown",
   "id": "1412d3e9-a63c-4ec5-8162-a856683a2135",
   "metadata": {},
   "source": [
    "## DP\n",
    "```\n",
    "dp[i][j] = min(dpL[i][j-1],dpT[i-1][j],dp[i-1][j-1])+1\n",
    "```"
   ]
  },
  {
   "cell_type": "markdown",
   "id": "7325b23c-9a50-4bd6-a46a-56567649e8d5",
   "metadata": {},
   "source": [
    "### Attempt 1"
   ]
  },
  {
   "cell_type": "code",
   "execution_count": null,
   "id": "f857f436-cf9a-401d-b344-1fa12cf58632",
   "metadata": {},
   "outputs": [],
   "source": [
    "class Solution:\n",
    "    def countSquares(self,matrix):\n",
    "        rows,cols = len(matrix),len(matrix[0])\n",
    "        dpL = [[0]*(cols+1) for _ in range(rows+1)]\n",
    "        dpT = [[0]*(cols+1) for _ in range(rows+1)]        \n",
    "        dp = [[0]*(cols+1) for _ in range(rows+1)]\n",
    "        ans = 0\n",
    "        for i in range(1,rows+1):\n",
    "            for j in range(1,cols+1):\n",
    "                if matrix[i][j]:\n",
    "                    dpL[i][j] = dp[i][j-1]+1\n",
    "                    dpT[i][j] = dpT[i-1][j]+1\n",
    "                    dp[i][j] = min(dp[i-1][j-1],dpL[i][j-1],dpT[i-1][j])+1\n",
    "                    ans += dp[i][j]\n",
    "        return ans"
   ]
  },
  {
   "cell_type": "markdown",
   "id": "fb9d6692-302d-4ef6-b26f-5a7dc9423d80",
   "metadata": {},
   "source": [
    "**mistake**\n",
    "- matrix[i][j] is out of range. use i-1 and j-1"
   ]
  },
  {
   "cell_type": "markdown",
   "id": "bae94d52-5e80-446e-aa98-d28120e805ae",
   "metadata": {},
   "source": [
    "### Attempt 2"
   ]
  },
  {
   "cell_type": "code",
   "execution_count": 2,
   "id": "83b9487f-0681-4f42-b3ec-6268a74c2a76",
   "metadata": {},
   "outputs": [],
   "source": [
    "class Solution:\n",
    "    def countSquares(self,matrix):\n",
    "        rows,cols = len(matrix),len(matrix[0])\n",
    "        dpL = [[0]*(cols+1) for _ in range(rows+1)]\n",
    "        dpT = [[0]*(cols+1) for _ in range(rows+1)]\n",
    "        dp = [[0]*(cols+1) for _ in range(rows+1)]\n",
    "        ans = 0\n",
    "        for i in range(1,rows+1):\n",
    "            for j in range(1,cols+1):\n",
    "                if matrix[i-1][j-1]:\n",
    "                    dpL[i][j] = dpL[i][j-1]+1\n",
    "                    dpT[i][j] = dpT[i-1][j]+1\n",
    "                    dp[i][j] = min(dpL[i][j-1],dpT[i][j-1],dp[i-1][j-1])+1\n",
    "                    ans += dp[i][j]\n",
    "        print(dp)\n",
    "        return ans"
   ]
  },
  {
   "cell_type": "markdown",
   "id": "b6d4c318-ed94-460b-be96-637d402e9f0d",
   "metadata": {},
   "source": [
    "**mistake**\n",
    "- dpT[i-1][j], not dpT[i][j-1]"
   ]
  },
  {
   "cell_type": "code",
   "execution_count": 3,
   "id": "2f18f094-7f8a-40e5-985f-c54051b3525a",
   "metadata": {},
   "outputs": [
    {
     "name": "stdout",
     "output_type": "stream",
     "text": [
      "[[0, 0, 0, 0], [0, 1, 0, 1], [0, 1, 2, 0], [0, 1, 2, 0]]\n"
     ]
    },
    {
     "data": {
      "text/plain": [
       "8"
      ]
     },
     "execution_count": 3,
     "metadata": {},
     "output_type": "execute_result"
    }
   ],
   "source": [
    "Solution().countSquares([[1,0,1],[1,1,0],[1,1,0]])"
   ]
  },
  {
   "cell_type": "markdown",
   "id": "6646240a-615a-4529-b2a6-eda701ef09ae",
   "metadata": {},
   "source": [
    "### Attempt 3"
   ]
  },
  {
   "cell_type": "code",
   "execution_count": null,
   "id": "22eeee6d-4d03-4483-9cae-44ee3ab3dac6",
   "metadata": {},
   "outputs": [],
   "source": [
    "class Solution:\n",
    "    def countSquares(self,matrix):\n",
    "        rows,cols = len(matrix),len(matrix[0])\n",
    "        dp = [[0]*(cols+1) for _ in range(rows+1)]\n",
    "        dpT = [[0]*(cols+1) for _ in range(rows+1)]\n",
    "        dpL = [[0]*(cols+1) for _ in range(rows+1)]\n",
    "        ans = 0\n",
    "        for i in range(1,rows+1):\n",
    "            for j in range(1,cols+1):\n",
    "                if matrix[i-1][j-1]:\n",
    "                    dpT[i][j] = dpT[i-1][j]+1\n",
    "                    dpL[i][j] = dpL[i][j-1]+1\n",
    "                    dp[i][j] = min(dpT[i-1][j],dpL[i][j-1],dp[i-1][j-1])+1\n",
    "                    ans += dp[i][j]\n",
    "        return ans     "
   ]
  },
  {
   "cell_type": "markdown",
   "id": "c2f63a82-459a-4bf8-9353-d83985824dad",
   "metadata": {},
   "source": [
    "**AC**"
   ]
  },
  {
   "cell_type": "markdown",
   "id": "68e9fe7e-a3b1-4962-bea5-c26d6730e081",
   "metadata": {},
   "source": [
    "### Attempt 4"
   ]
  },
  {
   "cell_type": "code",
   "execution_count": 4,
   "id": "9501d538-1773-4d35-a964-3a33d43b844f",
   "metadata": {},
   "outputs": [],
   "source": [
    "class Solution:\n",
    "    def countSquares(self,matrix):\n",
    "        rows,cols = len(matrix),len(matrix[0])\n",
    "        for i in range(1,rows):\n",
    "            for j in range(1,cols):\n",
    "                if matrix[i][j]:\n",
    "                    matrix[i][j] = min(matrix[i-1][j],matrix[i][j-1],matrix[i-1][j-1])+1\n",
    "        return maxtrix[rows-1][cols-1]"
   ]
  },
  {
   "cell_type": "markdown",
   "id": "68996fb5-96ec-4a8e-9dc9-3412dac66ac0",
   "metadata": {},
   "source": [
    "**mistake**\n",
    "- return wrong quantity"
   ]
  },
  {
   "cell_type": "markdown",
   "id": "cd9d150d-13bc-4f17-af95-bf7fcd3fed0a",
   "metadata": {},
   "source": [
    "### Attempt 5"
   ]
  },
  {
   "cell_type": "code",
   "execution_count": null,
   "id": "121db258-4c09-4ef8-b33d-22ce900c0db9",
   "metadata": {},
   "outputs": [],
   "source": [
    "class Solution:\n",
    "    def countSquares(self,matrix):\n",
    "        rows,cols = len(matrix),len(matrix[0])\n",
    "        for i in range(1,rows):\n",
    "            for j in range(1,cols):\n",
    "                if matrix[i][j]:\n",
    "                    matrix[i][j] = min(matrix[i-1][j],matrix[i][j-1],matrix[i-1][j-1])+1\n",
    "        return sum([sum(row) for row in matrix])"
   ]
  },
  {
   "cell_type": "markdown",
   "id": "d9336324-4966-45f1-8192-3a417009d9d0",
   "metadata": {},
   "source": [
    "**AC**"
   ]
  },
  {
   "cell_type": "code",
   "execution_count": null,
   "id": "9abadf25-1fa0-458f-9776-b8855ba2cf3a",
   "metadata": {},
   "outputs": [],
   "source": []
  }
 ],
 "metadata": {
  "kernelspec": {
   "display_name": "Python 3",
   "language": "python",
   "name": "python3"
  },
  "language_info": {
   "codemirror_mode": {
    "name": "ipython",
    "version": 3
   },
   "file_extension": ".py",
   "mimetype": "text/x-python",
   "name": "python",
   "nbconvert_exporter": "python",
   "pygments_lexer": "ipython3",
   "version": "3.9.2"
  }
 },
 "nbformat": 4,
 "nbformat_minor": 5
}
