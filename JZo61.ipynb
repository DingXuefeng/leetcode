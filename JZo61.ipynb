{
 "cells": [
  {
   "cell_type": "markdown",
   "id": "efbc096c-a1fa-4d7c-b5a9-65def2c4cec6",
   "metadata": {},
   "source": [
    "# juedge if it's a series"
   ]
  },
  {
   "cell_type": "markdown",
   "id": "79124cfb-0a19-46ac-b30c-9848f7c224a6",
   "metadata": {},
   "source": [
    "given an array of poke, test if it's a straight.\n",
    "```\n",
    "'A' = 1 (so A,2,3,4,5 is a straight, not 10,J,Q,K,A)\n",
    "'J' = 11\n",
    "'Q' = 12\n",
    "'K' = 13\n",
    "0 = joker = any number\n",
    "```\n",
    "\n",
    "constraints\n",
    "```\n",
    "arr.length==5\n",
    "```"
   ]
  },
  {
   "cell_type": "markdown",
   "id": "8bf36c42-c1ba-4b41-b442-54b31baf6d6f",
   "metadata": {},
   "source": [
    "### Attempt 1"
   ]
  },
  {
   "cell_type": "code",
   "execution_count": null,
   "id": "a242b85d-147f-4bd1-8b5e-a3c2f23e2e09",
   "metadata": {},
   "outputs": [],
   "source": [
    "class Solution:\n",
    "    def isStraight(self,nums: list[int]) -> bool:\n",
    "        i0,a0 = None,None\n",
    "        diff = None\n",
    "        for i,k in nums:\n",
    "            if k!=0:\n",
    "                if a0 is None:\n",
    "                    i0,a0 = i,k\n",
    "                elif diff is None:\n",
    "                    if (k-a0)%(i-i0):\n",
    "                        diff = (k-a0)//(i-i0)\n",
    "                    else:\n",
    "                        return False\n",
    "                elif k!=a0+(i-i0)*diff:\n",
    "                    return False\n",
    "        return True\n"
   ]
  },
  {
   "cell_type": "markdown",
   "id": "f8035bdb-f2c3-49f8-b1ad-63e60820ce94",
   "metadata": {},
   "source": [
    "**mistake**\n",
    "- forgot to add `enumerate`\n",
    "- if ... % ==0"
   ]
  },
  {
   "cell_type": "markdown",
   "id": "6cb3e0db-d687-48d7-ae0b-55901e5f8056",
   "metadata": {},
   "source": [
    "### Attempt 2"
   ]
  },
  {
   "cell_type": "code",
   "execution_count": null,
   "id": "d6215664-011e-4a7f-814d-a5cc6096cbd9",
   "metadata": {},
   "outputs": [],
   "source": [
    "class Solution:\n",
    "    def isStraight(self,nums):\n",
    "        i0,a0 = None,None\n",
    "        diff = None\n",
    "        for i,k in enumerate(nums):\n",
    "            if a0 is None:\n",
    "                i0,a0 = i,k\n",
    "            elif diff is None:\n",
    "                if (k-a0)%(i-i0)==0:\n",
    "                    diff = (k-a0)//(i-i0)\n",
    "                else:\n",
    "                    return False\n",
    "            elif k!=a0+(i-i0)*diff:\n",
    "                return False\n",
    "        return True\n",
    "            "
   ]
  },
  {
   "cell_type": "markdown",
   "id": "2201b6fd-ad40-4b10-bcc9-79465c9ef08c",
   "metadata": {},
   "source": [
    "**mistake**\n",
    "- `1 3 2 4 5` is also straight.\n",
    "- `2 4 6 8 J` is not stright."
   ]
  },
  {
   "cell_type": "markdown",
   "id": "2492d776-509e-4a8a-a15e-400c65471fc5",
   "metadata": {},
   "source": [
    "### Attempt 3"
   ]
  },
  {
   "cell_type": "code",
   "execution_count": null,
   "id": "b0ec9a00-def4-4a82-ad56-775b351fc092",
   "metadata": {},
   "outputs": [],
   "source": [
    "class Solution:\n",
    "    def isStraight(self,nums):\n",
    "        nums = sorted(nums)\n",
    "        nmissing = 0\n",
    "        nzero = 0\n",
    "        for i in range(4):\n",
    "            nmissing += nums[i+1]-nums[i]-1\n",
    "            nzero += 1 if nums[i]==0 else 0\n",
    "        return nmissing<=nzero"
   ]
  },
  {
   "cell_type": "markdown",
   "id": "36f1e17b-8b5a-4657-aeee-df53434d3f61",
   "metadata": {},
   "source": [
    "**mistake**\n",
    "- `nums[i+1]-nums[i]-1` can be -1"
   ]
  },
  {
   "cell_type": "markdown",
   "id": "06c87d58-fede-4f8c-af26-8106fdddea0a",
   "metadata": {},
   "source": [
    "### Attempt 4"
   ]
  },
  {
   "cell_type": "code",
   "execution_count": 2,
   "id": "e4b1d6c2-d91f-4e5c-94a8-16b46de25317",
   "metadata": {},
   "outputs": [],
   "source": [
    "class Solution:\n",
    "    def isStraight(self,nums):\n",
    "        nums = sorted(nums)\n",
    "        nmiss = 0\n",
    "        nzero = 0\n",
    "        for i in range(4):\n",
    "            if nums[i+1]==nums[i]:\n",
    "                return False\n",
    "            nmiss += nums[i+1]-nums[i]-1\n",
    "            nzero += 1 if nums[i]==0 else 0\n",
    "        return nmiss<=nzero"
   ]
  },
  {
   "cell_type": "markdown",
   "id": "abce2b8b-9778-447b-9826-b79f6f58e364",
   "metadata": {},
   "source": [
    "**mistake**\n",
    "- two zeros are fine."
   ]
  },
  {
   "cell_type": "markdown",
   "id": "ed6f9bfc-5755-4aa3-8287-c44f88ed8afb",
   "metadata": {},
   "source": [
    "### Attempt 5"
   ]
  },
  {
   "cell_type": "code",
   "execution_count": null,
   "id": "78677758-b9ec-4e06-bc36-b7d2558bfb8a",
   "metadata": {},
   "outputs": [],
   "source": [
    "class Solution:\n",
    "    def isStraight(self,nums):\n",
    "        nums = sorted(nums)\n",
    "        nmiss = 0\n",
    "        nzero = 0\n",
    "        for i in range(4):\n",
    "            if nums[i]==0:\n",
    "                nzero+= 1\n",
    "            elif nums[i+1]==nums[i]:\n",
    "                return False\n",
    "            else:\n",
    "                nmiss += nums[i+1]-nums[i]-1\n",
    "        return nmiss<=nzero"
   ]
  }
 ],
 "metadata": {
  "kernelspec": {
   "display_name": "Python 3",
   "language": "python",
   "name": "python3"
  },
  "language_info": {
   "codemirror_mode": {
    "name": "ipython",
    "version": 3
   },
   "file_extension": ".py",
   "mimetype": "text/x-python",
   "name": "python",
   "nbconvert_exporter": "python",
   "pygments_lexer": "ipython3",
   "version": "3.9.2"
  }
 },
 "nbformat": 4,
 "nbformat_minor": 5
}
