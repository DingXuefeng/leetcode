{
 "cells": [
  {
   "cell_type": "markdown",
   "id": "4db700fe-609c-429b-b24c-2e5642b9abf0",
   "metadata": {},
   "source": [
    "# Reconstruct BT"
   ]
  },
  {
   "cell_type": "code",
   "execution_count": 5,
   "id": "86275e39-cb34-43f9-9c5a-b2bafc7a7b33",
   "metadata": {},
   "outputs": [
    {
     "name": "stdout",
     "output_type": "stream",
     "text": [
      "1\n",
      "2 3\n",
      "x 4 x x\n",
      "x x 5 6 x x x x\n",
      "x x x x x 7 x x x x x x x x x x\n",
      "\n"
     ]
    }
   ],
   "source": [
    "class TreeNode:\n",
    "    def __init__(self,val):\n",
    "        self.val = val\n",
    "        self.left = None\n",
    "        self.right = None\n",
    "    @classmethod\n",
    "    def construct(cls,arr):\n",
    "        n = len(arr)\n",
    "        def dfs(L,R):\n",
    "            if L>=n:\n",
    "                return [None]*(R-L+1)\n",
    "            cur = [TreeNode(arr[i]) if i<n and arr[i] is not None else None for i in range(L,R+1)]\n",
    "            nvalid = len([x for x in cur if x is not None])\n",
    "            nxt = dfs(R+1,R+(nvalid<<1))\n",
    "            i,j = 0,0\n",
    "            while j<nvalid:\n",
    "                while cur[i] is None:\n",
    "                    i += 1\n",
    "                cur[i].left = nxt[j<<1]\n",
    "                cur[i].right = nxt[(j<<1)+1]\n",
    "                i += 1\n",
    "                j += 1\n",
    "            return cur\n",
    "        return dfs(0,0)[0]\n",
    "    def __str__(self):\n",
    "        q = [self]\n",
    "        ans = ''\n",
    "        while q:\n",
    "            ans += ' '.join([str(x.val) if x is not None else 'x' for x in q]) + '\\n'\n",
    "            q = [y for x in q for y in ([x.left,x.right] if x is not None else [None,None])]\n",
    "            if all([x is None for x in q]):\n",
    "                break\n",
    "        return ans\n",
    "null = None\n",
    "root = TreeNode.construct([1,2,3,null,4,null,null,5,6,null,7])\n",
    "print(root)"
   ]
  },
  {
   "cell_type": "code",
   "execution_count": 24,
   "id": "09a64cd3-edc4-40e1-8ef5-ee29108ea464",
   "metadata": {},
   "outputs": [],
   "source": [
    "class Solution:\n",
    "    def buildTree(self,preorder,inorder):\n",
    "        dic = {x:i for i,x in enumerate(inorder)}\n",
    "        def dfs(pL,pR,iL):\n",
    "            if pL>pR:\n",
    "                return None\n",
    "            node = TreeNode(preorder[pL])\n",
    "            if pL==pR:\n",
    "                return node\n",
    "            Llen = dic[node.val] - iL\n",
    "            node.left = dfs(pL+1,pL+Llen,iL)\n",
    "            node.right = dfs(pL+Llen+1,pR,iL+Llen+1)\n",
    "            return node\n",
    "        n = len(preorder)\n",
    "        return dfs(0,n-1,0)\n"
   ]
  },
  {
   "cell_type": "code",
   "execution_count": 25,
   "id": "95feec9b-0029-4305-b8c1-413fa74b875c",
   "metadata": {},
   "outputs": [
    {
     "name": "stdout",
     "output_type": "stream",
     "text": [
      "0 4 0\n",
      "0 4 0 1 [3, 9, 20, 15, 7] [9, 3, 15, 20, 7]\n",
      "1 1 0\n",
      "2 4 2\n",
      "2 4 2 1 [20, 15, 7] [15, 20, 7]\n",
      "3 3 2\n",
      "4 4 4\n",
      "3\n",
      "9 20\n",
      "x x 15 7\n",
      "\n"
     ]
    }
   ],
   "source": [
    "print(Solution().buildTree([3,9,20,15,7],[9,3,15,20,7]))"
   ]
  },
  {
   "cell_type": "code",
   "execution_count": 27,
   "id": "039bcae3-364a-403c-a60b-c5d338afe5cf",
   "metadata": {},
   "outputs": [],
   "source": [
    "class Solution:\n",
    "    def buildTree(preorder,inorder):\n",
    "        dic = {x:i for i,x in enumerate(inorder)}\n",
    "        def dfs(pL,pR,iL):\n",
    "            if pL>pR:\n",
    "                return None\n",
    "            root = TreeNode(preorder[pL])\n",
    "            if pL==pR:\n",
    "                return root\n",
    "            Llen = dic[root.val]-iL\n",
    "            root.left = dfs(pL+1,pL+Llen,iL)\n",
    "            root.right = dfs(pL+Llen+1,pR,iL+Llen+1)\n",
    "            return root\n",
    "        return dfs(0,len(preorder)-1,0)"
   ]
  },
  {
   "cell_type": "code",
   "execution_count": 28,
   "id": "fb32fcff-4fb2-4cf0-975d-2fb25cc9e818",
   "metadata": {},
   "outputs": [],
   "source": [
    "class Solution:\n",
    "    def buildTree(self,preorder,inorder):\n",
    "        dic = {x:i for i,x in enumerate(inorder)}\n",
    "        def dfs(pL,pR,iL):\n",
    "            if pL>pR:\n",
    "                return None\n",
    "            node = TreeNode(preorder[pL])\n",
    "            if pL==pR:\n",
    "                return node\n",
    "            Llen = dic[node.val]-iL\n",
    "            node.left = dfs(pL+1,pL+Llen,iL)\n",
    "            node.right = dfs(pL+Llen+1,pR,iL+Llen+1)\n",
    "            return node\n",
    "        return dfs(0,len(preorder),0)"
   ]
  },
  {
   "cell_type": "code",
   "execution_count": 29,
   "id": "8b23ad23-b6e8-496c-ad8d-8fd18fb0dbae",
   "metadata": {},
   "outputs": [],
   "source": [
    "class Solution:\n",
    "    def buildTree(self,preorder,inorder):\n",
    "        dic = {x:i for i,x in enumerate(inorder)}\n",
    "        def dfs(pL,pR,iL):\n",
    "            if pL>pR:\n",
    "                return None\n",
    "            node = TreeNode(preorder[pL])\n",
    "            if pL==pR:\n",
    "                return node\n",
    "            Llen = dic[node.val]-iL\n",
    "            node.left = dfs(pL+1,pL+Llen,iL)\n",
    "            node.right = dfs(pL+Llen+1,pR,iL+Llen+1)\n",
    "            return node\n",
    "        return dfs(0,len(preorder)-1,0)"
   ]
  },
  {
   "cell_type": "code",
   "execution_count": null,
   "id": "1f9d29d9-518e-49a4-bb10-e2129584dbd8",
   "metadata": {},
   "outputs": [],
   "source": []
  }
 ],
 "metadata": {
  "kernelspec": {
   "display_name": "Python 3",
   "language": "python",
   "name": "python3"
  },
  "language_info": {
   "codemirror_mode": {
    "name": "ipython",
    "version": 3
   },
   "file_extension": ".py",
   "mimetype": "text/x-python",
   "name": "python",
   "nbconvert_exporter": "python",
   "pygments_lexer": "ipython3",
   "version": "3.9.2"
  }
 },
 "nbformat": 4,
 "nbformat_minor": 5
}
