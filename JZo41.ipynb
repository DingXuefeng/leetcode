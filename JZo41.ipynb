{
 "cells": [
  {
   "cell_type": "markdown",
   "id": "6d772956-a98a-418a-804c-182ea000278f",
   "metadata": {},
   "source": [
    "# Median of number stream"
   ]
  },
  {
   "cell_type": "markdown",
   "id": "7e332c51-fe65-423a-aba6-d02acea1fcc3",
   "metadata": {},
   "source": [
    "Constraint\n",
    "\n",
    "```\n",
    "call of addNum and findMedian will be 5*10**4\n",
    "```"
   ]
  },
  {
   "cell_type": "markdown",
   "id": "e209ce2f-d2a3-4dd6-beee-5555331c17df",
   "metadata": {},
   "source": [
    "### Attempt 1"
   ]
  },
  {
   "cell_type": "code",
   "execution_count": 1,
   "id": "b2484a70-0b25-42ec-9c4b-bbbf704b04da",
   "metadata": {},
   "outputs": [],
   "source": [
    "class MedianFinder:\n",
    "    def __init(self):\n",
    "        self.data = []\n",
    "    \n",
    "    def addNum(self,num):\n",
    "        self.data.insert(bisect_left(self.data,num))\n",
    "        \n",
    "    def findMedian(self):\n",
    "        n = len(self.data)\n",
    "        return self.data[n>>1] if n&1 else (self.data[n>>1]+self.data[(n>>1)-1])/2"
   ]
  },
  {
   "cell_type": "markdown",
   "id": "b4c0eccb-1d2e-4bad-9d36-d65694cd16e0",
   "metadata": {},
   "source": [
    "**mistake**\n",
    "- __init -> __init__\n",
    "- insert only pos, no number"
   ]
  },
  {
   "cell_type": "markdown",
   "id": "a4dccaf2-9088-41f6-945c-a41304dde416",
   "metadata": {},
   "source": [
    "### Attemp 2"
   ]
  },
  {
   "cell_type": "code",
   "execution_count": 3,
   "id": "1eac9850-59bb-4b5f-a881-728e43a1269d",
   "metadata": {},
   "outputs": [],
   "source": [
    "class MedianFinder:\n",
    "    def __init__(self):\n",
    "        self.data = []\n",
    "        \n",
    "    def addNum(self,num):\n",
    "        self.data.insert(bisect_left(self.data,num),num)\n",
    "        \n",
    "    def findMedian(self):\n",
    "        n = len(self.data)\n",
    "        return self.data[n>>1] if n&1 else (self.data[n>>1]+self.data[(n>>1)-1])/2"
   ]
  },
  {
   "cell_type": "markdown",
   "id": "d9467ca6-2be0-4882-83bc-e6edef0919af",
   "metadata": {},
   "source": [
    "Use less space?"
   ]
  },
  {
   "cell_type": "markdown",
   "id": "a336e4b7-5f13-4b8e-9f56-0f25eb2f9adc",
   "metadata": {},
   "source": [
    "### Attempt 3"
   ]
  },
  {
   "cell_type": "code",
   "execution_count": 4,
   "id": "66207b19-c5ae-4dec-84e3-caacf82e058a",
   "metadata": {},
   "outputs": [],
   "source": [
    "class MedianFinder:\n",
    "    def __init__(self):\n",
    "        self.data = []\n",
    "        self.n = 0\n",
    "        \n",
    "    def addNum(self,num):\n",
    "        self.n += 1\n",
    "        self.data.append(num)\n",
    "        # 1-> 0\n",
    "        # 2-> 0,1\n",
    "        # 3-> 1,2 pop\n",
    "        # 4-> 1,2,3\n",
    "        # 5-> 2,3,4 pop\n",
    "        \n",
    "        if self.n&1 and self.n>1:\n",
    "            self.data.pop(0)\n",
    "            \n",
    "    def findMedian(self):\n",
    "        return self.data[0] if self.n&1 else (self.data[0]+self.data[1])/2"
   ]
  },
  {
   "cell_type": "markdown",
   "id": "1e7bcc28-c3b3-4533-870f-fc43baec729e",
   "metadata": {},
   "source": [
    "**mistake**\n",
    "- shoudl not append. not sorted"
   ]
  },
  {
   "cell_type": "code",
   "execution_count": 5,
   "id": "fd59e1ae-4d0d-4af3-9215-656a826ae78c",
   "metadata": {},
   "outputs": [],
   "source": [
    "class MedianFinder:\n",
    "    def __init__(self):\n",
    "        self.n = 0\n",
    "        self.data = []\n",
    "        \n",
    "    def addNum(self,num):\n",
    "        self.n += 1\n",
    "        self.data.insert(bisect_left(self.data,num),num)\n",
    "        if self.n&1 and self.n>1:\n",
    "            self.data.pop(0)\n",
    "            \n",
    "    def findMedian(self):\n",
    "        return self.data[0] if self.n&1 else (self.data[0]+self.data[1])/2"
   ]
  },
  {
   "cell_type": "markdown",
   "id": "05811852-a962-422c-a7e0-1c0b928cb3b1",
   "metadata": {},
   "source": [
    "## use heap"
   ]
  },
  {
   "cell_type": "code",
   "execution_count": 20,
   "id": "e1be8335-3580-4572-9ecf-ed84dac2f25d",
   "metadata": {},
   "outputs": [],
   "source": [
    "from heapq import *\n",
    "class MedianFinder:\n",
    "    def __init__(self):\n",
    "        self.heapmn = []\n",
    "        self.heapmx = []\n",
    "        \n",
    "    def addNum(self,num):\n",
    "        if self.heapmn and num>(-self.heapmn[0]):\n",
    "            print('here')\n",
    "            heappush(self.heapmx,num)\n",
    "        else:\n",
    "            print('there')\n",
    "            heappush(self.heapmn,-num)\n",
    "        if len(self.heapmn)>len(self.heapmx):\n",
    "            heappush(self.heapmx,-heappop(self.heapmn))\n",
    "        print(self.heapmn,self.heapmx)\n",
    "    \n",
    "    def findMedian(self):\n",
    "        return (-self.heapmn[0]+self.heapmx[0])/2 if len(self.heapmn)==len(self.heapmx) else self.heapmx[0]\n"
   ]
  },
  {
   "cell_type": "code",
   "execution_count": 21,
   "id": "308836e0-8304-4278-a8d5-c15dce455a9b",
   "metadata": {},
   "outputs": [
    {
     "name": "stdout",
     "output_type": "stream",
     "text": [
      "there\n",
      "[] [1]\n",
      "there\n",
      "[-2] [1]\n",
      "here\n",
      "[-2] [1, 3]\n"
     ]
    },
    {
     "data": {
      "text/plain": [
       "1"
      ]
     },
     "execution_count": 21,
     "metadata": {},
     "output_type": "execute_result"
    }
   ],
   "source": [
    "obj = MedianFinder()\n",
    "obj.addNum(1)\n",
    "obj.addNum(2)\n",
    "obj.addNum(3)\n",
    "obj.findMedian()"
   ]
  },
  {
   "cell_type": "code",
   "execution_count": 22,
   "id": "837e8b23-b1e9-4413-8bb0-94d56ac535b5",
   "metadata": {},
   "outputs": [],
   "source": [
    "class MedianFinder:\n",
    "    def __init__(self):\n",
    "        self.lower = []\n",
    "        self.upper = []\n",
    "        \n",
    "    def addNum(self,num):\n",
    "        if len(self.lower)==len(self.upper):\n",
    "            heappush(self.lower,-num)\n",
    "            heappush(self.upper,-heappop(self.lower))\n",
    "        else:\n",
    "            heappush(self.upper,num)\n",
    "            heappush(self.lower,-heappop(self.upper))\n",
    "    \n",
    "    def findMedian(self):\n",
    "        if len(self.lower)==len(self.upper):\n",
    "            return (-self.lower[0]+self.upper[0])/2\n",
    "        else:\n",
    "            return self.upper[0]"
   ]
  },
  {
   "cell_type": "code",
   "execution_count": null,
   "id": "e4310dc6-deea-440b-80d0-cd0d0106a9ca",
   "metadata": {},
   "outputs": [],
   "source": []
  }
 ],
 "metadata": {
  "kernelspec": {
   "display_name": "Python 3",
   "language": "python",
   "name": "python3"
  },
  "language_info": {
   "codemirror_mode": {
    "name": "ipython",
    "version": 3
   },
   "file_extension": ".py",
   "mimetype": "text/x-python",
   "name": "python",
   "nbconvert_exporter": "python",
   "pygments_lexer": "ipython3",
   "version": "3.9.2"
  }
 },
 "nbformat": 4,
 "nbformat_minor": 5
}
