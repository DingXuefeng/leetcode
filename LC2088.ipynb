{
 "cells": [
  {
   "cell_type": "markdown",
   "id": "2908eacb-0f1b-4ef6-b886-0006cac24479",
   "metadata": {},
   "source": [
    "# Count fertile pyramids\n",
    "\n",
    "grid: mxn\n",
    "\n",
    "fertile: 1, barren: 0\n",
    "\n",
    "pyramidal plot:\n",
    "    # of node >1\n",
    "    all celss fertile\n",
    "    apex: topmost cell\n",
    "    height: number of rows\n",
    "    say, r,c is apex, height h, then it's {(i,j) | r<=i<=r+h-1, c-(i-r)<=j<=c+(i-r)}\n",
    "    \n",
    "```\n",
    "1<=m,n<=1000\n",
    "grid[i][j] = 0 or 1\n",
    "```"
   ]
  },
  {
   "cell_type": "code",
   "execution_count": 26,
   "id": "0e9ebc7d-8d79-4711-8dbd-cc8ffd54d6d2",
   "metadata": {},
   "outputs": [],
   "source": [
    "class Solution:\n",
    "    def countPyramids(self,grid):\n",
    "        rows,cols = len(grid),len(grid[0])\n",
    "        dpTL = [[0]*(cols+2) for _ in range(rows+2)]\n",
    "        for i in range(1,rows+1):\n",
    "            for j in range(1,cols+1):\n",
    "                if grid[i-1][j-1]:\n",
    "                    dpTL[i][j] = min(dpTL[i][j-1],dpTL[i-1][j])+1\n",
    "        dpTR = [[0]*(cols+2) for _ in range(rows+2)]\n",
    "        for i in range(1,rows+1):\n",
    "            for j in reversed(range(1,cols+1)):\n",
    "                if grid[i-1][j-1]:\n",
    "                    dpTR[i][j] = min(dpTR[i][j+1],dpTR[i-1][j])+1\n",
    "        dpBL = [[0]*(cols+2) for _ in range(rows+2)]\n",
    "        for i in reversed(range(1,rows+1)):\n",
    "            for j in range(1,cols+1):\n",
    "                if grid[i-1][j-1]:\n",
    "                    dpBL[i][j] = min(dpBL[i][j-1],dpBL[i+1][j])+1\n",
    "        dpBR = [[0]*(cols+2) for _ in range(rows+2)]\n",
    "        for i in reversed(range(1,rows+1)):\n",
    "            for j in reversed(range(1,cols+1)):\n",
    "                if grid[i-1][j-1]:\n",
    "                    dpBR[i][j] = min(dpBR[i][j+1],dpBR[i+1][j])+1\n",
    "        # for i in range(1,rows+1):\n",
    "        #     print([min(dpTL[i][j],dpTR[i][j]) for j in range(1,cols+1)])\n",
    "        # for i in range(1,rows+1):\n",
    "        #     print([min(dpBL[i][j],dpBR[i][j]) for j in range(1,cols+1)])\n",
    "        # print([for i in range(rows)])\n",
    "        # print(dpTR)#,dpTR,dpBL,dpBR)\n",
    "        ans = 0\n",
    "        for i in range(1,rows+1):\n",
    "            for j in range(1,cols+1):\n",
    "                T = min(dpTL[i][j],dpTR[i][j])\n",
    "                B = min(dpBL[i][j],dpBR[i][j])\n",
    "                if T>1:\n",
    "                    ans += T-1\n",
    "                if B>1:\n",
    "                    ans += B-1\n",
    "        return ans"
   ]
  },
  {
   "cell_type": "code",
   "execution_count": 28,
   "id": "4569b6d7-35c6-4d75-9979-fcaa417b9bed",
   "metadata": {},
   "outputs": [
    {
     "data": {
      "text/plain": [
       "2"
      ]
     },
     "execution_count": 28,
     "metadata": {},
     "output_type": "execute_result"
    }
   ],
   "source": [
    "Solution().countPyramids([[0,1,0])"
   ]
  },
  {
   "cell_type": "code",
   "execution_count": null,
   "id": "c62186c4-4329-4bc0-b54a-c04ae6bb4953",
   "metadata": {},
   "outputs": [],
   "source": []
  }
 ],
 "metadata": {
  "kernelspec": {
   "display_name": "Python 3",
   "language": "python",
   "name": "python3"
  },
  "language_info": {
   "codemirror_mode": {
    "name": "ipython",
    "version": 3
   },
   "file_extension": ".py",
   "mimetype": "text/x-python",
   "name": "python",
   "nbconvert_exporter": "python",
   "pygments_lexer": "ipython3",
   "version": "3.9.2"
  }
 },
 "nbformat": 4,
 "nbformat_minor": 5
}
