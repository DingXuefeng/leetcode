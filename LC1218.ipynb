{
 "cells": [
  {
   "cell_type": "markdown",
   "id": "711df398-46f9-4f23-8358-a70475a1fc7c",
   "metadata": {},
   "source": [
    "# longest arithmetic subsequence of given difference"
   ]
  },
  {
   "cell_type": "markdown",
   "id": "8dc42c4b-2e0b-434c-af3f-64a70f3398eb",
   "metadata": {},
   "source": [
    "Given an array, find length of longest arithmetic subsequence of given difference.\n",
    "\n",
    "constraints\n",
    "```\n",
    "1<=arr.length<=10**5\n",
    "-10**4<=arr[i],diff<=10**4\n",
    "```"
   ]
  },
  {
   "cell_type": "markdown",
   "id": "aed850fd-64d2-40a6-800b-887efeb50023",
   "metadata": {},
   "source": [
    "## DP\n",
    "```\n",
    "dp[i][j] length ending as arr[i]==j\n",
    "dp[i][j] = max(dp[k][j-diff]) k = 0,...i-1\n",
    "\n",
    "Complexity: O(N^2M)\n",
    "```\n",
    "\n",
    "```\n",
    "dp[arr[i]-diff] += 1\n",
    "\n",
    "Complexity: O(N)\n",
    "```"
   ]
  },
  {
   "cell_type": "markdown",
   "id": "846e397f-7242-4a90-a64f-e4f392adffd5",
   "metadata": {},
   "source": [
    "### Attempt 1"
   ]
  },
  {
   "cell_type": "code",
   "execution_count": null,
   "id": "b0e2bbdc-bd57-41e7-bf09-7626289ea09b",
   "metadata": {},
   "outputs": [],
   "source": [
    "class Solution:\n",
    "    def longestSubsequence(self,arr,difference):\n",
    "        dp = defaultdict(int)\n",
    "        for a in arr:\n",
    "            dp[a-difference] += 1\n",
    "        return max(dp.values())"
   ]
  },
  {
   "cell_type": "markdown",
   "id": "8dc833f6-5ffb-4ba0-8c28-a087ab80500a",
   "metadata": {},
   "source": [
    "**mistake**\n",
    "- wrong equation"
   ]
  },
  {
   "cell_type": "markdown",
   "id": "c0c65d3b-df45-48ae-bf6c-4ef682cc83ca",
   "metadata": {},
   "source": [
    "### Attempt 2"
   ]
  },
  {
   "cell_type": "code",
   "execution_count": null,
   "id": "9ee197ac-f05e-473b-b8d7-f9464742785b",
   "metadata": {},
   "outputs": [],
   "source": [
    "class Solution:\n",
    "    def longestSubsequence(self,arr,difference):\n",
    "        dp = defaultdict(int)\n",
    "        for a in arr:\n",
    "            dp[a] = dp[a-difference] +1\n",
    "        return max(dp.values())"
   ]
  },
  {
   "cell_type": "markdown",
   "id": "91c43318-abe4-4ebf-908f-c2d89c00f20c",
   "metadata": {},
   "source": [
    "**AC**"
   ]
  },
  {
   "cell_type": "code",
   "execution_count": null,
   "id": "55ea60e0-2229-48cf-a6d3-d0ee9bba64b2",
   "metadata": {},
   "outputs": [],
   "source": []
  }
 ],
 "metadata": {
  "kernelspec": {
   "display_name": "Python 3",
   "language": "python",
   "name": "python3"
  },
  "language_info": {
   "codemirror_mode": {
    "name": "ipython",
    "version": 3
   },
   "file_extension": ".py",
   "mimetype": "text/x-python",
   "name": "python",
   "nbconvert_exporter": "python",
   "pygments_lexer": "ipython3",
   "version": "3.9.2"
  }
 },
 "nbformat": 4,
 "nbformat_minor": 5
}
