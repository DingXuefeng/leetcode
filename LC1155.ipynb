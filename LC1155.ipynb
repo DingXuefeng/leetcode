{
 "cells": [
  {
   "cell_type": "markdown",
   "id": "466f4463-437c-497c-9e70-bde76711c11b",
   "metadata": {},
   "source": [
    "# number of dice with target sum"
   ]
  },
  {
   "cell_type": "markdown",
   "id": "f961868f-513e-4c3f-bf6f-ed16ed4c3101",
   "metadata": {},
   "source": [
    "Given n dice of k faces numbered 1 to k, count number of ways to get sum as target.\n",
    "All dices are different, thus order matters.\n",
    "\n",
    "Constraints\n",
    "```\n",
    "1<=n,k<=30\n",
    "1<=target<=1000\n",
    "```"
   ]
  },
  {
   "cell_type": "markdown",
   "id": "fea280c1-ca55-4f1c-89f1-e101c0b2ef9a",
   "metadata": {},
   "source": [
    "## DP:\n",
    "```\n",
    "i dice, k face\n",
    "dp[i][t] = sum(dp[i-1][t-j], j = 1...k, i=2,...n)\n",
    "dp[1][t] = 1 if 1<=t<=k else 0\n",
    "\n",
    "Compexity: O(k^2)\n",
    "```"
   ]
  },
  {
   "cell_type": "markdown",
   "id": "5f726255-d533-4266-a73a-18835aa6b8fa",
   "metadata": {},
   "source": [
    "### Attempt 1"
   ]
  },
  {
   "cell_type": "code",
   "execution_count": 1,
   "id": "8feee35b-44c0-4437-b8f9-dd5ba72e4ecf",
   "metadata": {},
   "outputs": [],
   "source": [
    "class Solution:\n",
    "    def numRollsToTarget(self,n,k,target):\n",
    "        @lru_cache(maxsize=None)\n",
    "        def dfs(i,t):\n",
    "            if 1<=i<=t<=i*k:\n",
    "                return sum([dp[i-1][t-j] for j in range(1,k+1)])\n",
    "            elif i==0 and t==0:\n",
    "                return 1\n",
    "            else:\n",
    "                return 0\n",
    "        return dfs(n,target)"
   ]
  },
  {
   "cell_type": "markdown",
   "id": "da5cdbf5-215c-4a24-a60f-f688b55ee7bc",
   "metadata": {},
   "source": [
    "**mistake**\n",
    "- dp is not defined\n",
    "- forgot to mod 10**9+7"
   ]
  },
  {
   "cell_type": "markdown",
   "id": "273a22ac-54bc-4cf6-8402-d504c89261d4",
   "metadata": {},
   "source": [
    "### Attempt 2"
   ]
  },
  {
   "cell_type": "code",
   "execution_count": 11,
   "id": "2d50f43e-3894-4b21-bbb5-d3a515c159ae",
   "metadata": {},
   "outputs": [],
   "source": [
    "from functools import *\n",
    "class Solution:\n",
    "    def numRollsToTarget(self,n,k,target):\n",
    "        @lru_cache(maxsize=None)\n",
    "        def dfs(i,t):\n",
    "            if 1<=i<=t<=i*k:\n",
    "                return sum([dfs(i-1,t-j) for j in range(1,k+1)])%(10**9+7)\n",
    "            elif i==0 and t==0:\n",
    "                return 1\n",
    "            else:\n",
    "                return 0\n",
    "        return dfs(n,target)"
   ]
  },
  {
   "cell_type": "markdown",
   "id": "8514d490-db6f-46d9-a727-4eda17152423",
   "metadata": {},
   "source": [
    "**AC**"
   ]
  },
  {
   "cell_type": "code",
   "execution_count": 9,
   "id": "254e1c28-8d80-46cb-86a4-c5ecf4a15e83",
   "metadata": {},
   "outputs": [
    {
     "data": {
      "text/plain": [
       "422709100"
      ]
     },
     "execution_count": 9,
     "metadata": {},
     "output_type": "execute_result"
    }
   ],
   "source": [
    "Solution().numRollsToTarget(10,10,53)"
   ]
  },
  {
   "cell_type": "code",
   "execution_count": null,
   "id": "0e24577f-4c99-4d80-aaea-bee5540a89ad",
   "metadata": {},
   "outputs": [],
   "source": []
  }
 ],
 "metadata": {
  "kernelspec": {
   "display_name": "Python 3",
   "language": "python",
   "name": "python3"
  },
  "language_info": {
   "codemirror_mode": {
    "name": "ipython",
    "version": 3
   },
   "file_extension": ".py",
   "mimetype": "text/x-python",
   "name": "python",
   "nbconvert_exporter": "python",
   "pygments_lexer": "ipython3",
   "version": "3.9.2"
  }
 },
 "nbformat": 4,
 "nbformat_minor": 5
}
