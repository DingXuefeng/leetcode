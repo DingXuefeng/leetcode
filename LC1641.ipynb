{
 "cells": [
  {
   "cell_type": "markdown",
   "id": "2ab719bb-3473-4909-8599-c4f80f0b8259",
   "metadata": {},
   "source": [
    "# Count sorted Vowel"
   ]
  },
  {
   "cell_type": "markdown",
   "id": "3ecadc98-e792-4c6a-bb61-559f56092a98",
   "metadata": {},
   "source": [
    "Count strings made of [a,e,i,o,u] length n and are lxicographically sorted.\n",
    "```\n",
    "1<=n<=50\n",
    "```"
   ]
  },
  {
   "cell_type": "code",
   "execution_count": 1,
   "id": "bca9fe02-4905-40d7-9e64-f9d3cd90759c",
   "metadata": {},
   "outputs": [],
   "source": [
    "class Solution:\n",
    "    def countVowelStrings(self,n):\n",
    "        return math.comb(n+4,4)"
   ]
  },
  {
   "cell_type": "code",
   "execution_count": 4,
   "id": "49312a29-1b0a-4006-93ba-fc23e10a55bd",
   "metadata": {},
   "outputs": [
    {
     "data": {
      "text/plain": [
       "66045"
      ]
     },
     "execution_count": 4,
     "metadata": {},
     "output_type": "execute_result"
    }
   ],
   "source": [
    "import math\n",
    "Solution().countVowelStrings(33)"
   ]
  },
  {
   "cell_type": "code",
   "execution_count": null,
   "id": "8b5af428-e31e-4cc7-b1e5-3638b680e1e8",
   "metadata": {},
   "outputs": [],
   "source": []
  }
 ],
 "metadata": {
  "kernelspec": {
   "display_name": "Python 3",
   "language": "python",
   "name": "python3"
  },
  "language_info": {
   "codemirror_mode": {
    "name": "ipython",
    "version": 3
   },
   "file_extension": ".py",
   "mimetype": "text/x-python",
   "name": "python",
   "nbconvert_exporter": "python",
   "pygments_lexer": "ipython3",
   "version": "3.9.2"
  }
 },
 "nbformat": 4,
 "nbformat_minor": 5
}
