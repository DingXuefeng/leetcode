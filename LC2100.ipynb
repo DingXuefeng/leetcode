{
 "cells": [
  {
   "cell_type": "markdown",
   "id": "7f29cc56-ad69-4914-890a-1ade0fc4a7f2",
   "metadata": {},
   "source": [
    "# Good days to rob bank\n",
    "\n",
    "Good days: \n",
    "    a[i-time] ... a[i-1] >=\n",
    "    a[i+1] ... a[i+time] <=\n",
    "    \n",
    "```\n",
    "1<=a.len<=10**5\n",
    "0<=s[i],t<=10**5\n",
    "```"
   ]
  },
  {
   "cell_type": "code",
   "execution_count": 4,
   "id": "5d71b860-f126-42b2-bf8f-a5eb036bb8ce",
   "metadata": {},
   "outputs": [],
   "source": [
    "from collections import *"
   ]
  },
  {
   "cell_type": "code",
   "execution_count": 7,
   "id": "54c815de-8f2f-4395-9e5e-50118f75aa04",
   "metadata": {},
   "outputs": [],
   "source": [
    "class Solution:\n",
    "    def goodDaysToRobBank(self,security,time):\n",
    "        L = deque([1])\n",
    "        R = 1\n",
    "        p = security[0]\n",
    "        ans = []\n",
    "        for i,a in enumerate(security[1:]):\n",
    "            if a>=p:\n",
    "                R += 1\n",
    "            else:\n",
    "                R = 1\n",
    "            if a<=p:\n",
    "                L.append(L[-1]+1)\n",
    "            else:\n",
    "                L.append(1)\n",
    "            if R>=time and len(L)==time+1 and L[0]>=time:\n",
    "                ans.append(i+1-time)\n",
    "            if len(L)==time+1:\n",
    "                L.popleft()\n",
    "        return ans"
   ]
  },
  {
   "cell_type": "code",
   "execution_count": 11,
   "id": "d97b5be4-aae4-4e36-91ee-d9680f2cdf04",
   "metadata": {},
   "outputs": [],
   "source": [
    "class Solution:\n",
    "    def goodDaysToRobBank(self,security,time):\n",
    "        L = deque([1])\n",
    "        R = 1\n",
    "        p = security[0]\n",
    "        ans = []\n",
    "        for i,a in enumerate(security[1:]):\n",
    "            if a>=p:\n",
    "                R += 1\n",
    "            else:\n",
    "                R = 1\n",
    "            if a<=p:\n",
    "                L.append(L[-1]+1)\n",
    "            else:\n",
    "                L.append(1)\n",
    "            if R>=time and len(L)==time+1 and L[0]>=time:\n",
    "                ans.append(i+1-time)\n",
    "            if len(L)==time+1:\n",
    "                L.popleft()\n",
    "            p = a\n",
    "        return ans\n",
    "            "
   ]
  },
  {
   "cell_type": "code",
   "execution_count": 23,
   "id": "58f19733-3292-48cd-a9f0-8eb888fdf9b8",
   "metadata": {},
   "outputs": [],
   "source": [
    "class Solution:\n",
    "    def goodDaysToRobBank(self,security,time):\n",
    "        L = deque([])\n",
    "        R = 0\n",
    "        p = float('-inf')\n",
    "        ans = []\n",
    "        for i,a in enumerate(security):\n",
    "            if a>=p:\n",
    "                R += 1\n",
    "            else:\n",
    "                R = 0\n",
    "            if L and a<=p:\n",
    "                L.append(L[-1]+1)\n",
    "            else:\n",
    "                L.append(0)\n",
    "            print(a,R,L)\n",
    "            if R>=time and len(L)==time+1 and L[0]>=time:\n",
    "                ans.append(i-time)\n",
    "            if len(L)==time+1:\n",
    "                L.popleft()\n",
    "            p = a\n",
    "        return ans\n",
    "                "
   ]
  },
  {
   "cell_type": "code",
   "execution_count": 25,
   "id": "c3bd8caf-ee5e-4ba4-baed-094d1017351f",
   "metadata": {},
   "outputs": [],
   "source": [
    "class Solution:\n",
    "    def goodDaysToRobBank(self,security,time):\n",
    "        L = deque([])\n",
    "        R = 0\n",
    "        ans = []\n",
    "        p = float('inf')\n",
    "        for i,a in enumerate(security):\n",
    "            if a>=p:\n",
    "                R += 1\n",
    "            else:\n",
    "                R = 0\n",
    "            if L and a<=p:\n",
    "                L.append(L[-1]+1)\n",
    "            else:\n",
    "                L.append(0)\n",
    "            if R>=time and len(L)==time+1 and L[0]>=time:\n",
    "                ans.append(i-time)\n",
    "            if len(L)==time+1:\n",
    "                L.popleft()\n",
    "            p = a\n",
    "        return ans"
   ]
  },
  {
   "cell_type": "markdown",
   "id": "18db6be7-93b6-4f0f-90ab-4dd7bc48da9e",
   "metadata": {},
   "source": [
    "**AC**"
   ]
  },
  {
   "cell_type": "code",
   "execution_count": 26,
   "id": "fd4056ca-676b-4f14-8cf0-96483b8f8bd4",
   "metadata": {},
   "outputs": [
    {
     "data": {
      "text/plain": [
       "[1, 2, 3]"
      ]
     },
     "execution_count": 26,
     "metadata": {},
     "output_type": "execute_result"
    }
   ],
   "source": [
    "Solution().goodDaysToRobBank([5,3,3,3,5,6,2],1)"
   ]
  },
  {
   "cell_type": "code",
   "execution_count": null,
   "id": "fa561ed7-9811-4754-8aa3-4ae4f8277b3a",
   "metadata": {},
   "outputs": [],
   "source": []
  }
 ],
 "metadata": {
  "kernelspec": {
   "display_name": "Python 3",
   "language": "python",
   "name": "python3"
  },
  "language_info": {
   "codemirror_mode": {
    "name": "ipython",
    "version": 3
   },
   "file_extension": ".py",
   "mimetype": "text/x-python",
   "name": "python",
   "nbconvert_exporter": "python",
   "pygments_lexer": "ipython3",
   "version": "3.9.2"
  }
 },
 "nbformat": 4,
 "nbformat_minor": 5
}
