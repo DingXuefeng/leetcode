{
 "cells": [
  {
   "cell_type": "markdown",
   "id": "83d507c9-6a6c-4d14-9b68-0ccde9f69208",
   "metadata": {},
   "source": [
    "# Number of weak players"
   ]
  },
  {
   "cell_type": "markdown",
   "id": "9f46fd41-44e5-45f2-9ecc-333922182018",
   "metadata": {},
   "source": [
    "Weak player: exist another player whose attack and defense are both higher than him\n",
    "\n",
    "Constraints\n",
    "```\n",
    "2<=p.length<=10**5\n",
    "p[i].length==2\n",
    "1<=attack[i],defense[i]<=10**5\n",
    "```"
   ]
  },
  {
   "cell_type": "markdown",
   "id": "695a69ca-ab5f-4f9b-a90a-181fadbedd76",
   "metadata": {},
   "source": [
    "## Idea\n",
    "sort by attack, then find how many are smaller by defense. \n",
    "\n",
    "binary indexed tree, or monotonic stack"
   ]
  },
  {
   "cell_type": "markdown",
   "id": "6a2e417b-0ead-4792-8f26-4a48a4d235ba",
   "metadata": {},
   "source": [
    "### monotonic stack"
   ]
  },
  {
   "cell_type": "code",
   "execution_count": 6,
   "id": "c85e0618-e022-430f-965c-28ac408eb705",
   "metadata": {},
   "outputs": [],
   "source": [
    "class Solution:\n",
    "    def numberOfWeakCharacters(self,properties):\n",
    "        p = sorted(properties)\n",
    "        print(p)\n",
    "        n = len(p)\n",
    "        ans = 0\n",
    "        j = 0\n",
    "        defmn = float('inf')\n",
    "        for i in range(n):\n",
    "            while p[j][0]<p[i][0]:\n",
    "                defmn = min(defmn,p[j][1])\n",
    "                j += 1\n",
    "            ans += defmn<p[i][1]\n",
    "            print(p[:j],p[i],defmn,ans)\n",
    "        return ans\n",
    "            "
   ]
  },
  {
   "cell_type": "code",
   "execution_count": 7,
   "id": "19f61bfc-9dd7-409c-ae66-8e5d83d47b87",
   "metadata": {},
   "outputs": [
    {
     "name": "stdout",
     "output_type": "stream",
     "text": [
      "[[1, 2], [1, 5], [1, 5], [3, 10], [4, 3], [7, 3], [7, 7], [8, 10], [9, 7], [9, 8]]\n",
      "[] [1, 2] inf 0\n",
      "[] [1, 5] inf 0\n",
      "[] [1, 5] inf 0\n",
      "[[1, 2], [1, 5], [1, 5]] [3, 10] 2 1\n",
      "[[1, 2], [1, 5], [1, 5], [3, 10]] [4, 3] 2 2\n",
      "[[1, 2], [1, 5], [1, 5], [3, 10], [4, 3]] [7, 3] 2 3\n",
      "[[1, 2], [1, 5], [1, 5], [3, 10], [4, 3]] [7, 7] 2 4\n",
      "[[1, 2], [1, 5], [1, 5], [3, 10], [4, 3], [7, 3], [7, 7]] [8, 10] 2 5\n",
      "[[1, 2], [1, 5], [1, 5], [3, 10], [4, 3], [7, 3], [7, 7], [8, 10]] [9, 7] 2 6\n",
      "[[1, 2], [1, 5], [1, 5], [3, 10], [4, 3], [7, 3], [7, 7], [8, 10]] [9, 8] 2 7\n"
     ]
    },
    {
     "data": {
      "text/plain": [
       "7"
      ]
     },
     "execution_count": 7,
     "metadata": {},
     "output_type": "execute_result"
    }
   ],
   "source": [
    "Solution().numberOfWeakCharacters([[7,7],[1,2],[9,7],[7,3],[3,10],[9,8],[8,10],[4,3],[1,5],[1,5]])"
   ]
  },
  {
   "cell_type": "code",
   "execution_count": 8,
   "id": "da28d5d0-14c9-450d-8e8e-f4db714438af",
   "metadata": {},
   "outputs": [],
   "source": [
    "class Solution:\n",
    "    def numberOfWeakCharacters(self,properties):\n",
    "        p = sorted(properties,reverse=True)\n",
    "        maxdef = 0\n",
    "        ans = 0\n",
    "        j = 0\n",
    "        for i in range(len(p)):\n",
    "            while p[j][0]>p[i][0]:\n",
    "                maxdef = max(maxdef,p[j][1])\n",
    "                j+=1\n",
    "            ans += maxdef>p[i][1]\n",
    "        return ans"
   ]
  },
  {
   "cell_type": "code",
   "execution_count": null,
   "id": "75e30884-f0a2-4bc6-9a93-748e4dd6f4ee",
   "metadata": {},
   "outputs": [],
   "source": []
  }
 ],
 "metadata": {
  "kernelspec": {
   "display_name": "Python 3",
   "language": "python",
   "name": "python3"
  },
  "language_info": {
   "codemirror_mode": {
    "name": "ipython",
    "version": 3
   },
   "file_extension": ".py",
   "mimetype": "text/x-python",
   "name": "python",
   "nbconvert_exporter": "python",
   "pygments_lexer": "ipython3",
   "version": "3.9.2"
  }
 },
 "nbformat": 4,
 "nbformat_minor": 5
}
