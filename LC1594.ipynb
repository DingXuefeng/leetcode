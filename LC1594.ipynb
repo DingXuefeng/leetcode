{
 "cells": [
  {
   "cell_type": "markdown",
   "id": "feeba982-abff-4772-b715-1c704c73e812",
   "metadata": {},
   "source": [
    "# maximum nonnegative product in a matrix"
   ]
  },
  {
   "cell_type": "markdown",
   "id": "3d4f987c-2df7-43fb-918d-b71bab74fb5d",
   "metadata": {},
   "source": [
    "find the maximum nonnegative product along a path from (0,0) to (m-1,n-1)\n",
    "if it's negative, return -1\n",
    "\n",
    "```\n",
    "1<=m,n<=15\n",
    "-4<=grid[i][j]<=4\n",
    "```"
   ]
  },
  {
   "cell_type": "markdown",
   "id": "0e82e4fc-cf90-4e46-8349-4a7cfd19d82e",
   "metadata": {},
   "source": [
    "## Idea\n",
    "\n",
    "```\n",
    "max(dp[i][j]) = max(dp[i-1][j])*arr[i][j], max(dp[i][j-1])*arr[i][j], if arr[i][j]>0\n",
    "max(dp[i][j]) = min(dp[i-1][j])*arr[i][j], min(dp[i][j-1])*arr[i][j], if arr[i][j]<0\n",
    "..\n",
    "```"
   ]
  },
  {
   "cell_type": "code",
   "execution_count": 12,
   "id": "e140fd73-c6d5-4b9d-ac91-a2b626411ff3",
   "metadata": {},
   "outputs": [],
   "source": [
    "class Solution:\n",
    "    def maxProductPath(self,grid):\n",
    "        mod = 10**9+7\n",
    "        rows,cols = len(grid),len(grid[0])\n",
    "        dp = [[[None]*2 for _ in range(cols)] for _ in range(rows)]\n",
    "        dp[0][0] = [grid[0][0],grid[0][0]]\n",
    "        for i in range(1,rows):\n",
    "            can = dp[i-1][0][0]*grid[i][0],dp[i-1][0][1]*grid[i][0]\n",
    "            dp[i][0] = min(can),max(can)\n",
    "        for j in range(1,cols):\n",
    "            can = dp[0][j-1][0]*grid[0][j],dp[0][j-1][1]*grid[0][j]\n",
    "            dp[0][j] = min(can),max(can)\n",
    "            \n",
    "        for i in range(1,rows):\n",
    "            for j in range(1,cols):\n",
    "                can = [grid[i][j]*y for x in [dp[i-1][j],dp[i][j-1]] for y in x]\n",
    "                dp[i][j] = min(can),max(can)\n",
    "        \n",
    "        ans = dp[rows-1][cols-1][1]\n",
    "        return ans%mod if ans>=0 else -1"
   ]
  },
  {
   "cell_type": "code",
   "execution_count": 13,
   "id": "11c10e4a-995f-4eeb-84e7-ddd63c94da11",
   "metadata": {},
   "outputs": [],
   "source": [
    "inp = [\n",
    "    [[[-1,-2,-3],[-2,-3,-3],[-3,-3,-2]],-1],\n",
    "    [[[1,-2,1],[1,-2,1],[3,-4,1]],8],\n",
    "    [[[1,3],[0,-4]],0],\n",
    "    [[[99]],99],\n",
    "    [[[-99]],-1],\n",
    "    [[[0]],0],\n",
    "    [[[-1,-1,-1,-1],[-1,-1,-1,-1],[-1,-1,-1,-1],[-1,-1,-1,1]],1]\n",
    "]\n",
    "\n",
    "for grid,out in inp:\n",
    "    test = Solution().maxProductPath(grid)\n",
    "    if test!=out:\n",
    "        print(test,out)"
   ]
  },
  {
   "cell_type": "code",
   "execution_count": 14,
   "id": "3b3e1936-8306-43f6-9c3c-9d7d4c0eec57",
   "metadata": {},
   "outputs": [
    {
     "data": {
      "text/plain": [
       "1000000006"
      ]
     },
     "execution_count": 14,
     "metadata": {},
     "output_type": "execute_result"
    }
   ],
   "source": [
    "-1%(10**9+7)"
   ]
  },
  {
   "cell_type": "code",
   "execution_count": null,
   "id": "8c02d7c3-6630-41fe-b883-4350a853fd36",
   "metadata": {},
   "outputs": [],
   "source": []
  }
 ],
 "metadata": {
  "kernelspec": {
   "display_name": "Python 3",
   "language": "python",
   "name": "python3"
  },
  "language_info": {
   "codemirror_mode": {
    "name": "ipython",
    "version": 3
   },
   "file_extension": ".py",
   "mimetype": "text/x-python",
   "name": "python",
   "nbconvert_exporter": "python",
   "pygments_lexer": "ipython3",
   "version": "3.9.2"
  }
 },
 "nbformat": 4,
 "nbformat_minor": 5
}
