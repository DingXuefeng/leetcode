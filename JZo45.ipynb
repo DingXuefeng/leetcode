{
 "cells": [
  {
   "cell_type": "markdown",
   "id": "cb556acb-7b98-4645-9d06-027efb8fe675",
   "metadata": {},
   "source": [
    "# make smallest number"
   ]
  },
  {
   "cell_type": "markdown",
   "id": "38e1cc49-be9f-4b3d-897a-b2368f76f878",
   "metadata": {},
   "source": [
    "Given a non-negative integer array, combine them by string concation.\n",
    "Find the smallest one you can make\n",
    "\n",
    "constraints\n",
    "```\n",
    "0<n.length<=100\n",
    "```"
   ]
  },
  {
   "cell_type": "markdown",
   "id": "1d9a0548-a9a3-4e77-bec1-cf22237e97c2",
   "metadata": {},
   "source": [
    "### Attempt 1"
   ]
  },
  {
   "cell_type": "code",
   "execution_count": 3,
   "id": "20dc13ea-18d7-4eff-8d8d-c3fd30add1f4",
   "metadata": {},
   "outputs": [],
   "source": [
    "from functools import *\n",
    "class Solution:\n",
    "    def minNumber(self,nums):\n",
    "        def f(x,y):\n",
    "            a = int(str(x)+str(y))\n",
    "            b = int(str(y)+str(x))\n",
    "            return 1 if a>b else -1\n",
    "        return ''.join([str(x) for x in sorted(nums,key=cmp_to_key(f))])"
   ]
  },
  {
   "cell_type": "markdown",
   "id": "922e315a-4e9f-4150-b225-161911f643f9",
   "metadata": {},
   "source": [
    "**AC**"
   ]
  },
  {
   "cell_type": "code",
   "execution_count": 6,
   "id": "c3fe2b10-0471-443b-9f00-ab63364ab0cc",
   "metadata": {},
   "outputs": [
    {
     "data": {
      "text/plain": [
       "'303233435'"
      ]
     },
     "execution_count": 6,
     "metadata": {},
     "output_type": "execute_result"
    }
   ],
   "source": [
    "Solution().minNumber([3,30,32,34,35])"
   ]
  },
  {
   "cell_type": "code",
   "execution_count": null,
   "id": "684aa4ea-60d7-4644-8f2b-3a9ee9482ce2",
   "metadata": {},
   "outputs": [],
   "source": []
  }
 ],
 "metadata": {
  "kernelspec": {
   "display_name": "Python 3",
   "language": "python",
   "name": "python3"
  },
  "language_info": {
   "codemirror_mode": {
    "name": "ipython",
    "version": 3
   },
   "file_extension": ".py",
   "mimetype": "text/x-python",
   "name": "python",
   "nbconvert_exporter": "python",
   "pygments_lexer": "ipython3",
   "version": "3.9.2"
  }
 },
 "nbformat": 4,
 "nbformat_minor": 5
}
