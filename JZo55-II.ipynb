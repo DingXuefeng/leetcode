{
 "cells": [
  {
   "cell_type": "markdown",
   "id": "c96430e4-e94d-41b9-87d5-b697607644c0",
   "metadata": {},
   "source": [
    "# Balance BT\n",
    "\n",
    "test if a binary tree is balanced or not.\n",
    "\n",
    "Balance: |depth(L)-depth(R)|<=1\n",
    "\n",
    "```\n",
    "0<=# tree nodes<=10000\n",
    "```"
   ]
  },
  {
   "cell_type": "code",
   "execution_count": 3,
   "id": "6a208ad3-b011-4a06-9321-888b1c1dd86f",
   "metadata": {},
   "outputs": [
    {
     "name": "stdout",
     "output_type": "stream",
     "text": [
      "1\n",
      "2 x\n",
      "3 4 x x\n",
      "5 x 6 x x x x x\n",
      "x 7 x x x x x x x x x x x x x x\n",
      "\n"
     ]
    }
   ],
   "source": [
    "class TreeNode:\n",
    "    def __init__(self,x):\n",
    "        self.val = x\n",
    "        self.left = None\n",
    "        self.right = None\n",
    "    \n",
    "    @classmethod\n",
    "    def construct(cls,arr):\n",
    "        n = len(arr)\n",
    "        def bfs(L,R):\n",
    "            if L>=n:\n",
    "                return [None]*(R-L+1)\n",
    "            cur = [TreeNode(arr[i]) if i<n and arr[i] is not None else None for i in range(L,R+1)]\n",
    "            nvalid = len([1 for x in cur if x is not None])\n",
    "            nxt = bfs(R+1,R+(nvalid<<1))\n",
    "            i,j = 0,0\n",
    "            while j<nvalid:\n",
    "                while cur[i] is None:\n",
    "                    i += 1\n",
    "                cur[i].left = nxt[j<<1]\n",
    "                cur[i].right = nxt[(j<<1)+1]\n",
    "                i += 1\n",
    "                j += 1\n",
    "            return cur\n",
    "        return bfs(0,0)[0]\n",
    "        \n",
    "    def __str__(self):\n",
    "        ans = ''\n",
    "        q = [self]\n",
    "        while q:\n",
    "            ans += ' '.join([str(x.val) if x is not None else 'x' for x in q])+'\\n'\n",
    "            q = [y for x in q for y in ([x.left,x.right] if x is not None else [None,None])]\n",
    "            if all([x is None for x in q]):\n",
    "                break\n",
    "        return ans\n",
    "                \n",
    "null = None\n",
    "\n",
    "root = TreeNode.construct([1,2,null,3,4,5,null,6,null,null,7])\n",
    "print(root)"
   ]
  },
  {
   "cell_type": "code",
   "execution_count": 15,
   "id": "99547127-fd45-49fa-ab58-91bba74f675c",
   "metadata": {},
   "outputs": [],
   "source": [
    "class Solution:\n",
    "    def isBalanced(self,root):\n",
    "        self.valid = True\n",
    "        def dfs(root):\n",
    "            if root and self.valid:\n",
    "                Lmn,Lmx = dfs(root.left)\n",
    "                Rmn,Rmx = dfs(root.right)\n",
    "                mn,mx = min(Lmn,Rmn),max(Lmx,Rmx)\n",
    "                print(Lmn,Lmx,Rmn,Rmx)\n",
    "                print(root)\n",
    "                if abs(mn-mx)>1:\n",
    "                    self.valid = False\n",
    "                return mn+1,mx+1\n",
    "            else:\n",
    "                return 0,0\n",
    "        dfs(root)\n",
    "        return self.valid"
   ]
  },
  {
   "cell_type": "markdown",
   "id": "048e1400-5037-4ad6-9f2d-839902ea2a53",
   "metadata": {},
   "source": [
    "**mistake**\n",
    "- depth is the maximum depth"
   ]
  },
  {
   "cell_type": "code",
   "execution_count": 17,
   "id": "dc58dd12-7d73-4d89-a7cc-17c212824622",
   "metadata": {},
   "outputs": [
    {
     "name": "stdout",
     "output_type": "stream",
     "text": [
      "1\n",
      "2 2\n",
      "3 3 3 3\n",
      "4 4 4 4 4 4 x x\n",
      "5 5 x x x x x x x x x x x x x x\n",
      "\n",
      "2\n",
      "3 3\n",
      "4 4 4 4\n",
      "5 5 x x x x x x\n",
      "\n",
      "2\n",
      "3 3\n",
      "4 4 x x\n",
      "\n",
      "0 0 0 0\n",
      "5\n",
      "\n",
      "0 0 0 0\n",
      "5\n",
      "\n",
      "1 1 1 1\n",
      "4\n",
      "5 5\n",
      "\n",
      "0 0 0 0\n",
      "4\n",
      "\n",
      "2 2 1 1\n",
      "3\n",
      "4 4\n",
      "5 5 x x\n",
      "\n",
      "0 0 0 0\n",
      "4\n",
      "\n",
      "0 0 0 0\n",
      "4\n",
      "\n",
      "1 1 1 1\n",
      "3\n",
      "4 4\n",
      "\n",
      "2 3 2 2\n",
      "2\n",
      "3 3\n",
      "4 4 4 4\n",
      "5 5 x x x x x x\n",
      "\n",
      "0 0 0 0\n",
      "4\n",
      "\n",
      "0 0 0 0\n",
      "4\n",
      "\n",
      "1 1 1 1\n",
      "3\n",
      "4 4\n",
      "\n",
      "0 0 0 0\n",
      "3\n",
      "\n",
      "2 2 1 1\n",
      "2\n",
      "3 3\n",
      "4 4 x x\n",
      "\n",
      "3 4 2 3\n",
      "1\n",
      "2 2\n",
      "3 3 3 3\n",
      "4 4 4 4 4 4 x x\n",
      "5 5 x x x x x x x x x x x x x x\n",
      "\n"
     ]
    },
    {
     "data": {
      "text/plain": [
       "False"
      ]
     },
     "execution_count": 17,
     "metadata": {},
     "output_type": "execute_result"
    }
   ],
   "source": [
    "root = TreeNode.construct([1,2,2,3,3,3,3,4,4,4,4,4,4,null,null,5,5])\n",
    "print(root)\n",
    "print(root.left)\n",
    "print(root.right)\n",
    "Solution().isBalanced(root)"
   ]
  },
  {
   "cell_type": "code",
   "execution_count": null,
   "id": "5ebe9fc8-481f-4e4b-944d-74e5d33ecaf5",
   "metadata": {},
   "outputs": [],
   "source": []
  }
 ],
 "metadata": {
  "kernelspec": {
   "display_name": "Python 3",
   "language": "python",
   "name": "python3"
  },
  "language_info": {
   "codemirror_mode": {
    "name": "ipython",
    "version": 3
   },
   "file_extension": ".py",
   "mimetype": "text/x-python",
   "name": "python",
   "nbconvert_exporter": "python",
   "pygments_lexer": "ipython3",
   "version": "3.9.2"
  }
 },
 "nbformat": 4,
 "nbformat_minor": 5
}
