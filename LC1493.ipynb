{
 "cells": [
  {
   "cell_type": "markdown",
   "id": "6100c4c1-281d-4f38-a3bc-e3a60f991ab6",
   "metadata": {},
   "source": [
    "# Longest subarray of 1s after deleting one element"
   ]
  },
  {
   "cell_type": "markdown",
   "id": "10f517b5-17bd-4ce5-8414-013de841e808",
   "metadata": {},
   "source": [
    "After deleting 1 element, you get a new array. Return longest 1 only subarray's length\n",
    "\n",
    "Constraint\n",
    "```\n",
    "1<=nums.length<=10**5\n",
    "nums[i] in [0,1]\n",
    "```"
   ]
  },
  {
   "cell_type": "markdown",
   "id": "31d21849-3e9e-471e-8fda-ea87ba233119",
   "metadata": {},
   "source": [
    "## DP\n",
    "```\n",
    "L->R, then R->L\n",
    "return max(dp[L]+dp[R]-1)\n",
    "```"
   ]
  },
  {
   "cell_type": "markdown",
   "id": "27125b5b-d417-414f-a06c-5c8277e086c0",
   "metadata": {},
   "source": [
    "### Attempt 1"
   ]
  },
  {
   "cell_type": "code",
   "execution_count": null,
   "id": "76cc2b54-f451-4412-bec6-6b397a8af732",
   "metadata": {},
   "outputs": [],
   "source": [
    "class Solution:\n",
    "    def longestSubarray(self,arr):\n",
    "        alen = len(arr)\n",
    "        dpL = [0]*(alen+1)\n",
    "        dpR = [0]*(alen+1)\n",
    "        for i in range(alen):\n",
    "            if arr[i]:\n",
    "                dpL[i] = dpL[i-1]+1\n",
    "        for i in range(alen-1,-1,-1):\n",
    "            if arr[i]:\n",
    "                dpR[i] = dpR[i+1]+1\n",
    "        ans = 0\n",
    "        for i in range(alen):\n",
    "            ans = max(ans,dpL[i]+dpR[i]-1)\n",
    "        return ans"
   ]
  },
  {
   "cell_type": "markdown",
   "id": "a50f3082-639c-4793-ab66-a74850377584",
   "metadata": {},
   "source": [
    "**mistake**\n",
    "- wrong logic of deleting"
   ]
  },
  {
   "cell_type": "markdown",
   "id": "94efef8d-0dfc-4557-b34b-559e74ce7e4f",
   "metadata": {},
   "source": [
    "### Attempt 2"
   ]
  },
  {
   "cell_type": "code",
   "execution_count": 2,
   "id": "5e1754f4-599a-4ed7-872e-11716a48bb60",
   "metadata": {},
   "outputs": [],
   "source": [
    "class Solution:\n",
    "    def longestSubarray(self,nums):\n",
    "        alen = len(nums)\n",
    "        dpL = [0]*(alen+1)\n",
    "        dpR = [0]*(alen+2)\n",
    "        for i in range(1,alen+1):\n",
    "            if nums[i-1]:\n",
    "                dpL[i] = dpL[i-1]+1\n",
    "        for i in range(alen,0,-1):\n",
    "            if nums[i-1]:\n",
    "                dpR[i] = dpR[i+1]+1\n",
    "        ans = 0\n",
    "        for i in range(1,alen+1):\n",
    "            ans = max(ans,dpL[i-1]+dpR[i+1])\n",
    "        return ans"
   ]
  },
  {
   "cell_type": "markdown",
   "id": "6615182f-a331-4d17-988a-4c04176ffc0e",
   "metadata": {},
   "source": [
    "**AC**"
   ]
  },
  {
   "cell_type": "markdown",
   "id": "bd366dc3-eac2-4df9-a811-a82b5934e1ad",
   "metadata": {},
   "source": [
    "## optimization: one pass"
   ]
  },
  {
   "cell_type": "markdown",
   "id": "e0c9d679-7c7c-4351-b1c0-35c913966517",
   "metadata": {},
   "source": [
    "### Attempt 3"
   ]
  },
  {
   "cell_type": "code",
   "execution_count": null,
   "id": "f71b5ba7-f2cd-468b-862a-21e3a0924bc9",
   "metadata": {},
   "outputs": [],
   "source": [
    "class Solution:\n",
    "    def longestSubarray(self,nums):\n",
    "        alen = len(nums)\n",
    "        dp = [0]*(alen+1)\n",
    "        ans = 0\n",
    "        for i in range(alen):\n",
    "            if nums[i]:\n",
    "                dp[i] = dp[i-1]+1\n",
    "                prev0 = i-dp[i]-1\n",
    "                if prev0-1>=0 and nums[prev0-1]:\n",
    "                    ans = max(ans,dp[i]+dp[prev0-1])\n",
    "        return ans"
   ]
  },
  {
   "cell_type": "markdown",
   "id": "eb232879-c58f-447a-9706-f15980a1abdf",
   "metadata": {},
   "source": [
    "**mistake**\n",
    "- prev0 should be i-dp[i], not i-dp[i]-1\n",
    "- can delete 1"
   ]
  },
  {
   "cell_type": "markdown",
   "id": "8d6af259-85e8-4aed-9922-4290d728caed",
   "metadata": {},
   "source": [
    "### Attempt 4"
   ]
  },
  {
   "cell_type": "code",
   "execution_count": null,
   "id": "d530e934-ebcf-4539-9b61-36b51363c2e8",
   "metadata": {},
   "outputs": [],
   "source": [
    "class Solution:\n",
    "    def longestSubarray(self,nums):\n",
    "        alen = len(nums)\n",
    "        dp = [0]*(alen+1)\n",
    "        ans = 0\n",
    "        for i in range(alen):\n",
    "            if nums[i]:\n",
    "                dp[i] = dp[i-1]+1\n",
    "                prev0 = i-dp[i]\n",
    "                if prev0-1>=0 and arr[prev0-1]:\n",
    "                    ans = max(ans,dp[i]+dp[prev0-1])\n",
    "                else:\n",
    "                    ans = max(ans,dp[i]-1)\n",
    "        return ans"
   ]
  },
  {
   "cell_type": "markdown",
   "id": "c73ee73e-1e8d-48f8-bcc7-dcc1ba0b0f5b",
   "metadata": {},
   "source": [
    "**mistake**\n",
    "- logic still wrong\n",
    "- there is no arr"
   ]
  },
  {
   "cell_type": "markdown",
   "id": "5e80e1c2-fa8c-4ff7-8fd8-7e80b73698bf",
   "metadata": {},
   "source": [
    "### Attempt 5"
   ]
  },
  {
   "cell_type": "code",
   "execution_count": null,
   "id": "0b7d2252-cc7f-4f22-9914-efad1f0df1c3",
   "metadata": {},
   "outputs": [],
   "source": [
    "class Solution:\n",
    "    def longestSubarray(self,nums):\n",
    "        alen = len(nums)\n",
    "        dp = [0]*alen\n",
    "        ans = 0\n",
    "        for i in range(alen):\n",
    "            if nums[i]:\n",
    "                dp[i] = dp[i-1]+1\n",
    "                prev0 = i-dp[i]\n",
    "                if prev0-1>=0 and nums[prev0-1]:\n",
    "                    ans = max(ans,dp[i]+dp[prev0-1]) # delete that zero\n",
    "                elif prev0>=0: # still delete that zero\n",
    "                    ans = max(ans,dp[i])\n",
    "                else: # delete 1\n",
    "                    ans = max(ans,dp[i]-1)\n",
    "            else:\n",
    "                ans = max(ans,dp[i-1])\n",
    "        return ans\n",
    "                    \n",
    "                    \n",
    "                    "
   ]
  },
  {
   "cell_type": "markdown",
   "id": "ea00ea33-09cf-46f5-8aff-06b0dc97bb10",
   "metadata": {},
   "source": [
    "### Attempt 6"
   ]
  },
  {
   "cell_type": "code",
   "execution_count": 3,
   "id": "e1d80a26-7aa4-4fff-be1b-f503c9c7c72c",
   "metadata": {},
   "outputs": [],
   "source": [
    "class Solution:\n",
    "    def longestSubarray(self,nums):\n",
    "        alen = len(nums)\n",
    "        p,cur = 0,0\n",
    "        ans = 0\n",
    "        all1 = True\n",
    "        for a in nums:\n",
    "            if a:\n",
    "                cur += 1\n",
    "            else:\n",
    "                ans = max(ans,cur + prev)\n",
    "                p,cur = cur,0\n",
    "                all1 = False\n",
    "        return ans-1 if all1 else anas"
   ]
  },
  {
   "cell_type": "markdown",
   "id": "06f9e929-1644-4bb0-987d-f28181657687",
   "metadata": {},
   "source": [
    "**mistake**\n",
    "- no prev and anas\n",
    "- exit comparison forgot\n"
   ]
  },
  {
   "cell_type": "markdown",
   "id": "51a61921-6388-4741-b184-6c89bd7e79d9",
   "metadata": {},
   "source": [
    "### Attempt 7"
   ]
  },
  {
   "cell_type": "code",
   "execution_count": 4,
   "id": "9f984d2b-f758-4614-be97-8e7daea13667",
   "metadata": {},
   "outputs": [],
   "source": [
    "class Solution:\n",
    "    def longestSubarray(self,nums):\n",
    "        alen = len(nums)\n",
    "        prev,cur = 0,0\n",
    "        ans = 0\n",
    "        all1 = True\n",
    "        for a in nums:\n",
    "            if a:\n",
    "                cur += 1\n",
    "            else:\n",
    "                ans = max(ans,prev+cur)\n",
    "                prev,cur = cur,0\n",
    "                all1 = False\n",
    "        ans = max(ans,prev+cur)\n",
    "        return ans-1 if all1 else ans"
   ]
  },
  {
   "cell_type": "markdown",
   "id": "25ce21b7-0863-42c7-8d95-89fa7598041e",
   "metadata": {},
   "source": [
    "**AC**"
   ]
  },
  {
   "cell_type": "code",
   "execution_count": null,
   "id": "c508ee09-c93b-496a-a2f7-43bc705b473e",
   "metadata": {},
   "outputs": [],
   "source": []
  }
 ],
 "metadata": {
  "kernelspec": {
   "display_name": "Python 3",
   "language": "python",
   "name": "python3"
  },
  "language_info": {
   "codemirror_mode": {
    "name": "ipython",
    "version": 3
   },
   "file_extension": ".py",
   "mimetype": "text/x-python",
   "name": "python",
   "nbconvert_exporter": "python",
   "pygments_lexer": "ipython3",
   "version": "3.9.2"
  }
 },
 "nbformat": 4,
 "nbformat_minor": 5
}
