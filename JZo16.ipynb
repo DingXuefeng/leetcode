{
 "cells": [
  {
   "cell_type": "markdown",
   "id": "d2a928af-6128-4e48-9359-4bd660ac7a71",
   "metadata": {},
   "source": [
    "# calculate x**n"
   ]
  },
  {
   "cell_type": "markdown",
   "id": "cf517709-d430-490c-bf28-26b7c28474b5",
   "metadata": {},
   "source": [
    "```\n",
    "-100.0<x<100.0\n",
    "-2**31<=n<=2**31-1\n",
    "-10**4<=x^n<=10**4\n",
    "```"
   ]
  },
  {
   "cell_type": "code",
   "execution_count": 3,
   "id": "c0c20829-6f88-4fad-92d4-906ff1eda6fe",
   "metadata": {},
   "outputs": [],
   "source": [
    "class Solution:\n",
    "    def myPow(self,x,n):\n",
    "        neg = n<0\n",
    "        n = abs(n)\n",
    "        ans,p = 1,x\n",
    "        while n>0:\n",
    "            if n&1:\n",
    "                ans *= p\n",
    "            p = p*p\n",
    "            n = n>>1\n",
    "        return 1/ans if neg else ans"
   ]
  },
  {
   "cell_type": "code",
   "execution_count": 8,
   "id": "7a39bd34-10ce-49cc-a44a-4c25e2ecfb50",
   "metadata": {},
   "outputs": [
    {
     "data": {
      "text/plain": [
       "0.000244140625"
      ]
     },
     "execution_count": 8,
     "metadata": {},
     "output_type": "execute_result"
    }
   ],
   "source": [
    "Solution().myPow(2,-12)"
   ]
  },
  {
   "cell_type": "code",
   "execution_count": null,
   "id": "e0baf222-93d1-4dfa-b4bc-c88d0286c9f1",
   "metadata": {},
   "outputs": [],
   "source": []
  }
 ],
 "metadata": {
  "kernelspec": {
   "display_name": "Python 3",
   "language": "python",
   "name": "python3"
  },
  "language_info": {
   "codemirror_mode": {
    "name": "ipython",
    "version": 3
   },
   "file_extension": ".py",
   "mimetype": "text/x-python",
   "name": "python",
   "nbconvert_exporter": "python",
   "pygments_lexer": "ipython3",
   "version": "3.9.2"
  }
 },
 "nbformat": 4,
 "nbformat_minor": 5
}
