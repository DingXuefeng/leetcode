{
 "cells": [
  {
   "cell_type": "markdown",
   "id": "4dd4b8d9-1474-49e7-87d9-a0596df485a0",
   "metadata": {},
   "source": [
    "# air line seat assignment"
   ]
  },
  {
   "cell_type": "markdown",
   "id": "c78f7c62-03e5-4eca-a50d-e0092c5b8018",
   "metadata": {},
   "source": [
    "n passengers and n seats\n",
    "\n",
    "first pick randomly seats\n",
    "following pick his own, or random\n",
    "\n",
    "return probability passenger n get his own seat\n",
    "\n",
    "constraints:\n",
    "```\n",
    "1<=n<=10**5\n",
    "```"
   ]
  },
  {
   "cell_type": "markdown",
   "id": "72d7e890-ee5d-4240-aabb-f826a1efa81f",
   "metadata": {},
   "source": [
    "## DP\n",
    "\n",
    "```\n",
    "dfs(n) = 1 pick his own: 1: 1/n\n",
    "         1 pick j, j = 2,..n\n",
    "            2..j-1 pick his own\n",
    "            j has n-j+1 choices\n",
    "            equivalent = dfs(n-j+1)\n",
    "            j pick 1: 1/(n-j+1)\n",
    "            j pick others: \n",
    "dfs(n) = 1/n (1 + sum(dfs(j), j = 2,...n-1))\n",
    "```"
   ]
  },
  {
   "cell_type": "markdown",
   "id": "236625fd-d48b-4a3c-90ee-500ce036d1c2",
   "metadata": {},
   "source": [
    "### Attempt 1"
   ]
  },
  {
   "cell_type": "code",
   "execution_count": null,
   "id": "0d7eedeb-ee18-48b3-8f1e-bb77db98d69b",
   "metadata": {},
   "outputs": [],
   "source": [
    "class Solution:\n",
    "    def nthPersonGetsNthSeat(self,n):\n",
    "        if n==1:\n",
    "            return 1\n",
    "        if n==2:\n",
    "            return 1/2\n",
    "        i2sum = 0\n",
    "        for i in range(3,n+1):\n",
    "            i2sum += n/i/i\n",
    "        return i2sum+1-n/4"
   ]
  },
  {
   "cell_type": "markdown",
   "id": "15bda6e3-d390-402f-9d80-5de4604e4bee",
   "metadata": {},
   "source": [
    "**mistake**\n",
    "- mistake in math formula"
   ]
  },
  {
   "cell_type": "markdown",
   "id": "76dd028f-6606-4132-b82e-4d056af1562f",
   "metadata": {},
   "source": [
    "### Attempt 2"
   ]
  },
  {
   "cell_type": "code",
   "execution_count": null,
   "id": "6862058c-20a9-4ba3-9a94-373d4421084a",
   "metadata": {},
   "outputs": [],
   "source": [
    "class Solution:\n",
    "    def nthPersonGetsNthSeat(self,n):\n",
    "        return 0.5 if n>1 else 1"
   ]
  },
  {
   "cell_type": "markdown",
   "id": "74654f9e-cb6c-4fbb-ad08-375d2a4df664",
   "metadata": {},
   "source": [
    "**AC**"
   ]
  },
  {
   "cell_type": "code",
   "execution_count": null,
   "id": "04fc758a-5470-4194-a027-b175de632d6a",
   "metadata": {},
   "outputs": [],
   "source": []
  }
 ],
 "metadata": {
  "kernelspec": {
   "display_name": "Python 3",
   "language": "python",
   "name": "python3"
  },
  "language_info": {
   "codemirror_mode": {
    "name": "ipython",
    "version": 3
   },
   "file_extension": ".py",
   "mimetype": "text/x-python",
   "name": "python",
   "nbconvert_exporter": "python",
   "pygments_lexer": "ipython3",
   "version": "3.9.2"
  }
 },
 "nbformat": 4,
 "nbformat_minor": 5
}
