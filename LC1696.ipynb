{
 "cells": [
  {
   "cell_type": "markdown",
   "id": "01593c52-018d-4fb4-a55a-7aa0bff099f5",
   "metadata": {},
   "source": [
    "# Jump VI"
   ]
  },
  {
   "cell_type": "markdown",
   "id": "0e0eaa4c-6fc7-4b22-b484-ead8ee5a179e",
   "metadata": {},
   "source": [
    "nums and k\n",
    "start from 0, move at most k, cannot go out of arrays.\n",
    "return maximumscore to reach n-1\n",
    "\n",
    "```\n",
    "1<=nums.length,k<=10**5\n",
    "-10**4<=nums[i]<=10**4\n",
    "```"
   ]
  },
  {
   "cell_type": "code",
   "execution_count": 1,
   "id": "90a186fa-782a-4273-80c1-a6dd8082ff0c",
   "metadata": {},
   "outputs": [],
   "source": [
    "from collections import *"
   ]
  },
  {
   "cell_type": "code",
   "execution_count": 3,
   "id": "ae777cfd-a2e4-4feb-9eda-4d2da6280af4",
   "metadata": {},
   "outputs": [],
   "source": [
    "class Solution:\n",
    "    def maxResult(self,nums,k):\n",
    "        stack = deque([0])\n",
    "        for a in nums:\n",
    "            cur = stack[0]+a\n",
    "            while stack and stack[-1]<=cur:\n",
    "                stack.pop()\n",
    "            while len(stack)>=k:\n",
    "                stack.popleft()\n",
    "            stack.append(cur)\n",
    "        return stack[-1]"
   ]
  },
  {
   "cell_type": "code",
   "execution_count": 9,
   "id": "0ed2bdc3-2d68-4599-a262-d8feb0246736",
   "metadata": {},
   "outputs": [],
   "source": [
    "inp = [\n",
    "    [[100,-1,-100,-1,100],2,198]\n",
    "]\n",
    "for a,b,c in inp:\n",
    "    d = Solution().maxResult(a,b)\n",
    "    if c!=d:\n",
    "        print('fai',c,d)"
   ]
  },
  {
   "cell_type": "code",
   "execution_count": 42,
   "id": "615be816-1d4b-4f91-b040-959d7a316759",
   "metadata": {},
   "outputs": [],
   "source": [
    "class Solution:\n",
    "    def maxResult(self,nums,k):\n",
    "        stack = deque([(nums[0],-1)])\n",
    "        for i,a in enumerate(nums[1:]):\n",
    "            cur = stack[0][0]+a\n",
    "            while stack and stack[-1][0]<=cur:\n",
    "                stack.pop()\n",
    "            while stack and i-stack[0][1]>=k:\n",
    "                stack.popleft()\n",
    "            stack.append((cur,i))\n",
    "            # print(stack,stack[0][0])\n",
    "        return stack[-1][0]"
   ]
  },
  {
   "cell_type": "code",
   "execution_count": 33,
   "id": "8611029a-78a4-4fdc-a1b5-c365463071d0",
   "metadata": {},
   "outputs": [],
   "source": [
    "class Solution1:\n",
    "    def maxResult(self,nums,k):\n",
    "        n = len(nums)\n",
    "        dp = [0]*n\n",
    "        dp[0] = nums[0]\n",
    "        for i in range(1,n):\n",
    "            dp[i] = max([dp[i-1-j] for j in range(k) if i-1-j>=0])+nums[i]\n",
    "            # print([dp[i-1-j] for j in range(k) if i-1-j>=0],max([dp[i-1-j] for j in range(k) if i-1-j>=0]))\n",
    "        return dp[n-1]"
   ]
  },
  {
   "cell_type": "code",
   "execution_count": 48,
   "id": "f718eb82-0633-4804-affd-695a1b93eba9",
   "metadata": {},
   "outputs": [],
   "source": [
    "import numpy as np\n",
    "for _ in range(1000):\n",
    "    a = np.random.randint(-10**4,10**4,10)\n",
    "    k = np.random.randint(1,10)\n",
    "    s1 = Solution1().maxResult(a,k)\n",
    "    s2 = Solution().maxResult(a,k)\n",
    "    if s1!=s2:\n",
    "        print('fail',s1,s2)"
   ]
  },
  {
   "cell_type": "code",
   "execution_count": 49,
   "id": "79567b93-067e-4d4f-b73c-397e293877c0",
   "metadata": {},
   "outputs": [],
   "source": [
    "class Solution:\n",
    "    def maxResult(self,nums,k):\n",
    "        stack = deque([(nums[0],-1)])\n",
    "        for i,a in enumerate(nums[1:]):\n",
    "            cur = stack[0][0] + a\n",
    "            while stack and stack[-1][0]<=cur:\n",
    "                stack.pop()\n",
    "            while stack and i-stack[0][1]>=k:\n",
    "                stack.popleft()\n",
    "            stack.append((cur,i))\n",
    "        return stack[-1][0]"
   ]
  },
  {
   "cell_type": "code",
   "execution_count": 52,
   "id": "fa6b5256-2331-40dc-8e9a-68b98a32b788",
   "metadata": {},
   "outputs": [
    {
     "name": "stdout",
     "output_type": "stream",
     "text": [
      "[3, 4]\n"
     ]
    }
   ],
   "source": [
    "a={1:2,3:4,4:5,5:6}\n",
    "print(sorted(a.keys())[1:-1])"
   ]
  },
  {
   "cell_type": "code",
   "execution_count": 61,
   "id": "134057ec-6158-4966-bcfb-92f01cad6769",
   "metadata": {},
   "outputs": [
    {
     "data": {
      "text/plain": [
       "'-0b111'"
      ]
     },
     "execution_count": 61,
     "metadata": {},
     "output_type": "execute_result"
    }
   ],
   "source": [
    "(-7).bit_length()\n",
    "bin(-7)"
   ]
  },
  {
   "cell_type": "code",
   "execution_count": null,
   "id": "ce2f23b6-545d-4ca4-a3b0-8bae2dd3e25c",
   "metadata": {},
   "outputs": [],
   "source": []
  }
 ],
 "metadata": {
  "kernelspec": {
   "display_name": "Python 3",
   "language": "python",
   "name": "python3"
  },
  "language_info": {
   "codemirror_mode": {
    "name": "ipython",
    "version": 3
   },
   "file_extension": ".py",
   "mimetype": "text/x-python",
   "name": "python",
   "nbconvert_exporter": "python",
   "pygments_lexer": "ipython3",
   "version": "3.9.2"
  }
 },
 "nbformat": 4,
 "nbformat_minor": 5
}
