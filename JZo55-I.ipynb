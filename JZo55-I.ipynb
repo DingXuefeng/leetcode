{
 "cells": [
  {
   "cell_type": "markdown",
   "id": "1cff2d84-f614-4037-91cc-a3377f395a57",
   "metadata": {},
   "source": [
    "# Depth of binary tree"
   ]
  },
  {
   "cell_type": "markdown",
   "id": "fc0324fc-f8ef-4f67-987b-7ef1ea2ae9f8",
   "metadata": {},
   "source": [
    "Given a root of a binary tree, output its depths, i.e. longesth paths length from root to any leaf\n",
    "\n",
    "```\n",
    "# of nodes <= 10**4\n",
    "```"
   ]
  },
  {
   "cell_type": "code",
   "execution_count": 22,
   "id": "a36e8298-3c56-4e9e-ac02-527e0a5d45a0",
   "metadata": {},
   "outputs": [
    {
     "name": "stdout",
     "output_type": "stream",
     "text": [
      "1\n",
      "2 x\n",
      "x 3 x x\n",
      "x x 4 5 x x x x\n",
      "x x x x x 7 x x x x x x x x x x\n",
      "\n"
     ]
    }
   ],
   "source": [
    "class TreeNode:\n",
    "    def __init__(self,x):\n",
    "        self.val = x\n",
    "        self.left = None\n",
    "        self.right = None\n",
    "    \n",
    "    @classmethod\n",
    "    def construct(self,arr):\n",
    "        n = len(arr)\n",
    "        def bfs(L,R):\n",
    "            # print(L,R,arr,arr[L:R+1])\n",
    "            if L>=n:\n",
    "                return [None]*(R-L+1)\n",
    "            cur = [TreeNode(arr[i]) if i<n and arr[i] is not None else None for i in range(L,R+1)]\n",
    "            nvalid = len([x for x in cur if x is not None])\n",
    "            nxt = bfs(R+1,R+(nvalid<<1))\n",
    "            i,j = 0,0\n",
    "            while j<nvalid:\n",
    "                while cur[i] is None:\n",
    "                    i += 1\n",
    "                cur[i].left = nxt[j<<1]\n",
    "                cur[i].right = nxt[(j<<1)+1]\n",
    "                # print(i,j,len(cur),len(nxt),nvalid,L,R,len(arr))\n",
    "                i += 1\n",
    "                j += 1\n",
    "            return cur\n",
    "        return bfs(0,0)[0]\n",
    "    \n",
    "    def __str__(self):\n",
    "        ans = ''\n",
    "        q = [self]\n",
    "        while q:\n",
    "            ans += ' '.join([str(x.val) if x is not None else 'x' for x in q])+ '\\n'\n",
    "            q = [y for x in q for y in ([x.left,x.right] if x is not None else [None,None])]\n",
    "            if all([x is None for x in q]):\n",
    "                break\n",
    "            # print(ans)\n",
    "        return ans\n",
    "null = None\n",
    "root = TreeNode.construct([1,2,null,null,3,4,5,null,7])     \n",
    "print(root)"
   ]
  },
  {
   "cell_type": "code",
   "execution_count": 24,
   "id": "b3a96cbc-ae1a-4ed9-a94e-51ca47ba36d5",
   "metadata": {},
   "outputs": [],
   "source": [
    "class Solution:\n",
    "    def maxDepth(self,root):\n",
    "        self.ans = 0\n",
    "        def dfs(root,d):\n",
    "            if root:\n",
    "                dfs(root.left,d+1)\n",
    "                dfs(root.right,d+1)\n",
    "                if not root.left and not root.right:\n",
    "                    self.ans = max(self.ans,d)\n",
    "        dfs(root,1)\n",
    "        return self.ans"
   ]
  },
  {
   "cell_type": "code",
   "execution_count": 25,
   "id": "d0eff83f-8ca9-4a41-978e-0969bc8fb522",
   "metadata": {},
   "outputs": [],
   "source": [
    "class Solution:\n",
    "    def maxDepth(self,root):\n",
    "        q = []\n",
    "        if root:\n",
    "            q.append(root)\n",
    "        d = 0\n",
    "        while q:\n",
    "            q = [y for x in q for y in [x.left,x.right] if y]\n",
    "            d += 1\n",
    "        return d"
   ]
  },
  {
   "cell_type": "code",
   "execution_count": 27,
   "id": "fbcce17b-06c7-41d9-b61a-1fcdbdf71ccd",
   "metadata": {},
   "outputs": [],
   "source": [
    "class Solution:\n",
    "    def maxDepth(self,root):\n",
    "        stack = []\n",
    "        node = root\n",
    "        d = 1\n",
    "        ans = 0\n",
    "        while node or stack:\n",
    "            if node:\n",
    "                stack.append((node,d))\n",
    "                node = node.left\n",
    "                d += 1\n",
    "            else:\n",
    "                node,d = stack.pop()\n",
    "                ans = max(ans,d)\n",
    "                node = node.right\n",
    "                d += 1\n",
    "        return ans"
   ]
  },
  {
   "cell_type": "code",
   "execution_count": 35,
   "id": "3d31065e-a45f-4fe8-afea-8396ed3338e9",
   "metadata": {},
   "outputs": [
    {
     "name": "stdout",
     "output_type": "stream",
     "text": [
      "[4, 9, 6, 10, 3, 7, 5, 8, 2, 1] [1, 2, 3, 4, 6, 9, 10, 5, 7, 8]\n",
      "1\n",
      "2 x\n",
      "3 x x x\n",
      "4 5 x x x x x x\n",
      "x 6 7 8 x x x x x x x x x x x x\n",
      "x x 9 10 x x x x x x x x x x x x x x x x x x x x x x x x x x x x\n",
      "\n",
      "4\n",
      "x 6\n",
      "x x 9 10\n",
      "\n",
      "5\n",
      "7 8\n",
      "\n"
     ]
    }
   ],
   "source": [
    "class Solution:\n",
    "    def maxDepth(self,root):\n",
    "        inorder = []\n",
    "        preorder = []\n",
    "        stack = []\n",
    "        node = root\n",
    "        while node or stack:\n",
    "            if node:\n",
    "                stack.append(node)\n",
    "                preorder.append(node.val)\n",
    "                node = node.left\n",
    "            else:\n",
    "                node = stack.pop()\n",
    "                inorder.append(node.val)\n",
    "                node = node.right\n",
    "        print(inorder,preorder)\n",
    "        \n",
    "root = TreeNode.construct([1,2,null,3,null,4,5,null,6,7,8,9,10])\n",
    "Solution().maxDepth(root)\n",
    "print(root)\n",
    "print(root.left.left.left)\n",
    "print(root.left.left.right)"
   ]
  },
  {
   "cell_type": "code",
   "execution_count": null,
   "id": "a65d4814-f2a4-4946-b838-3bbc68339989",
   "metadata": {},
   "outputs": [],
   "source": []
  }
 ],
 "metadata": {
  "kernelspec": {
   "display_name": "Python 3",
   "language": "python",
   "name": "python3"
  },
  "language_info": {
   "codemirror_mode": {
    "name": "ipython",
    "version": 3
   },
   "file_extension": ".py",
   "mimetype": "text/x-python",
   "name": "python",
   "nbconvert_exporter": "python",
   "pygments_lexer": "ipython3",
   "version": "3.9.2"
  }
 },
 "nbformat": 4,
 "nbformat_minor": 5
}
