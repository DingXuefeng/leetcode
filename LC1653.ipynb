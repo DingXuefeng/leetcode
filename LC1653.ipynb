{
 "cells": [
  {
   "cell_type": "markdown",
   "id": "6eb18d3e-e9d5-4427-a218-440b1028b2ce",
   "metadata": {},
   "source": [
    "# minimum deletion"
   ]
  },
  {
   "cell_type": "markdown",
   "id": "6278fac1-e496-4ff1-9006-66abc84019c5",
   "metadata": {},
   "source": [
    "s is of onlhy a and b\n",
    "delete some to make s balanced => `no i,j i<j and s[i]='b' and s[j]='a'`\n",
    "return minimum number of deletion\n",
    "\n",
    "```\n",
    "1<=s.length<=10**5\n",
    "s[i] = 'a' or 'b'\n",
    "```"
   ]
  },
  {
   "cell_type": "code",
   "execution_count": 1,
   "id": "9ba78fd7-888d-4cf3-ad8d-a155bf075743",
   "metadata": {},
   "outputs": [],
   "source": [
    "class Solution:\n",
    "    def minimumDeletions(self,s):\n",
    "        n = len(s)\n",
    "        noa = [0]*(n+1)\n",
    "        for i in range(n-1,-1,-1):\n",
    "            if s[i]=='a':\n",
    "                noa[i] = noa[i+1]+1\n",
    "            else:\n",
    "                noa[i] = noa[i+1]\n",
    "        ans = n\n",
    "        leftb = 0\n",
    "        for i,c in enumerate(s):\n",
    "            ans = min(ans,noa[i+1]+leftb)\n",
    "            if s[i]=='b':\n",
    "                leftb += 1\n",
    "        return ans"
   ]
  },
  {
   "cell_type": "code",
   "execution_count": 2,
   "id": "ab38e389-08e3-438d-ba5b-d30069d512f8",
   "metadata": {},
   "outputs": [],
   "source": [
    "class Solution:\n",
    "    def mininumDeletion(self,s):\n",
    "        nb = 0\n",
    "        ans = 0\n",
    "        for c in s:\n",
    "            if c=='a':\n",
    "                ans = min(nb,ans+1)\n",
    "            else:\n",
    "                b += 1\n",
    "        return ans"
   ]
  },
  {
   "cell_type": "code",
   "execution_count": 4,
   "id": "f63af363-068c-4028-b260-9469c07daec0",
   "metadata": {},
   "outputs": [],
   "source": [
    "class Solution:\n",
    "    def minimumDeletions(self,s):\n",
    "        nb = 0\n",
    "        ans = 0\n",
    "        for c in s:\n",
    "            if c=='a':\n",
    "                ans = min(nb,ans+1)\n",
    "            else:\n",
    "                nb += 1\n",
    "        return ans"
   ]
  },
  {
   "cell_type": "code",
   "execution_count": null,
   "id": "148ead59-e5e6-47a7-9ff3-7ee0535e5bea",
   "metadata": {},
   "outputs": [],
   "source": []
  }
 ],
 "metadata": {
  "kernelspec": {
   "display_name": "Python 3",
   "language": "python",
   "name": "python3"
  },
  "language_info": {
   "codemirror_mode": {
    "name": "ipython",
    "version": 3
   },
   "file_extension": ".py",
   "mimetype": "text/x-python",
   "name": "python",
   "nbconvert_exporter": "python",
   "pygments_lexer": "ipython3",
   "version": "3.9.2"
  }
 },
 "nbformat": 4,
 "nbformat_minor": 5
}
