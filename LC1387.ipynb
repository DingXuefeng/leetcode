{
 "cells": [
  {
   "cell_type": "markdown",
   "id": "610c82f7-5054-40db-966f-2f1a3a253fc2",
   "metadata": {},
   "source": [
    "# sort integers by the power values"
   ]
  },
  {
   "cell_type": "markdown",
   "id": "a1dfd04d-3637-4b63-bfaf-bb15eff6ef7e",
   "metadata": {},
   "source": [
    "power of x is the number of steps to move x to 1\n",
    "every step, \n",
    "```\n",
    "x -> x>>1 if x&1==0\n",
    "x -> 3*x+1 if x&1==1\n",
    "```\n",
    "return kth integer in the range [lo,hi] sorted by the power value, then by the integer's value\n",
    "\n",
    "constraint\n",
    "```    \n",
    "1<=lo<=hi<=1000\n",
    "1<=k<=hi-lo+1\n",
    "```"
   ]
  },
  {
   "cell_type": "markdown",
   "id": "a9c1b46f-b3ed-4fe5-b931-f87affbc91ee",
   "metadata": {},
   "source": [
    "## DP\n",
    "```\n",
    "dp[i] = dp[i>>1]+1 if i&1==0 else dp[i-1]; dp[1] = 0 loop through [1, hi] O(n)\n",
    "partition dp[lo,hi] with k\n",
    "```"
   ]
  },
  {
   "cell_type": "markdown",
   "id": "0898b800-5c0b-441d-b429-40c257371ef6",
   "metadata": {},
   "source": [
    "### Attempt 1"
   ]
  },
  {
   "cell_type": "code",
   "execution_count": 1,
   "id": "e85171e0-4673-483a-a8f6-2418bcecda36",
   "metadata": {},
   "outputs": [],
   "source": [
    "class Solution:\n",
    "    def getKth(self,lo,hi,k):\n",
    "        dp = [None]*(hi+1)\n",
    "        dp[1] = 0\n",
    "        for i in range(2,hi+1):\n",
    "            dp[i] = dp[i>>1]+1 if i&1==0 else dp[i-1]\n",
    "        ans = sorted(dp[lo:hi+1])\n",
    "        return ans[k-1]"
   ]
  },
  {
   "cell_type": "markdown",
   "id": "40ba2c47-c3c7-4fe9-b037-c57489bfd8cf",
   "metadata": {},
   "source": [
    "**mistake**\n",
    "- output the number, not the rank"
   ]
  },
  {
   "cell_type": "markdown",
   "id": "32c1a322-5f4f-4a61-8e63-d35022498df1",
   "metadata": {},
   "source": [
    "### Attempt 2"
   ]
  },
  {
   "cell_type": "code",
   "execution_count": 3,
   "id": "22565aa4-a5e9-4034-b6cc-c19367be8172",
   "metadata": {},
   "outputs": [],
   "source": [
    "class Solution:\n",
    "    def getKth(self,lo,hi,k):\n",
    "        dp = [None]*(hi+1)\n",
    "        dp[1] = (0,1)\n",
    "        for i in range(2,hi+1):\n",
    "            dp[i] = (dp[i>>1][0] if i&1==0 else dp[i-1][0],i)\n",
    "        print(dp[lo:hi+1])\n",
    "        ans = sorted(dp[lo:hi+1])\n",
    "        return ans[k-1][1]"
   ]
  },
  {
   "cell_type": "markdown",
   "id": "c523e0c6-ea80-4d6d-8b63-acadd9ee0d6b",
   "metadata": {},
   "source": [
    "**mistake**\n",
    "- forgot to add 1"
   ]
  },
  {
   "cell_type": "markdown",
   "id": "23fda1ab-b12a-4786-9acd-6ac7d1ec0033",
   "metadata": {},
   "source": [
    "### Attempt 3"
   ]
  },
  {
   "cell_type": "code",
   "execution_count": 5,
   "id": "a61d4c32-12b3-4820-81cb-6f967a7b666d",
   "metadata": {},
   "outputs": [],
   "source": [
    "class Solution:\n",
    "    def getKth(self,lo,hi,k):\n",
    "        dp = [None]*(hi+1)\n",
    "        dp[1] = (0,1)\n",
    "        for i in range(2,hi+1):\n",
    "            dp[i] = (dp[i>>1] if i&1==0 else dp[i-1])+1,i\n",
    "        ans = sorted(dp[lo:hi+1])\n",
    "        return ans[k-1][1]"
   ]
  },
  {
   "cell_type": "markdown",
   "id": "fdb07b6d-7001-42e5-9367-5e37022781ae",
   "metadata": {},
   "source": [
    "**mistake**\n",
    "- dp is now tuple"
   ]
  },
  {
   "cell_type": "markdown",
   "id": "288863fb-40ec-46dd-8d19-e949caac76df",
   "metadata": {},
   "source": [
    "### Attempt 4"
   ]
  },
  {
   "cell_type": "code",
   "execution_count": 17,
   "id": "6ea52bd9-3084-41dd-91ab-e3849104bc20",
   "metadata": {},
   "outputs": [],
   "source": [
    "class Solution:\n",
    "    def getKth(self,lo,hi,k):\n",
    "        dp = [None]*(hi+1)\n",
    "        dp[1] = (0,1)\n",
    "        for i in range(2,hi+1):\n",
    "            dp[i] = (dp[i>>1][0] if i&1==0 else dp[i-1][0])+1,i\n",
    "        ans = sorted(dp[lo:hi+1])\n",
    "        print(dp[lo:hi+1])\n",
    "        print(ans)\n",
    "        return ans[k-1][1]"
   ]
  },
  {
   "cell_type": "markdown",
   "id": "f09b5fd9-f790-4776-b1ff-b325a55d6d23",
   "metadata": {},
   "source": [
    "**mistake**\n",
    "- question not carefully read"
   ]
  },
  {
   "cell_type": "markdown",
   "id": "23c94e20-d417-4527-89e4-db1a708da606",
   "metadata": {},
   "source": [
    "### Attempt 5"
   ]
  },
  {
   "cell_type": "code",
   "execution_count": 19,
   "id": "59dffe3e-0b5b-4bc7-b917-91b71934d889",
   "metadata": {},
   "outputs": [],
   "source": [
    "from functools import *\n",
    "class Solution:\n",
    "    def getKth(self,lo,hi,k):\n",
    "        @lru_cache(maxsize=None)\n",
    "        def f(n):\n",
    "            if n==1:\n",
    "                return 0\n",
    "            elif n&1:\n",
    "                return f(3*n+1)\n",
    "            else:\n",
    "                return f(n>>1)\n",
    "        ans = sorted([(f(i),i) for i in range(lo,hi+1)])\n",
    "        return ans[k-1][1]"
   ]
  },
  {
   "cell_type": "markdown",
   "id": "5e684fc4-a648-4b03-bbdc-3ef7afd94182",
   "metadata": {},
   "source": [
    "**mistake**\n",
    "- forgot to add 1"
   ]
  },
  {
   "cell_type": "markdown",
   "id": "03efb91f-7141-4cd4-80d6-2c43859a00fc",
   "metadata": {},
   "source": [
    "### Attempt 6"
   ]
  },
  {
   "cell_type": "code",
   "execution_count": 25,
   "id": "195c0911-ad9d-4b63-906c-d0747e0e5bd7",
   "metadata": {},
   "outputs": [],
   "source": [
    "class Solution:\n",
    "    def getKth(self,lo,hi,k):\n",
    "        @lru_cache(maxsize=None)\n",
    "        def f(n):\n",
    "            if n==1:\n",
    "                return 0\n",
    "            elif n&1:\n",
    "                return f(3*n+1)+1\n",
    "            else:\n",
    "                return f(n>>1)+1\n",
    "        ans = sorted([(f(i),i) for i in range(lo,hi+1)])\n",
    "        return ans[k-1][1]"
   ]
  },
  {
   "cell_type": "markdown",
   "id": "c3a6aa0b-eb05-4a45-80e8-aadb657558f0",
   "metadata": {},
   "source": [
    "**AC**"
   ]
  },
  {
   "cell_type": "code",
   "execution_count": 26,
   "id": "a14a3baa-0bae-436f-b730-5ef261960459",
   "metadata": {},
   "outputs": [
    {
     "data": {
      "text/plain": [
       "7"
      ]
     },
     "execution_count": 26,
     "metadata": {},
     "output_type": "execute_result"
    }
   ],
   "source": [
    "Solution().getKth(7,11,4)"
   ]
  },
  {
   "cell_type": "code",
   "execution_count": null,
   "id": "5d054bbd-0754-4d30-a38b-4e5e2b0c8c48",
   "metadata": {},
   "outputs": [],
   "source": []
  }
 ],
 "metadata": {
  "kernelspec": {
   "display_name": "Python 3",
   "language": "python",
   "name": "python3"
  },
  "language_info": {
   "codemirror_mode": {
    "name": "ipython",
    "version": 3
   },
   "file_extension": ".py",
   "mimetype": "text/x-python",
   "name": "python",
   "nbconvert_exporter": "python",
   "pygments_lexer": "ipython3",
   "version": "3.9.2"
  }
 },
 "nbformat": 4,
 "nbformat_minor": 5
}
