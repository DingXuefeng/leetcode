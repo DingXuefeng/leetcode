{
 "cells": [
  {
   "cell_type": "markdown",
   "id": "7adc0da7-f43f-4fff-a350-fad419e22b09",
   "metadata": {},
   "source": [
    "# Minimum of work sessions\n",
    "\n",
    "Put tasks in minimum number of bags of size sessionTime.\n",
    "\n",
    "```\n",
    "1<=n<=14\n",
    "1<=task[i]<=10\n",
    "max(tasks)<=sessionTime<=15\n",
    "```"
   ]
  },
  {
   "cell_type": "code",
   "execution_count": 6,
   "id": "02dc4a35-62e7-4955-96ce-d169bf636e39",
   "metadata": {},
   "outputs": [],
   "source": [
    "from bisect import *"
   ]
  },
  {
   "cell_type": "code",
   "execution_count": 8,
   "id": "8081270c-3d27-41b9-9646-82202efb2e7b",
   "metadata": {},
   "outputs": [],
   "source": [
    "class Solution:\n",
    "    def minSessions(self,tasks,sessionTime):\n",
    "        n = len(tasks)\n",
    "        best = n\n",
    "        def backtrack(i,track):\n",
    "            nonlocal best\n",
    "            if len(track)<best:\n",
    "                if i==n:\n",
    "                    best = min(best,len(track))\n",
    "                else:\n",
    "                    for j in range(len(track)):\n",
    "                        track[j] -= tasks[i]\n",
    "                        backtrack(i+1,track)\n",
    "                        track[j] += tasks[i]\n",
    "                    backtrack(i+1,track+[sessionTime-tasks[i]])\n",
    "        backtrack(0,[])\n",
    "        return best\n"
   ]
  },
  {
   "cell_type": "markdown",
   "id": "6a1c5864-00d6-4587-95f8-88363a6863d1",
   "metadata": {},
   "source": [
    "**AC**"
   ]
  },
  {
   "cell_type": "code",
   "execution_count": 15,
   "id": "52e82962-802c-44e8-bfea-d6ea718ef780",
   "metadata": {},
   "outputs": [],
   "source": [
    "class Solution:\n",
    "    def minSessions(self,tasks,sessionTime):\n",
    "        n = len(tasks)\n",
    "        L,R = ceil(sum(tasks)/sessionTime),n\n",
    "        while L<R:\n",
    "            mid = L+(R-L>>1)\n",
    "            def check(i):\n",
    "                if i==n:\n",
    "                    return True\n",
    "                for j in range(mid):\n",
    "                    if bag[j]>=tasks[i]:\n",
    "                        bag[j] -= tasks[i]\n",
    "                        if dfs(i+1):\n",
    "                            return True\n",
    "                        bag[j] += tasks[i]\n",
    "                    if bag[j]==sessionTime: # empty fail, later must fail\n",
    "                        return False\n",
    "                return False\n",
    "            if check(mid):\n",
    "                R = mid\n",
    "            else:\n",
    "                L = mid+1\n",
    "        return L"
   ]
  },
  {
   "cell_type": "code",
   "execution_count": 16,
   "id": "97d2e3ef-d154-4e62-acd0-f8a6d04f5044",
   "metadata": {},
   "outputs": [],
   "source": [
    "class Solution:\n",
    "    def minSessions(self,tasks,sessionTime):\n",
    "        n = len(tasks)\n",
    "        L,R = ceil(sum(tasks)/sessionTime),n\n",
    "        while L<R:\n",
    "            mid = L+(R-L>>1)\n",
    "            bag = [sessionTime]*mid\n",
    "            def check(i):\n",
    "                if i==n:\n",
    "                    return True\n",
    "                for j in range(mid):\n",
    "                    if bag[j]>=tasks[i]:\n",
    "                        bag[j] -= tasks[i]\n",
    "                        if check(i+1):\n",
    "                            return True\n",
    "                        bag[j] += tasks[i]\n",
    "                    if bag[j]==sessionTime:\n",
    "                        return False\n",
    "                return False\n",
    "            if check(mid):\n",
    "                R = mid\n",
    "            else:\n",
    "                L = mid+1\n",
    "        return L"
   ]
  },
  {
   "cell_type": "code",
   "execution_count": 17,
   "id": "7ae70801-1993-4df2-9298-aa710f7cfa73",
   "metadata": {},
   "outputs": [],
   "source": [
    "class Solution:\n",
    "    def minSessions(self,tasks,sessionTime):\n",
    "        n = len(tasks)\n",
    "        L,R = ceil(sum(tasks)/sessionTime),n\n",
    "        while L<R:\n",
    "            mid = L+(R-L>>1)\n",
    "            bag = [sessionTime]*mid\n",
    "            def check(i):\n",
    "                if i==n:\n",
    "                    return True\n",
    "                for j in range(mid):\n",
    "                    if bag[j]>=tasks[i]:\n",
    "                        bag[j] -= tasks[i]\n",
    "                        if check(i+1):\n",
    "                            return True\n",
    "                        bag[j] += tasks[i]\n",
    "                    if bag[j]==sessionTime:\n",
    "                        return False\n",
    "                return False\n",
    "            if check(0):\n",
    "                R = mid\n",
    "            else:\n",
    "                L = mid+1"
   ]
  },
  {
   "cell_type": "code",
   "execution_count": 19,
   "id": "818f1e65-d413-48a9-b7d5-55888cadf9be",
   "metadata": {},
   "outputs": [],
   "source": [
    "class Solution:\n",
    "    def minSessions(self,tasks,sessionTime):\n",
    "        n = len(tasks)\n",
    "        L,R = ceil(sum(tasks)/sessionTime),n\n",
    "        while L<R:\n",
    "            mid = L+(R-L>>1)\n",
    "            bag = [sessionTime]*mid\n",
    "            def dfs(i):\n",
    "                if i==n:\n",
    "                    return True\n",
    "                for j in range(mid):\n",
    "                    if bag[j]>=tasks[i]:\n",
    "                        bag[j] -= tasks[i]\n",
    "                        if dfs(i+1):\n",
    "                            return True\n",
    "                        bag[j] += tasks[i]\n",
    "                    if bag[j]==sessionTime:\n",
    "                        return False\n",
    "                return False\n",
    "            if dfs(0):\n",
    "                R = mid\n",
    "            else:\n",
    "                L = mid+1\n",
    "        return L"
   ]
  },
  {
   "cell_type": "markdown",
   "id": "cf957bee-8927-455f-9b8a-f66298d0ef3d",
   "metadata": {},
   "source": [
    "**AC**"
   ]
  },
  {
   "cell_type": "code",
   "execution_count": 14,
   "id": "b6b1215e-c528-4617-9800-4f16322a3f5a",
   "metadata": {},
   "outputs": [
    {
     "name": "stdout",
     "output_type": "stream",
     "text": [
      "5\n"
     ]
    }
   ],
   "source": [
    "Solution().minSessions([1,2,3],3)\n",
    "print(Solution().minSessions([3,1,1,2,7,4,5,3,1,1,8],8))"
   ]
  },
  {
   "cell_type": "code",
   "execution_count": null,
   "id": "6f6d2338-d8bd-42b0-a841-f3a204ae384e",
   "metadata": {},
   "outputs": [],
   "source": []
  }
 ],
 "metadata": {
  "kernelspec": {
   "display_name": "Python 3",
   "language": "python",
   "name": "python3"
  },
  "language_info": {
   "codemirror_mode": {
    "name": "ipython",
    "version": 3
   },
   "file_extension": ".py",
   "mimetype": "text/x-python",
   "name": "python",
   "nbconvert_exporter": "python",
   "pygments_lexer": "ipython3",
   "version": "3.9.2"
  }
 },
 "nbformat": 4,
 "nbformat_minor": 5
}
