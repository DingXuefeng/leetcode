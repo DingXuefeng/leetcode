{
 "cells": [
  {
   "cell_type": "markdown",
   "id": "da712388-fd08-4918-8d59-9acdcb6ed8c2",
   "metadata": {},
   "source": [
    "# Ways to split into good string\n",
    "\n",
    "Good split:\n",
    "    \n",
    "    s = sleft+sright\n",
    "    len(set(sleft))==len(set(sright))\n",
    "    \n",
    "```\n",
    "1<=s.length<=10**5\n",
    "s.lower()==True\n",
    "```"
   ]
  },
  {
   "cell_type": "code",
   "execution_count": 3,
   "id": "7faf500b-e1ba-4f59-afb6-e288ffa59680",
   "metadata": {},
   "outputs": [],
   "source": [
    "class Solution:\n",
    "    def numSplits(self,s):\n",
    "        sset = set(s)\n",
    "        L = -1\n",
    "        Lset = set()\n",
    "        while len(Lset)!=len(sset):\n",
    "            L+=1\n",
    "            Lset.add(s[L])\n",
    "        R = len(s)\n",
    "        Rset = set()\n",
    "        while len(Rset)!=len(sset):\n",
    "            R-=1\n",
    "            Rset.add(s[R])\n",
    "        print(Lset,Rset,sset,L,R)\n",
    "        return R-L # [0,l],[l+1,n-1], l>=L, l+1<=R, L<=l<=R-1, # of l: R-1-L+1 = R-L"
   ]
  },
  {
   "cell_type": "markdown",
   "id": "9cb53c16-47c6-4742-85ce-7cd6554bf84b",
   "metadata": {},
   "source": [
    "**mistake**\n",
    "- misunderstood the question"
   ]
  },
  {
   "cell_type": "code",
   "execution_count": 4,
   "id": "0a879adc-36ba-4a1e-bd46-e98ce3cb84a8",
   "metadata": {},
   "outputs": [
    {
     "name": "stdout",
     "output_type": "stream",
     "text": [
      "{'b', 'c', 'a'} {'b', 'c', 'a'} {'b', 'c', 'a'} 4 2\n"
     ]
    },
    {
     "data": {
      "text/plain": [
       "-2"
      ]
     },
     "execution_count": 4,
     "metadata": {},
     "output_type": "execute_result"
    }
   ],
   "source": [
    "Solution().numSplits(\"aacaba\")"
   ]
  },
  {
   "cell_type": "code",
   "execution_count": 43,
   "id": "5f8394c9-a933-432a-9e57-b294666bc466",
   "metadata": {},
   "outputs": [],
   "source": [
    "class Solution:\n",
    "    def numSplits(self,s):\n",
    "        sset = set()\n",
    "        pos = [0]\n",
    "        n = len(s)\n",
    "        for i in range(n):\n",
    "            if s[i] not in sset:\n",
    "                sset.add(s[i])\n",
    "                pos.append(i)\n",
    "        ans = 0\n",
    "        sset = set()\n",
    "        ppos = n-1\n",
    "        ndiff = 0\n",
    "        for i in range(n-1,-1,-1):\n",
    "            if s[i] not in sset:\n",
    "                sset.add(s[i])\n",
    "                if 0<=ndiff<len(pos)-1:\n",
    "                    # pos[ndiff]<=L<pos[ndiff+1]\n",
    "                    # i<R<=ppos\n",
    "                    print(pos[ndiff],pos[ndiff+1],i,ppos)\n",
    "                    if pos[ndiff+1]<=i+1:\n",
    "                        ans += (ppos-i)*(pos[ndiff+1]-pos[ndiff])\n",
    "                    else:\n",
    "                        ans += sum([x-pos[ndiff]+1 for x in range(max(pos[ndiff],i+1),ppos+1)])\n",
    "                        print([x-pos[ndiff-1]+1 for x in range(max(pos[ndiff-1],i+1),ppos+1)])\n",
    "                ndiff += 1\n",
    "                ppos = i\n",
    "        return ans"
   ]
  },
  {
   "cell_type": "code",
   "execution_count": 50,
   "id": "c42e3c24-428b-4e8c-a096-065b9b849534",
   "metadata": {},
   "outputs": [],
   "source": [
    "from collections import *\n",
    "class Solution:\n",
    "    def numSplits(self,s):\n",
    "        lset = set()\n",
    "        rcnt = Counter(s)\n",
    "        rset = set(s)\n",
    "        ans = 0\n",
    "        for c in s:\n",
    "            lset.add(c)\n",
    "            rcnt[c] -= 1\n",
    "            if rcnt[c]==0:\n",
    "                rset -= {c}\n",
    "            if len(lset)==len(rset):\n",
    "                ans += 1\n",
    "        return ans"
   ]
  },
  {
   "cell_type": "markdown",
   "id": "04a93804-c4af-4559-b822-eaa9ab4d1e53",
   "metadata": {},
   "source": [
    "**AC**"
   ]
  },
  {
   "cell_type": "code",
   "execution_count": 51,
   "id": "869d891e-add9-43e2-83af-af833418aec4",
   "metadata": {},
   "outputs": [
    {
     "data": {
      "text/plain": [
       "2"
      ]
     },
     "execution_count": 51,
     "metadata": {},
     "output_type": "execute_result"
    }
   ],
   "source": [
    "Solution().numSplits(\"aacaba\")"
   ]
  },
  {
   "cell_type": "code",
   "execution_count": null,
   "id": "e025a095-7757-4212-8713-0d7ad13416f5",
   "metadata": {},
   "outputs": [],
   "source": []
  }
 ],
 "metadata": {
  "kernelspec": {
   "display_name": "Python 3",
   "language": "python",
   "name": "python3"
  },
  "language_info": {
   "codemirror_mode": {
    "name": "ipython",
    "version": 3
   },
   "file_extension": ".py",
   "mimetype": "text/x-python",
   "name": "python",
   "nbconvert_exporter": "python",
   "pygments_lexer": "ipython3",
   "version": "3.9.2"
  }
 },
 "nbformat": 4,
 "nbformat_minor": 5
}
