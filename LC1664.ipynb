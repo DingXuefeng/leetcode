{
 "cells": [
  {
   "cell_type": "markdown",
   "id": "9f520efe-9281-4a56-9154-98bbd485132d",
   "metadata": {},
   "source": [
    "# ways to make a fair array"
   ]
  },
  {
   "cell_type": "markdown",
   "id": "e509a721-6221-4524-8988-59ce460eca95",
   "metadata": {},
   "source": [
    "remove one element from arr, so that after removal, sum(arr[odd]) = sum(arr[eve])\n",
    "\n",
    "```\n",
    "1<=nums.length<=10**5\n",
    "1<=nums[i]<=10**4\n",
    "```"
   ]
  },
  {
   "cell_type": "markdown",
   "id": "78e9e6f1-0f19-4372-b1a2-371057ee7e7a",
   "metadata": {},
   "source": [
    "## idea\n",
    "\n",
    "```\n",
    "O(1) for each n\n",
    "```"
   ]
  },
  {
   "cell_type": "code",
   "execution_count": 2,
   "id": "4640bf31-6de0-4d42-a459-34e1fcd8bcf7",
   "metadata": {},
   "outputs": [
    {
     "name": "stdout",
     "output_type": "stream",
     "text": [
      "[]\n"
     ]
    }
   ],
   "source": [
    "print([][99::2])"
   ]
  },
  {
   "cell_type": "code",
   "execution_count": 3,
   "id": "215263dd-bf1c-4cd3-b70e-f6a814b4b507",
   "metadata": {},
   "outputs": [],
   "source": [
    "class Solution:\n",
    "    def waysToMakeFair(self,nums):\n",
    "        odd = sum(nums[1::2])\n",
    "        even = sum(nums[::2])\n",
    "        evenL = 0\n",
    "        oddL = 0\n",
    "        ans = 0\n",
    "        for i,c in enumerate(nums):    \n",
    "            if tot-c & 1 ==0:\n",
    "                ans += evenL + odd-oddL-(c if i&1 else 0) == oddL + even-evenL-(0 if i&1 else c)\n",
    "            if i&1:\n",
    "                oddL += c\n",
    "            else:\n",
    "                evenL += c\n",
    "        return ans\n"
   ]
  },
  {
   "cell_type": "code",
   "execution_count": 4,
   "id": "2a432f9d-68bc-43f5-84a0-3150415615e0",
   "metadata": {},
   "outputs": [],
   "source": [
    "class Solution:\n",
    "    def waysToMakeFair(self,nums):\n",
    "        even = sum(nums[::2])\n",
    "        odd = sum(nums[1::2])\n",
    "        oddL = 0\n",
    "        evenL = 0\n",
    "        ans = 0\n",
    "        for i,c in enumerate(nums):\n",
    "            if odd+even-c & 1 == 0:\n",
    "                ans += evenL+odd-oddL-(c if i&1 else 0)==oddL+even-evenL-(0 if i&1 else c)\n",
    "            if i&1:\n",
    "                oddL += c\n",
    "            else:\n",
    "                evenL += c\n",
    "        return ans"
   ]
  },
  {
   "cell_type": "code",
   "execution_count": null,
   "id": "8c0455e0-fec9-41f4-8281-0189970c728f",
   "metadata": {},
   "outputs": [],
   "source": []
  }
 ],
 "metadata": {
  "kernelspec": {
   "display_name": "Python 3",
   "language": "python",
   "name": "python3"
  },
  "language_info": {
   "codemirror_mode": {
    "name": "ipython",
    "version": 3
   },
   "file_extension": ".py",
   "mimetype": "text/x-python",
   "name": "python",
   "nbconvert_exporter": "python",
   "pygments_lexer": "ipython3",
   "version": "3.9.2"
  }
 },
 "nbformat": 4,
 "nbformat_minor": 5
}
