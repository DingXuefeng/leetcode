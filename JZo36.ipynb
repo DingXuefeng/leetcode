{
 "cells": [
  {
   "cell_type": "markdown",
   "id": "7e85d1e3-9026-4a9b-91a5-7af2e9bac4b0",
   "metadata": {},
   "source": [
    "# BST -> bi-directional linked list"
   ]
  },
  {
   "cell_type": "markdown",
   "id": "da1a443b-bd0d-448d-b73d-019bf79dd742",
   "metadata": {},
   "source": [
    "Given a BST, convert it into a sorted bi-directional linked list"
   ]
  },
  {
   "cell_type": "code",
   "execution_count": 15,
   "id": "9e38e938-a78b-45fa-b78f-0297b009c7b8",
   "metadata": {},
   "outputs": [],
   "source": [
    "class Node:\n",
    "    def __init__(self,val,left=None,right=None):\n",
    "        self.val = val\n",
    "        self.left = left\n",
    "        self.right = right\n",
    "    @classmethod\n",
    "    def construct(cls,arr):\n",
    "        n = len(arr)\n",
    "        def dfs(L,R):\n",
    "            if L>=n:\n",
    "                return [None]*(R-L+1)\n",
    "            cur = [Node(arr[i]) if i<n and arr[i] else None for i in range(L,R+1)]\n",
    "            nvalid = len([x for x in cur if x])\n",
    "            nxt = dfs(R+1,R+(nvalid<<1))\n",
    "            i,j = 0,0\n",
    "            while j<nvalid:\n",
    "                while not arr[i]:\n",
    "                    i += 1\n",
    "                cur[i].left = nxt[j<<1]\n",
    "                cur[i].right = nxt[(j<<1)+1]\n",
    "                i+=1\n",
    "                j+=1\n",
    "            return cur\n",
    "        return dfs(0,0)[0]\n",
    "    \n",
    "    def __str__(self):\n",
    "        q = [root]\n",
    "        ans = ''\n",
    "        while q:\n",
    "            ans += ' '.join([str(x.val) if x else 'x' for x in q])+'\\n'\n",
    "            q = [y for x in q for y in ([x.left,x.right] if x else [None,None])]\n",
    "            if all([x==None for x in q]):\n",
    "                break\n",
    "        return ans"
   ]
  },
  {
   "cell_type": "code",
   "execution_count": 37,
   "id": "54ef4b6d-d4b3-4052-b228-0d04c357e9a4",
   "metadata": {},
   "outputs": [
    {
     "name": "stdout",
     "output_type": "stream",
     "text": [
      "4\n",
      "2 5\n",
      "1 3 x x\n",
      "\n"
     ]
    }
   ],
   "source": [
    "root = Node.construct([4,2,5,1,3])\n",
    "print(root)"
   ]
  },
  {
   "cell_type": "markdown",
   "id": "48597d78-792c-44e7-bef5-3d5fb7fdd7ec",
   "metadata": {},
   "source": [
    "**mistake**\n",
    "- forgot `n = len(arr)`\n",
    "- `str(x)` -> `str(x.val)`"
   ]
  },
  {
   "cell_type": "code",
   "execution_count": 34,
   "id": "1427d563-c675-4019-a152-a275cca93318",
   "metadata": {},
   "outputs": [],
   "source": [
    "class Solution:\n",
    "    def treeToDoublyList(self,root):\n",
    "        dummy = Node(None)\n",
    "        self.pp,self.p = None,dummy\n",
    "        def dfs(root):\n",
    "            dfs(root.left)\n",
    "\n",
    "            self.p.left = self.pp\n",
    "            self.p.right = root\n",
    "            self.pp,self.p = self.p,root\n",
    "\n",
    "            dfs(root.right)\n",
    "        head = dummy.right\n",
    "        self.p.left = self.pp\n",
    "        self.p.right = head\n",
    "        head.left = self.p\n",
    "        return head"
   ]
  },
  {
   "cell_type": "markdown",
   "id": "b4acc756-51a9-4bcb-a612-e64300f310e7",
   "metadata": {},
   "source": [
    "**mistake**\n",
    "- forgot to test if `root` is `None`\n",
    "- forgot to run `dfs()`\n",
    "- p and pp are set in dfs, so need to use self.p and self.pp\n",
    "- forgot to consider edge case: self.p and head can be None"
   ]
  },
  {
   "cell_type": "code",
   "execution_count": 39,
   "id": "fe050302-d4aa-473d-8c47-9a1c6f3fae43",
   "metadata": {},
   "outputs": [],
   "source": [
    "root = Node.construct([4,2,5,1,3])\n",
    "ans = Solution().treeToDoublyList(root)\n",
    "# print(root)"
   ]
  },
  {
   "cell_type": "markdown",
   "id": "c74e5fa2-fa5d-421c-b5a4-301264cd42da",
   "metadata": {},
   "source": [
    "### Attempt 2"
   ]
  },
  {
   "cell_type": "code",
   "execution_count": null,
   "id": "03dedcdf-c44e-46a7-9385-a9878e444fb8",
   "metadata": {},
   "outputs": [],
   "source": [
    "class Solution:\n",
    "    def treeToDoublyList(self,root):\n",
    "        dummy = Node(None)\n",
    "        p = [None,dummy]\n",
    "        def dfs(root):\n",
    "            if root:\n",
    "                dfs(root.left)\n",
    "                p[1].left = p[0]\n",
    "                p[1].right = root\n",
    "                p[:] = [1],root\n",
    "                dfs(root.right)\n",
    "        dfs(root)\n",
    "        head = dummy.right\n",
    "        if p[1]:\n",
    "            p[1].left = p[0]\n",
    "            p[1].right = head\n",
    "        if head:\n",
    "            head.left = p[1]\n",
    "        return head\n",
    "        "
   ]
  },
  {
   "cell_type": "markdown",
   "id": "0137751a-0e8e-4741-8b25-217fed427bb2",
   "metadata": {},
   "source": [
    "**mistake**\n",
    "- naive mistake, `[1]` -> `p[1]`"
   ]
  },
  {
   "cell_type": "markdown",
   "id": "6dd48b8e-a741-461e-87be-5845716d86f2",
   "metadata": {},
   "source": [
    "### Attempt 3"
   ]
  },
  {
   "cell_type": "code",
   "execution_count": 40,
   "id": "ee759e8b-60d3-4111-8a1e-b8475e017af5",
   "metadata": {},
   "outputs": [],
   "source": [
    "class Solution:\n",
    "    def treeToDoublyList(self,root):\n",
    "        dummy = Node(None)\n",
    "        p = [None,dummy]\n",
    "        def dfs(root):\n",
    "            if root:\n",
    "                dfs(root.left)\n",
    "                p[1].left = p[0]\n",
    "                p[1].right = root\n",
    "                p[:] = p[1],root\n",
    "                dfs(root.right)\n",
    "        dfs(root)\n",
    "        head = dummy.right\n",
    "        if p[1]:\n",
    "            p[1].left = p[0]\n",
    "            p[1].right = head\n",
    "        if head:\n",
    "            head.left = p[1]"
   ]
  },
  {
   "cell_type": "markdown",
   "id": "d12a885a-dc54-403b-95b3-0fe07f24005a",
   "metadata": {},
   "source": [
    "**mistake**\n",
    "- forgot to return"
   ]
  },
  {
   "cell_type": "markdown",
   "id": "dfd9b4f9-56fb-485b-b269-37354ecf390a",
   "metadata": {},
   "source": [
    "### Attempt 4"
   ]
  },
  {
   "cell_type": "code",
   "execution_count": null,
   "id": "08f2f04e-afa7-4855-b740-b39a2cb0d063",
   "metadata": {},
   "outputs": [],
   "source": [
    "class Solution:\n",
    "    def treeToDoublyList(self,root):\n",
    "        dummy = Node(None)\n",
    "        p = [None,dummy]\n",
    "        def dfs(root):\n",
    "            if root:\n",
    "                dfs(root.left)\n",
    "                p[1].left = p[0]\n",
    "                p[1].right = root\n",
    "                p[:] = p[1],root\n",
    "                dfs(root.right)\n",
    "        dfs(root)\n",
    "        head = dummy.right\n",
    "        if p[1]:\n",
    "            p[1].left = p[0]\n",
    "            p[1].right = head\n",
    "        if head:\n",
    "            head.left = p[1]\n",
    "        return head"
   ]
  },
  {
   "cell_type": "markdown",
   "id": "104b016e-1ffb-4652-9ca1-026d3a051d6b",
   "metadata": {},
   "source": [
    "**AC**"
   ]
  },
  {
   "cell_type": "markdown",
   "id": "d1356b97-5047-44e7-87a1-b21ec1f1ee22",
   "metadata": {},
   "source": [
    "### Summary\n",
    "- remember to return\n",
    "- remember to test if it's null\n",
    "- remember to handle edge case (n=0 or n=1 etc.)\n",
    "- avoid calling local var defined outside (for python)"
   ]
  },
  {
   "cell_type": "code",
   "execution_count": null,
   "id": "a22430d6-536a-4160-9cfd-c2fe62d0826e",
   "metadata": {},
   "outputs": [],
   "source": []
  }
 ],
 "metadata": {
  "kernelspec": {
   "display_name": "Python 3",
   "language": "python",
   "name": "python3"
  },
  "language_info": {
   "codemirror_mode": {
    "name": "ipython",
    "version": 3
   },
   "file_extension": ".py",
   "mimetype": "text/x-python",
   "name": "python",
   "nbconvert_exporter": "python",
   "pygments_lexer": "ipython3",
   "version": "3.9.2"
  }
 },
 "nbformat": 4,
 "nbformat_minor": 5
}
