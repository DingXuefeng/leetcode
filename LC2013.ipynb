{
 "cells": [
  {
   "cell_type": "markdown",
   "id": "d87d43ce-21d3-41d7-bb39-69b08f29e469",
   "metadata": {},
   "source": [
    "# Detect square"
   ]
  },
  {
   "cell_type": "markdown",
   "id": "1527768f-8471-4071-87d5-5cca1568755b",
   "metadata": {},
   "source": [
    "design a stream class\n",
    "add: add points `x,y` to database\n",
    "count: count points that form an aligned square with `x,y`\n",
    "aligned sqaure: `(x,y), (a,y), (x,b), (a,b) and a!=x, b!=y`\n",
    "\n",
    "constraints:\n",
    "```\n",
    "0<=x,y<=1000\n",
    "calls for add and count<=5000\n",
    "```"
   ]
  },
  {
   "cell_type": "markdown",
   "id": "8150d612-6432-48f1-9e6b-f9052937b393",
   "metadata": {},
   "source": [
    "### Attempt 1"
   ]
  },
  {
   "cell_type": "code",
   "execution_count": null,
   "id": "6cca828e-eecd-48e3-bcfc-45c08807a738",
   "metadata": {},
   "outputs": [],
   "source": [
    "class DetectSquares:\n",
    "    def __init__(self):\n",
    "        self.xy = set()\n",
    "        self.x = set()\n",
    "        self.y = set()\n",
    "    \n",
    "    def add(self,point):\n",
    "        self.xy.add(tuple(point))\n",
    "        self.x.add(point[0])\n",
    "        self.y.add(point[1])\n",
    "    \n",
    "    def count(self,point):\n",
    "        x0,y0 = point\n",
    "        ans = 0\n",
    "        for x in self.x:\n",
    "            l = abs(x0-x)\n",
    "            if l>0:\n",
    "                for y in [y-l,y+l]:\n",
    "                    if y in self.y and (x,y) in self.xy and (x0,y) in self.xy and (x,y0) in self.xy:\n",
    "                        ans += 1\n",
    "        return ans                "
   ]
  },
  {
   "cell_type": "markdown",
   "id": "3dfae5e0-75d3-469f-838f-843b6671a1bc",
   "metadata": {},
   "source": [
    "**mistake**\n",
    "- `for y in [y0-l, y0+l]:`"
   ]
  },
  {
   "cell_type": "markdown",
   "id": "c48cc7b6-b549-46bf-8006-8492ba94d434",
   "metadata": {},
   "source": [
    "### Attempt 2"
   ]
  },
  {
   "cell_type": "code",
   "execution_count": 1,
   "id": "db701066-6fee-4996-a091-03d5875b62e0",
   "metadata": {},
   "outputs": [],
   "source": [
    "class DetectSquares:\n",
    "    \n",
    "    def __init__(self):\n",
    "        self.xy = set()\n",
    "        self.x = set()\n",
    "        self.y = set()\n",
    "    \n",
    "    def add(self,points):\n",
    "        x,y = points\n",
    "        self.xy.add((x,y))\n",
    "        self.x.add(x)\n",
    "        self.y.add(y)\n",
    "    \n",
    "    def count(self,points):\n",
    "        x0,y0 = points\n",
    "        ans = 0\n",
    "        print(points,self.x,self.y,self.xy)\n",
    "        for x in self.x:\n",
    "            l = abs(x-x0)\n",
    "            if l>0:\n",
    "                for y in [y0-l,y0+l]:\n",
    "                    if y in self.y and (x,y) in self.xy and (x,y0) in self.xy and (x0,y) in self.xy:\n",
    "                        ans += 1\n",
    "        return ans"
   ]
  },
  {
   "cell_type": "markdown",
   "id": "0cdfc53a-4876-488a-8908-fe5d1bdfa1a0",
   "metadata": {},
   "source": [
    "**mistake**\n",
    "- same point are different"
   ]
  },
  {
   "cell_type": "code",
   "execution_count": 2,
   "id": "a336c73e-f603-4daf-b719-5fb4e3d57ef9",
   "metadata": {},
   "outputs": [
    {
     "name": "stdout",
     "output_type": "stream",
     "text": [
      "[11, 10] {11, 3} {10, 2} {(11, 2), (3, 10), (3, 2)}\n",
      "[14, 8] {11, 3} {10, 2} {(11, 2), (3, 10), (3, 2)}\n",
      "[11, 10] {11, 3} {10, 2} {(11, 2), (3, 10), (3, 2)}\n"
     ]
    },
    {
     "data": {
      "text/plain": [
       "1"
      ]
     },
     "execution_count": 2,
     "metadata": {},
     "output_type": "execute_result"
    }
   ],
   "source": [
    "obj = DetectSquares()\n",
    "obj.add([3,10])\n",
    "obj.add([11,2])\n",
    "obj.add([3,2])\n",
    "obj.count([11,10])\n",
    "obj.count([14,8])\n",
    "obj.add([11,2])\n",
    "obj.count([11,10])"
   ]
  },
  {
   "cell_type": "markdown",
   "id": "f0425d74-1761-47c4-8562-28c20ae0debb",
   "metadata": {},
   "source": [
    "### Attempt 3  "
   ]
  },
  {
   "cell_type": "code",
   "execution_count": 5,
   "id": "8414459e-143a-4f48-aa13-22aeae5f725a",
   "metadata": {},
   "outputs": [],
   "source": [
    "from collections import *\n",
    "class DetectSquares:\n",
    "    \n",
    "    def __init__(self):\n",
    "        self.xy = defaultdict(int)\n",
    "        self.x = set()\n",
    "        self.y = set()\n",
    "    \n",
    "    def add(self,points):\n",
    "        x,y = points\n",
    "        self.xy[(x,y)] += 1\n",
    "        self.x.add(x)\n",
    "        self.y.add(y)\n",
    "        \n",
    "    def count(self,points):\n",
    "        x0,y0 = points\n",
    "        ans = 0\n",
    "        for x in self.x:\n",
    "            l = abs(x-x0)\n",
    "            if l>0:\n",
    "                for y in [y0-l,y0+l]:\n",
    "                    if y in self.y and (x,y) in self.xy and (x,y0) in self.xy and (x0,y) in self.xy:\n",
    "                        ans += self.xy[(x,y)]*self.xy[(x0,y)]*self.xy[(x,y0)]\n",
    "        return ans"
   ]
  },
  {
   "cell_type": "code",
   "execution_count": 18,
   "id": "b8e620ed-a77f-49fb-9728-ac05880c88ee",
   "metadata": {},
   "outputs": [
    {
     "name": "stdout",
     "output_type": "stream",
     "text": [
      "[None, None, None, 1, 0, None, 2]\n"
     ]
    }
   ],
   "source": [
    "ms = [\"DetectSquares\",\"add\",\"add\",\"add\",\"count\",\"count\",\"add\",\"count\"]\n",
    "pars = [[],[[3,10]],[[11,2]],[[3,2]],[[11,10]],[[14,8]],[[11,2]],[[11,10]]]\n",
    "ans = []\n",
    "m,p = ms.pop(0),pars.pop(0)\n",
    "obj = locals()[m]()\n",
    "for m,p in zip(ms,pars):\n",
    "    f = getattr(obj,m)\n",
    "    ans.append(f(*p))\n",
    "print(ans)"
   ]
  },
  {
   "cell_type": "code",
   "execution_count": null,
   "id": "e3d1e3fb-b7fa-4bff-a849-2027bb510b6c",
   "metadata": {},
   "outputs": [],
   "source": []
  }
 ],
 "metadata": {
  "kernelspec": {
   "display_name": "Python 3",
   "language": "python",
   "name": "python3"
  },
  "language_info": {
   "codemirror_mode": {
    "name": "ipython",
    "version": 3
   },
   "file_extension": ".py",
   "mimetype": "text/x-python",
   "name": "python",
   "nbconvert_exporter": "python",
   "pygments_lexer": "ipython3",
   "version": "3.9.2"
  }
 },
 "nbformat": 4,
 "nbformat_minor": 5
}
