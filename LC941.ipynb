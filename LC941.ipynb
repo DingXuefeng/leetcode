{
 "cells": [
  {
   "cell_type": "markdown",
   "id": "1d7af8f5-aa93-4996-88f3-fa54e056d01a",
   "metadata": {},
   "source": [
    "# Test if it's a mountain array"
   ]
  },
  {
   "cell_type": "markdown",
   "id": "b1c024dd-8ee5-45b9-b4ab-3cec32d23aa0",
   "metadata": {},
   "source": [
    "## Mistake made"
   ]
  },
  {
   "cell_type": "markdown",
   "id": "84354192-825c-48a8-bf90-a8cc6b2dce1d",
   "metadata": {},
   "source": [
    "### Attempt 1"
   ]
  },
  {
   "cell_type": "code",
   "execution_count": 1,
   "id": "01ff52b7-0f48-4afe-9827-d01981ea0900",
   "metadata": {},
   "outputs": [],
   "source": [
    "class Solution:\n",
    "    def validMountainArray(self,arr):\n",
    "        if len(arr)<3:\n",
    "            return False\n",
    "        i = 1\n",
    "        while arr[i-1]<arr[i]:\n",
    "            i += 1\n",
    "        while arr[i]>arr[i+1]:\n",
    "            i += 1\n",
    "        return i==len(arr)-1"
   ]
  },
  {
   "cell_type": "markdown",
   "id": "d5c157d7-22b1-4462-a35b-e64d3fb8461e",
   "metadata": {},
   "source": [
    "**Mistake made in attemp 1**\n",
    "- Only rule out the case when there is a too short mountain array\n",
    "- in while loop does not check if arr[i] is valid (i<n) [fixed in the second attemp]\n",
    "- does not check if the first or second can be zero\n",
    "- len(arr) is used many times\n",
    "\n",
    "**Failed on**\n",
    "```\n",
    "[9 8 7 6 5]\n",
    "```"
   ]
  },
  {
   "cell_type": "markdown",
   "id": "ed9ce7f6-895d-4ced-a49f-f11742d5a18b",
   "metadata": {},
   "source": [
    "### Attempt 2"
   ]
  },
  {
   "cell_type": "code",
   "execution_count": null,
   "id": "258d9940-ea50-4cdd-9489-dee865e70327",
   "metadata": {},
   "outputs": [],
   "source": [
    "class Solution:\n",
    "    def validMountainArray(self,arr):\n",
    "        n = len(arr)\n",
    "        if n<3:\n",
    "            return False\n",
    "        i = 1\n",
    "        while i<n and arr[i-1]<arr[i]:\n",
    "            i += 1\n",
    "        while i+1<n and arr[i]>arr[i+1]:\n",
    "            i += 1\n",
    "        return i==n-1"
   ]
  },
  {
   "cell_type": "markdown",
   "id": "a6b23684-b267-48e0-993a-9d2a9ea7a829",
   "metadata": {},
   "source": [
    "**Mistake**\n",
    "- now overflow is guarenteed, yet it only checked too short problem\n",
    "- does not think carefully all essential requirement\n",
    "**Failed on**\n",
    "```\n",
    "[1 2 3 4 5]\n",
    "```"
   ]
  },
  {
   "cell_type": "markdown",
   "id": "9a636907-22c2-4b42-844f-7651d4e5c0e0",
   "metadata": {},
   "source": [
    "### Attempt 3"
   ]
  },
  {
   "cell_type": "code",
   "execution_count": null,
   "id": "8a9a4073-c5c7-4ace-9065-45eb2a5cb3e5",
   "metadata": {},
   "outputs": [],
   "source": [
    "class Solution:\n",
    "    def validMountainArray(self,arr):\n",
    "        n = len(arr)\n",
    "        if n<3:\n",
    "            return False\n",
    "        i = 1\n",
    "        while i<n and arr[i-1]<arr[i]:\n",
    "            i += 1\n",
    "        if i==n:\n",
    "            return False\n",
    "        while i+1<n and arr[i]>arr[i+1]:\n",
    "            i += 1\n",
    "        return i==n-1"
   ]
  },
  {
   "cell_type": "markdown",
   "id": "2b8a1b26-34ef-414e-9d91-81719428e329",
   "metadata": {},
   "source": [
    "**Mistake**\n",
    "- now first loop must not be full length, so second loop will be at least length 1. But this is not direct requirement of valid second array. Not good smell.\n",
    "- First loop should be larger than zero length. Still not guarenteed.\n",
    "- when exit first loop, it is on `arr[i-1]>=arr[i]`, when from this i on, next loop check arr[i] vs arr[i+1], and `arr[i-1]==arr[i]` is not checked at all\n",
    "**Failed on**\n",
    "```\n",
    "[1 2 3 4 4 3 2 1]\n",
    "```"
   ]
  },
  {
   "cell_type": "markdown",
   "id": "757fa294-974b-4f61-91c3-6a17281799ab",
   "metadata": {},
   "source": [
    "### Attempt 4"
   ]
  },
  {
   "cell_type": "code",
   "execution_count": 2,
   "id": "56068546-adb8-4664-9112-e4b0a88608fc",
   "metadata": {},
   "outputs": [],
   "source": [
    "class Solution:\n",
    "    def validMountainArray(self,arr):\n",
    "        n = len(arr)\n",
    "        i = 1\n",
    "        while i<n and arr[i-1]<arr[i]:\n",
    "            i += 1\n",
    "        if i==n:\n",
    "            return False\n",
    "        i -= 1\n",
    "        while i+1<n and arr[i]<arr[i+1]:\n",
    "            i += 1\n",
    "        return i==n-1"
   ]
  },
  {
   "cell_type": "markdown",
   "id": "883d7d30-884c-440e-8e79-00da7191c80a",
   "metadata": {},
   "source": [
    "**Mistake**\n",
    "- first check only rule out i==n, i.e. second loop is of zero length. It's not direct req on second loop, and it does not check the first loop at all\n",
    "- now it checks also if `arr[i-1]>arr[i]`. Yet it does not check the length of second loop directly. It is only guarenteed on the first check.\n",
    "- It does not really matter is arr[i-1] or arr[i] is used. The first idea is to \n",
    "```\n",
    "for i in range(1,len(arr)-1):\n",
    "    xxx\n",
    "```\n",
    "Yet as you can imagine it's a bit difficult to continue\n",
    "**Failed on**\n",
    "```\n",
    "[5 4 3 2 1]\n",
    "```"
   ]
  },
  {
   "cell_type": "markdown",
   "id": "50a520b9-a17a-4842-bffb-acd28ad0f829",
   "metadata": {},
   "source": [
    "### Attempt 5"
   ]
  },
  {
   "cell_type": "code",
   "execution_count": null,
   "id": "a485984d-4731-4abf-8e0b-da55641021c0",
   "metadata": {},
   "outputs": [],
   "source": [
    "class Solution:\n",
    "    def validMountainArray(arr):\n",
    "        n = len(arr)\n",
    "        i = 1\n",
    "        while i<n and arr[i-1]<arr[i]:\n",
    "            i += 1\n",
    "        if i-1==0:\n",
    "            return False\n",
    "        j = i\n",
    "        while j<n and arr[j-1]>arr[j]:\n",
    "            j += 1\n",
    "        return j-i>0 and j==len(arr)"
   ]
  },
  {
   "cell_type": "markdown",
   "id": "ad2cff85-5a58-40a4-899d-55e4b65c0e33",
   "metadata": {},
   "source": [
    "**AC solution**\n",
    "- Now made independent check on two loop directly"
   ]
  },
  {
   "cell_type": "markdown",
   "id": "66cfd89d-925b-4b7c-a972-98ba05e2882b",
   "metadata": {},
   "source": [
    "### Genenral review: Why so many mistakes?\n",
    "- The initial idea is\n",
    "```python\n",
    "for i in range(1,len(arr)-1):\n",
    "    if arr[i-1]<arr[i]>arr[i+1]:\n",
    "        some job\n",
    "    else:\n",
    "        some job\n",
    "```\n",
    "Then I think that this is a bit difficult to do in this way, so I rewrite it as\n",
    "```\n",
    "i = 1\n",
    "while arr[i-1]<arr[i]:\n",
    "    i += 1\n",
    "while arr[i]>arr[i+1]:\n",
    "    i -= 1\n",
    "```\n",
    "Actually it's still a continuing of the initial idea. The way of writing the program will not change the difficulty of realizing it with the same idea. That's why there are so many problems."
   ]
  },
  {
   "cell_type": "markdown",
   "id": "63a01b93-0ab3-458c-ae34-e6fd02c8bede",
   "metadata": {},
   "source": [
    "### How to make it right?\n",
    "We can check number of peaks. If there is and is only 1 peak, it's valid."
   ]
  },
  {
   "cell_type": "code",
   "execution_count": null,
   "id": "ac2ebaa5-edfc-4ee2-b790-30c9c4e449f4",
   "metadata": {},
   "outputs": [],
   "source": [
    "class Solution:\n",
    "    def validMountainArray(self,arr):\n",
    "        np = 0\n",
    "        for i in range(1,len(arr)-1):\n",
    "            if arr[i-1]<arr[i]>arr[i+1]:\n",
    "                np += 1\n",
    "                if np>1:\n",
    "                    return False\n",
    "        return np==1"
   ]
  },
  {
   "cell_type": "markdown",
   "id": "1e0d5d4b-1b2e-4683-9f30-5f712a84b5d8",
   "metadata": {},
   "source": [
    "**Mistake**\n",
    "- Does not check two bounaries.\n",
    "- Indirect check, not good smell. "
   ]
  },
  {
   "cell_type": "code",
   "execution_count": null,
   "id": "28857219-7ce5-48e2-8fed-24f5997d235a",
   "metadata": {},
   "outputs": [],
   "source": [
    "class Solution:\n",
    "    def validMountainArray(self,arr):\n",
    "        n = len(arr)\n",
    "        arr = [float('-inf')]+arr+[float('-inf')]\n",
    "        np = 0\n",
    "        for i in range(1,len(arr)+1):\n",
    "            if arr[i-1]<arr[i]>arr[i+1]:\n",
    "                np += 1\n",
    "                if np>1:\n",
    "                    return False\n",
    "        return np==1"
   ]
  },
  {
   "cell_type": "markdown",
   "id": "18b1d16d-ac62-4d18-9ff3-12b4aea0d7bc",
   "metadata": {},
   "source": [
    "**Mistake**\n",
    "- out of range. len(arr) has been updated. should use `n+1` or `len(arr)` as upper bound."
   ]
  },
  {
   "cell_type": "code",
   "execution_count": null,
   "id": "1a482c5e-fa3e-4f7b-a524-592a8c9d6349",
   "metadata": {},
   "outputs": [],
   "source": [
    "class Solution:\n",
    "    def validMountainArray(self,arr):\n",
    "        arr = [float('-inf')]+arr+[float('-inf')]\n",
    "        np = 0\n",
    "        for i in range(1,len(arr)):\n",
    "            if arr[i-1]<arr[i]>arr[i+1]:\n",
    "                np += 1\n",
    "                if np>1:\n",
    "                    return False\n",
    "            elif arr[i-1]==arr[i] or arr[i]==arr[i+1]:\n",
    "                return False\n",
    "            else: # a<b<c or a>b>c\n",
    "                pass\n",
    "        return np==1"
   ]
  },
  {
   "cell_type": "markdown",
   "id": "1dfde813-e838-495b-b5f2-023b1d93943c",
   "metadata": {},
   "source": [
    "**Mistake**\n",
    "- maximum loop should be len(arr)-1. \n",
    "- does not rule out len(arr)==2 case. \n",
    "In the begining this is guarenteed by np==0 initially and there would be no loop.\n",
    "Then two inf are added and this guarentee (side effect) is broken. **Die of side effect**"
   ]
  },
  {
   "cell_type": "code",
   "execution_count": null,
   "id": "ec56e60a-4b65-4967-9738-50eac1ec1292",
   "metadata": {},
   "outputs": [],
   "source": [
    "class Solution:\n",
    "    def validMountainArray(self,arr):\n",
    "        hasPeak = False\n",
    "        for i in range(1,len(arr)-1):\n",
    "            if arr[i-1]<arr[i]>arr[i+1]:\n",
    "                hasPeak = True\n",
    "            elif not (arr[i-1]<arr[i]<arr[i+1] or arr[i-1]>arr[i]>arr[i+1]):\n",
    "                return False\n",
    "        return hasPeak"
   ]
  },
  {
   "cell_type": "markdown",
   "id": "5a9f973b-f871-45f9-ad2d-90a5213d55c8",
   "metadata": {},
   "source": [
    "**AC solution**\n",
    "- elagant."
   ]
  },
  {
   "cell_type": "code",
   "execution_count": null,
   "id": "da909336-7dce-48a8-96e7-73760903dc4b",
   "metadata": {},
   "outputs": [],
   "source": []
  }
 ],
 "metadata": {
  "kernelspec": {
   "display_name": "Python 3",
   "language": "python",
   "name": "python3"
  },
  "language_info": {
   "codemirror_mode": {
    "name": "ipython",
    "version": 3
   },
   "file_extension": ".py",
   "mimetype": "text/x-python",
   "name": "python",
   "nbconvert_exporter": "python",
   "pygments_lexer": "ipython3",
   "version": "3.9.2"
  }
 },
 "nbformat": 4,
 "nbformat_minor": 5
}
