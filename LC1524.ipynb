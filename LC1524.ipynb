{
 "cells": [
  {
   "cell_type": "markdown",
   "id": "b55990fb-0f95-491c-a432-b105bff8dd8e",
   "metadata": {},
   "source": [
    "# number of sub array with odd sum"
   ]
  },
  {
   "cell_type": "markdown",
   "id": "ca9cbbd7-5945-4eec-b614-23686cdfcff8",
   "metadata": {},
   "source": [
    "```\n",
    "1<=arr.length<=10**5\n",
    "1<=arr[i]<=100\n",
    "```"
   ]
  },
  {
   "cell_type": "markdown",
   "id": "28a89432-1ec9-4b91-b2c1-a6f74b1711f1",
   "metadata": {},
   "source": [
    "## Idea\n",
    "dp[i]: # ending at arr[i]\n",
    "```\n",
    "dp[i][1+arr[i]&1] = dp[i][1]\n",
    "dp[i][0+arr[i]&1] = dp[i][0]+1 (arr[i] it self)\n",
    "```"
   ]
  },
  {
   "cell_type": "code",
   "execution_count": 4,
   "id": "92d8c5ea-96cd-4c63-96cc-70bcabd58718",
   "metadata": {},
   "outputs": [],
   "source": [
    "class Solution:\n",
    "    def numOfSubarrays(self,arr):\n",
    "        n = len(arr)\n",
    "        dp = [[0]*2 for _ in range(n+1)]\n",
    "        ans = 0\n",
    "        for i,a in enumerate(arr):\n",
    "            dp[i+1][1+a & 1] = dp[i][1]\n",
    "            dp[i+1][a & 1] = dp[i][0]+1\n",
    "            ans += dp[i+1][1]\n",
    "        return ans"
   ]
  },
  {
   "cell_type": "markdown",
   "id": "96e8dbf6-0699-4693-a1e0-bf4076cac485",
   "metadata": {},
   "source": [
    "**mistake**\n",
    "- forgot to mod 10**9+7"
   ]
  },
  {
   "cell_type": "code",
   "execution_count": 7,
   "id": "40ff3ae0-33a4-4169-a253-44e6c1dcc4c1",
   "metadata": {},
   "outputs": [],
   "source": [
    "class Solution:\n",
    "    def numOfSubarrays(self,arr):\n",
    "        n = len(arr)\n",
    "        dp = [[0]*2 for _ in range(n+1)]\n",
    "        ans = 0\n",
    "        for i,a in enumerate(arr):\n",
    "            dp[i+1][1+a&1] = dp[i][1]\n",
    "            dp[i+1][a&1] = dp[i][0]+1\n",
    "            ans += dp[i+1][1]\n",
    "        return ans % (10**9+7)"
   ]
  },
  {
   "cell_type": "markdown",
   "id": "2a40527a-5cb2-4934-9170-21811bea9110",
   "metadata": {},
   "source": [
    "**AC**"
   ]
  },
  {
   "cell_type": "code",
   "execution_count": 5,
   "id": "26adc215-4f0f-43f3-94c6-c922b2729fb3",
   "metadata": {},
   "outputs": [],
   "source": [
    "class Solution:\n",
    "    def numOfSubarrays(self,arr):\n",
    "        even,odd = 0,0\n",
    "        ans = 0\n",
    "        for a in arr:\n",
    "            if a&1:\n",
    "                even,odd = odd,even+1\n",
    "            else:\n",
    "                even,odd = even+1,odd\n",
    "            ans += odd\n",
    "        return ans"
   ]
  },
  {
   "cell_type": "markdown",
   "id": "66522d3e-e00b-4f00-8a83-8c79736edf6d",
   "metadata": {},
   "source": [
    "**mistake**\n",
    "- forgot to mod 10**9+7"
   ]
  },
  {
   "cell_type": "code",
   "execution_count": 9,
   "id": "44e71ad4-0aff-4ae7-9a31-8ab544d0f813",
   "metadata": {},
   "outputs": [],
   "source": [
    "class Solution:\n",
    "    def numOfSubarrays(self,arr):\n",
    "        even,odd = 0,0\n",
    "        ans = 0\n",
    "        for a in arr:\n",
    "            if a&1:\n",
    "                even,odd = odd,even+1\n",
    "            else:\n",
    "                even,odd = even+1,odd\n",
    "            ans += odd\n",
    "        return ans % (10**9+7)"
   ]
  },
  {
   "cell_type": "markdown",
   "id": "1bb8ef8a-9645-4193-a102-e411bf82e1ce",
   "metadata": {},
   "source": [
    "**AC**"
   ]
  },
  {
   "cell_type": "code",
   "execution_count": null,
   "id": "68816881-c426-4468-9130-7e9b823b0e26",
   "metadata": {},
   "outputs": [],
   "source": []
  }
 ],
 "metadata": {
  "kernelspec": {
   "display_name": "Python 3",
   "language": "python",
   "name": "python3"
  },
  "language_info": {
   "codemirror_mode": {
    "name": "ipython",
    "version": 3
   },
   "file_extension": ".py",
   "mimetype": "text/x-python",
   "name": "python",
   "nbconvert_exporter": "python",
   "pygments_lexer": "ipython3",
   "version": "3.9.2"
  }
 },
 "nbformat": 4,
 "nbformat_minor": 5
}
