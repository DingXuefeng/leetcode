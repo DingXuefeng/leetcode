{
 "cells": [
  {
   "cell_type": "markdown",
   "id": "872860fe-4bd7-40fe-a3fe-7f2a4a9208ac",
   "metadata": {},
   "source": [
    "# Best team with no conflicts"
   ]
  },
  {
   "cell_type": "markdown",
   "id": "08f6abc4-6882-4558-9168-50112acedbd6",
   "metadata": {},
   "source": [
    "conflict: \n",
    "```\n",
    "scores[i]>scores[j] and ages[i]<ages[j]\n",
    "```\n",
    "select from array with maximum scores (does not have to be 5)\n",
    "\n",
    "```\n",
    "1<=scores.length, ages.length<=1000\n",
    "1<=scores[i]<=10**6\n",
    "1<=ages[i]<=1000\n",
    "```"
   ]
  },
  {
   "cell_type": "markdown",
   "id": "c552814f-b827-4e2b-b3ff-425918a6fbcb",
   "metadata": {},
   "source": [
    "## Idea\n",
    "rank by scores"
   ]
  },
  {
   "cell_type": "code",
   "execution_count": 44,
   "id": "05c03767-ec99-4f78-936f-46d9d671f95d",
   "metadata": {},
   "outputs": [],
   "source": [
    "class Solution:\n",
    "    def bestTeamScore(self,scores,ages):\n",
    "        sa = sorted(zip(ages,scores))\n",
    "        dp = [0]*len(sa)\n",
    "        for i,(a,s) in sa:\n",
    "            dp[i] = s\n",
    "            for j in range(i):\n",
    "                if sa[j][1]<=s:\n",
    "                    dp[i] = max(dp[i],s+dp[j])\n",
    "        return max(dp)"
   ]
  },
  {
   "cell_type": "code",
   "execution_count": 47,
   "id": "d0c25f8d-a87e-411a-b559-5392320656fe",
   "metadata": {},
   "outputs": [],
   "source": [
    "class Solution:\n",
    "    def bestTeamScore(self,scores,ages):\n",
    "        sa = sorted(zip(scores,ages))\n",
    "        dp = [0]*len(sa)\n",
    "        for i,(s,a) in enumerate(sa):\n",
    "            dp[i] = s\n",
    "            for j in range(i):\n",
    "                if sa[j][1]<=a:\n",
    "                    dp[i] = max(dp[i],s+dp[j])\n",
    "        return max(dp)"
   ]
  },
  {
   "cell_type": "markdown",
   "id": "8cb568da-83e3-42db-9c93-a73e809e186d",
   "metadata": {},
   "source": [
    "**AC**"
   ]
  },
  {
   "cell_type": "code",
   "execution_count": 1,
   "id": "dae08014-b7e5-48c4-9c17-a3b20b07adf7",
   "metadata": {},
   "outputs": [],
   "source": [
    "class Solution:\n",
    "    def bestTeamScore(self,scores,ages):\n",
    "        sa = sorted(zip(ages,scores))\n",
    "        i,j = 0,0\n",
    "        n = len(sa)\n",
    "        stack = [(float('inf'),0)]\n",
    "        ans = 0\n",
    "        while i<n:\n",
    "            while sa[j][0]<sa[i][0]:\n",
    "                ssum = 0\n",
    "                while stack[-1][0]<=sa[j][1]:\n",
    "                    ssum += stack[-1][1]\n",
    "                    stack.pop()\n",
    "                stack.append((sa[j][1],ssum))\n",
    "                j += 1\n",
    "            ans = max(ans,sa[i][1]+stack[-1][1])\n",
    "            i += 1\n",
    "        return ans"
   ]
  },
  {
   "cell_type": "code",
   "execution_count": 19,
   "id": "59dbbe4c-bf0e-46e5-805d-1af7392592cb",
   "metadata": {},
   "outputs": [],
   "source": [
    "class Solution:\n",
    "    def bestTeamScore(self,scores,ages):\n",
    "        sa = sorted(zip(ages,scores))\n",
    "        dp = [None,None]*len(sa)\n",
    "        print(sa)\n",
    "        ans = 0\n",
    "        for i,(a,s) in enumerate(sa):\n",
    "            ans = max(ans,sum([xs for xa,xs, in sa[:i+1] if xa==a or xa<a and xs<=s]))\n",
    "        return ans\n",
    "                    "
   ]
  },
  {
   "cell_type": "code",
   "execution_count": 50,
   "id": "df4772fa-fe1d-4b94-bd82-b933972abce0",
   "metadata": {},
   "outputs": [],
   "source": [
    "class Fenwick:\n",
    "    def __init__(self,n):\n",
    "        self.n = n\n",
    "        self.data = [0]*(n+1)\n",
    "    def update(self,u,m):\n",
    "        while u<=self.n:\n",
    "            self.data[u] = max(self.data[u],m)\n",
    "            u += u&-u\n",
    "    def q(self,u):\n",
    "        ans = 0\n",
    "        while u>0:\n",
    "            ans = max(ans,self.data[u])\n",
    "            u -= u&-u\n",
    "        return ans\n",
    "class Solution:\n",
    "    def bestTeamScore(self,scores,ages):\n",
    "        sa = sorted(zip(scores,ages)) # both sorted\n",
    "        BIT = Fenwick(max(ages))\n",
    "        dp = [0]*len(scores)\n",
    "        for i,(s,a) in enumerate(sa):\n",
    "            dp[i] = s+BIT.q(a)\n",
    "            BIT.update(a,dp[i])\n",
    "        return max(dp)"
   ]
  },
  {
   "cell_type": "markdown",
   "id": "4ec9c05c-445e-46e5-adb5-87bd8598221f",
   "metadata": {},
   "source": [
    "**AC**"
   ]
  },
  {
   "cell_type": "code",
   "execution_count": 65,
   "id": "66cf6bbe-61aa-4200-a16f-177f73c1e814",
   "metadata": {},
   "outputs": [],
   "source": [
    "class Solution:\n",
    "    def bestTeamScore(self,scores,ages):\n",
    "        sa = sorted(zip(scores,ages))\n",
    "        maxa = max(ages)\n",
    "        dp = [0]*(maxa+1) # Fenwick tree\n",
    "        for s,a in sa:\n",
    "            maxj = 0\n",
    "            u = a\n",
    "            while u>0:\n",
    "                maxj = max(maxj,dp[u])\n",
    "                u -= u&-u\n",
    "            dp[a] = s+maxj\n",
    "            u = a\n",
    "            while u<=maxa:\n",
    "                dp[u] = max(dp[u],dp[a])\n",
    "                u += u&-u\n",
    "        return max(dp)"
   ]
  },
  {
   "cell_type": "markdown",
   "id": "824a1383-9216-4782-bd81-477d036afceb",
   "metadata": {},
   "source": [
    "**AC**"
   ]
  },
  {
   "cell_type": "code",
   "execution_count": null,
   "id": "f41df293-dc94-43f4-ba45-636727e613a7",
   "metadata": {},
   "outputs": [],
   "source": [
    "class Solution:\n",
    "    def bestTeamScore(self,scores,ages):\n",
    "        sa = sorted(zip(scores,ages))\n",
    "        dp = [0]*len(ages)\n",
    "        mina = OrderedDict()\n",
    "        for i,(s,a) in enumerate(sa):\n",
    "            dp[i] = mina[\n",
    "            pos = bisect_left(mina_keys,a)\n",
    "            if pos==len(mina_keys):\n",
    "                mina_keys.append(s+mina_keys[-1])\n",
    "                mina[mina_keys[-1]] = a\n",
    "            dp[i] = \n",
    "            pos = bisect(astack,a)\n",
    "            dp[i] = s + \n",
    "            if not astack or astack[-1]<=a:\n",
    "                astack.append(a)\n",
    "                dpstack.append(dp[i])\n",
    "            else:\n",
    "                astack[pos] = a\n",
    "                dpstack[pos] = dp[i]\n",
    "            "
   ]
  },
  {
   "cell_type": "code",
   "execution_count": 34,
   "id": "da2961a8-d8c1-4228-a37f-c0b771af3665",
   "metadata": {},
   "outputs": [
    {
     "name": "stdout",
     "output_type": "stream",
     "text": [
      "{1: 3, 2: 9, 3: 5}\n",
      "1\n"
     ]
    }
   ],
   "source": [
    "from bisect import *\n",
    "a={1:3,2:4,3:5,2:9}\n",
    "print(a)\n",
    "print(bisect_left(list(a.keys()),2))"
   ]
  },
  {
   "cell_type": "code",
   "execution_count": 42,
   "id": "c41935a2-be93-4f5f-bc9e-dc6ac7f8cf23",
   "metadata": {},
   "outputs": [
    {
     "name": "stdout",
     "output_type": "stream",
     "text": [
      "SortedDict({1: 25, 2: 15, 3: 73, 4: 99, 5: 13, 9: 375})\n",
      "1\n",
      "9\n"
     ]
    }
   ],
   "source": [
    "from collections import *\n",
    "from sortedcontainers import *\n",
    "# od = OrderedDict()\n",
    "# od = {}\n",
    "\n",
    "od = SortedDict()\n",
    "od[3] = 73\n",
    "od[2] = 15\n",
    "od[4] = 99\n",
    "od[5] = 13\n",
    "od[1] = 25\n",
    "od[9] = 375\n",
    "print(od)\n",
    "print(next(iter(od)))\n",
    "print(next(reversed(od)))"
   ]
  },
  {
   "cell_type": "code",
   "execution_count": 40,
   "id": "eb286c03-3e91-4005-850b-bff988398420",
   "metadata": {},
   "outputs": [],
   "source": [
    "import sortedcontainers"
   ]
  },
  {
   "cell_type": "code",
   "execution_count": 78,
   "id": "89cc2500-a9d2-45e9-a575-f7e6de977305",
   "metadata": {},
   "outputs": [],
   "source": [
    "class Solution:\n",
    "    def bestTeamScore(self,scores,ages):\n",
    "        sa = sorted(zip(scores,ages))\n",
    "        mina = SortedDict({0:0})\n",
    "        for s,a in sa:\n",
    "            minas = mina.values()\n",
    "            prev = bisect_right(minas,a)\n",
    "            prevs = mina.keys()[prev]\n",
    "            curs = prevs + s\n",
    "            if curs in mina:\n",
    "                mina[curs] = min(mina[curs],a)\n",
    "            else:\n",
    "                mina[curs] = a\n",
    "        return mina.keys()[-1]\n",
    "        "
   ]
  },
  {
   "cell_type": "code",
   "execution_count": 77,
   "id": "6052ea69-bc23-4aaa-a5bd-74508f124c04",
   "metadata": {},
   "outputs": [
    {
     "data": {
      "text/plain": [
       "4"
      ]
     },
     "execution_count": 77,
     "metadata": {},
     "output_type": "execute_result"
    }
   ],
   "source": [
    "bisect_right([1,2,2,2,3],2)"
   ]
  },
  {
   "cell_type": "code",
   "execution_count": 72,
   "id": "0d203d6c-b9a8-4156-9497-4f52fa6d7b46",
   "metadata": {},
   "outputs": [],
   "source": [
    "a = SortedDict({0:0})"
   ]
  },
  {
   "cell_type": "code",
   "execution_count": 79,
   "id": "468fd4fd-0b44-4a57-8283-3e3d60b0053d",
   "metadata": {},
   "outputs": [
    {
     "ename": "IndexError",
     "evalue": "list index out of range",
     "output_type": "error",
     "traceback": [
      "\u001b[0;31m---------------------------------------------------------------------------\u001b[0m",
      "\u001b[0;31mIndexError\u001b[0m                                Traceback (most recent call last)",
      "\u001b[0;32m<ipython-input-79-395b878822f8>\u001b[0m in \u001b[0;36m<module>\u001b[0;34m\u001b[0m\n\u001b[1;32m      7\u001b[0m ]\n\u001b[1;32m      8\u001b[0m \u001b[0;32mfor\u001b[0m \u001b[0ms\u001b[0m\u001b[0;34m,\u001b[0m\u001b[0ma\u001b[0m\u001b[0;34m,\u001b[0m\u001b[0mo\u001b[0m \u001b[0;32min\u001b[0m \u001b[0minp\u001b[0m\u001b[0;34m:\u001b[0m\u001b[0;34m\u001b[0m\u001b[0;34m\u001b[0m\u001b[0m\n\u001b[0;32m----> 9\u001b[0;31m     \u001b[0mt\u001b[0m \u001b[0;34m=\u001b[0m \u001b[0mSolution\u001b[0m\u001b[0;34m(\u001b[0m\u001b[0;34m)\u001b[0m\u001b[0;34m.\u001b[0m\u001b[0mbestTeamScore\u001b[0m\u001b[0;34m(\u001b[0m\u001b[0ms\u001b[0m\u001b[0;34m,\u001b[0m\u001b[0ma\u001b[0m\u001b[0;34m)\u001b[0m\u001b[0;34m\u001b[0m\u001b[0;34m\u001b[0m\u001b[0m\n\u001b[0m\u001b[1;32m     10\u001b[0m     \u001b[0mprint\u001b[0m\u001b[0;34m(\u001b[0m\u001b[0mt\u001b[0m\u001b[0;34m)\u001b[0m\u001b[0;34m\u001b[0m\u001b[0;34m\u001b[0m\u001b[0m\n\u001b[1;32m     11\u001b[0m     \u001b[0;32mif\u001b[0m \u001b[0mt\u001b[0m\u001b[0;34m!=\u001b[0m\u001b[0mo\u001b[0m\u001b[0;34m:\u001b[0m\u001b[0;34m\u001b[0m\u001b[0;34m\u001b[0m\u001b[0m\n",
      "\u001b[0;32m<ipython-input-78-c25280854240>\u001b[0m in \u001b[0;36mbestTeamScore\u001b[0;34m(self, scores, ages)\u001b[0m\n\u001b[1;32m      6\u001b[0m             \u001b[0mminas\u001b[0m \u001b[0;34m=\u001b[0m \u001b[0mmina\u001b[0m\u001b[0;34m.\u001b[0m\u001b[0mvalues\u001b[0m\u001b[0;34m(\u001b[0m\u001b[0;34m)\u001b[0m\u001b[0;34m\u001b[0m\u001b[0;34m\u001b[0m\u001b[0m\n\u001b[1;32m      7\u001b[0m             \u001b[0mprev\u001b[0m \u001b[0;34m=\u001b[0m \u001b[0mbisect_right\u001b[0m\u001b[0;34m(\u001b[0m\u001b[0mminas\u001b[0m\u001b[0;34m,\u001b[0m\u001b[0ma\u001b[0m\u001b[0;34m)\u001b[0m\u001b[0;34m\u001b[0m\u001b[0;34m\u001b[0m\u001b[0m\n\u001b[0;32m----> 8\u001b[0;31m             \u001b[0mprevs\u001b[0m \u001b[0;34m=\u001b[0m \u001b[0mmina\u001b[0m\u001b[0;34m.\u001b[0m\u001b[0mkeys\u001b[0m\u001b[0;34m(\u001b[0m\u001b[0;34m)\u001b[0m\u001b[0;34m[\u001b[0m\u001b[0mprev\u001b[0m\u001b[0;34m]\u001b[0m\u001b[0;34m\u001b[0m\u001b[0;34m\u001b[0m\u001b[0m\n\u001b[0m\u001b[1;32m      9\u001b[0m             \u001b[0mcurs\u001b[0m \u001b[0;34m=\u001b[0m \u001b[0mprevs\u001b[0m \u001b[0;34m+\u001b[0m \u001b[0ms\u001b[0m\u001b[0;34m\u001b[0m\u001b[0;34m\u001b[0m\u001b[0m\n\u001b[1;32m     10\u001b[0m             \u001b[0;32mif\u001b[0m \u001b[0mcurs\u001b[0m \u001b[0;32min\u001b[0m \u001b[0mmina\u001b[0m\u001b[0;34m:\u001b[0m\u001b[0;34m\u001b[0m\u001b[0;34m\u001b[0m\u001b[0m\n",
      "\u001b[0;32m~/opt/miniconda3/envs/py39/lib/python3.9/site-packages/sortedcontainers/sorteddict.py\u001b[0m in \u001b[0;36m__getitem__\u001b[0;34m(self, index)\u001b[0m\n\u001b[1;32m    698\u001b[0m \u001b[0;34m\u001b[0m\u001b[0m\n\u001b[1;32m    699\u001b[0m         \"\"\"\n\u001b[0;32m--> 700\u001b[0;31m         \u001b[0;32mreturn\u001b[0m \u001b[0mself\u001b[0m\u001b[0;34m.\u001b[0m\u001b[0m_mapping\u001b[0m\u001b[0;34m.\u001b[0m\u001b[0m_list\u001b[0m\u001b[0;34m[\u001b[0m\u001b[0mindex\u001b[0m\u001b[0;34m]\u001b[0m\u001b[0;34m\u001b[0m\u001b[0;34m\u001b[0m\u001b[0m\n\u001b[0m\u001b[1;32m    701\u001b[0m \u001b[0;34m\u001b[0m\u001b[0m\n\u001b[1;32m    702\u001b[0m \u001b[0;34m\u001b[0m\u001b[0m\n",
      "\u001b[0;32m~/opt/miniconda3/envs/py39/lib/python3.9/site-packages/sortedcontainers/sortedlist.py\u001b[0m in \u001b[0;36m__getitem__\u001b[0;34m(self, index)\u001b[0m\n\u001b[1;32m    899\u001b[0m                 \u001b[0;32mreturn\u001b[0m \u001b[0m_lists\u001b[0m\u001b[0;34m[\u001b[0m\u001b[0;34m-\u001b[0m\u001b[0;36m1\u001b[0m\u001b[0;34m]\u001b[0m\u001b[0;34m[\u001b[0m\u001b[0mlen_last\u001b[0m \u001b[0;34m+\u001b[0m \u001b[0mindex\u001b[0m\u001b[0;34m]\u001b[0m\u001b[0;34m\u001b[0m\u001b[0;34m\u001b[0m\u001b[0m\n\u001b[1;32m    900\u001b[0m \u001b[0;34m\u001b[0m\u001b[0m\n\u001b[0;32m--> 901\u001b[0;31m             \u001b[0mpos\u001b[0m\u001b[0;34m,\u001b[0m \u001b[0midx\u001b[0m \u001b[0;34m=\u001b[0m \u001b[0mself\u001b[0m\u001b[0;34m.\u001b[0m\u001b[0m_pos\u001b[0m\u001b[0;34m(\u001b[0m\u001b[0mindex\u001b[0m\u001b[0;34m)\u001b[0m\u001b[0;34m\u001b[0m\u001b[0;34m\u001b[0m\u001b[0m\n\u001b[0m\u001b[1;32m    902\u001b[0m             \u001b[0;32mreturn\u001b[0m \u001b[0m_lists\u001b[0m\u001b[0;34m[\u001b[0m\u001b[0mpos\u001b[0m\u001b[0;34m]\u001b[0m\u001b[0;34m[\u001b[0m\u001b[0midx\u001b[0m\u001b[0;34m]\u001b[0m\u001b[0;34m\u001b[0m\u001b[0;34m\u001b[0m\u001b[0m\n\u001b[1;32m    903\u001b[0m \u001b[0;34m\u001b[0m\u001b[0m\n",
      "\u001b[0;32m~/opt/miniconda3/envs/py39/lib/python3.9/site-packages/sortedcontainers/sortedlist.py\u001b[0m in \u001b[0;36m_pos\u001b[0;34m(self, idx)\u001b[0m\n\u001b[1;32m    665\u001b[0m                 \u001b[0;32mraise\u001b[0m \u001b[0mIndexError\u001b[0m\u001b[0;34m(\u001b[0m\u001b[0;34m'list index out of range'\u001b[0m\u001b[0;34m)\u001b[0m\u001b[0;34m\u001b[0m\u001b[0;34m\u001b[0m\u001b[0m\n\u001b[1;32m    666\u001b[0m         \u001b[0;32melif\u001b[0m \u001b[0midx\u001b[0m \u001b[0;34m>=\u001b[0m \u001b[0mself\u001b[0m\u001b[0;34m.\u001b[0m\u001b[0m_len\u001b[0m\u001b[0;34m:\u001b[0m\u001b[0;34m\u001b[0m\u001b[0;34m\u001b[0m\u001b[0m\n\u001b[0;32m--> 667\u001b[0;31m             \u001b[0;32mraise\u001b[0m \u001b[0mIndexError\u001b[0m\u001b[0;34m(\u001b[0m\u001b[0;34m'list index out of range'\u001b[0m\u001b[0;34m)\u001b[0m\u001b[0;34m\u001b[0m\u001b[0;34m\u001b[0m\u001b[0m\n\u001b[0m\u001b[1;32m    668\u001b[0m \u001b[0;34m\u001b[0m\u001b[0m\n\u001b[1;32m    669\u001b[0m         \u001b[0;32mif\u001b[0m \u001b[0midx\u001b[0m \u001b[0;34m<\u001b[0m \u001b[0mlen\u001b[0m\u001b[0;34m(\u001b[0m\u001b[0mself\u001b[0m\u001b[0;34m.\u001b[0m\u001b[0m_lists\u001b[0m\u001b[0;34m[\u001b[0m\u001b[0;36m0\u001b[0m\u001b[0;34m]\u001b[0m\u001b[0;34m)\u001b[0m\u001b[0;34m:\u001b[0m\u001b[0;34m\u001b[0m\u001b[0;34m\u001b[0m\u001b[0m\n",
      "\u001b[0;31mIndexError\u001b[0m: list index out of range"
     ]
    }
   ],
   "source": [
    "inp = [\n",
    "    [[1,3,5,10,15],[1,2,3,4,5],34],\n",
    "    [[4,5,6,5],[2,1,2,1],16],\n",
    "    [[1,2,3,5],[8,9,10,1],6],\n",
    "    [[1,3,5,10,15,99],[1,2,3,4,5,6],133],\n",
    "    [[9,2,8,8,2],[4,1,3,3,5],27],\n",
    "]\n",
    "for s,a,o in inp:\n",
    "    t = Solution().bestTeamScore(s,a)\n",
    "    print(t)\n",
    "    if t!=o:\n",
    "        print(s,a,t,o)"
   ]
  },
  {
   "cell_type": "code",
   "execution_count": null,
   "id": "fbfe7968-96cb-446b-a557-773cb3209b89",
   "metadata": {},
   "outputs": [],
   "source": []
  },
  {
   "cell_type": "code",
   "execution_count": 39,
   "id": "d86d67ac-3896-4904-891e-3d29b858648d",
   "metadata": {},
   "outputs": [
    {
     "name": "stdout",
     "output_type": "stream",
     "text": [
      "Collecting sortedcontainers\n",
      "  Downloading sortedcontainers-2.4.0-py2.py3-none-any.whl (29 kB)\n",
      "Installing collected packages: sortedcontainers\n",
      "Successfully installed sortedcontainers-2.4.0\n"
     ]
    }
   ],
   "source": [
    "!pip install sortedcontainers"
   ]
  },
  {
   "cell_type": "code",
   "execution_count": null,
   "id": "62500847-61c9-4393-94ed-292c33331a4a",
   "metadata": {},
   "outputs": [],
   "source": []
  }
 ],
 "metadata": {
  "kernelspec": {
   "display_name": "Python 3",
   "language": "python",
   "name": "python3"
  },
  "language_info": {
   "codemirror_mode": {
    "name": "ipython",
    "version": 3
   },
   "file_extension": ".py",
   "mimetype": "text/x-python",
   "name": "python",
   "nbconvert_exporter": "python",
   "pygments_lexer": "ipython3",
   "version": "3.9.2"
  }
 },
 "nbformat": 4,
 "nbformat_minor": 5
}
