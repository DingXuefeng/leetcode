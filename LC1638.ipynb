{
 "cells": [
  {
   "cell_type": "markdown",
   "id": "6747496c-3169-4ac9-a241-c33b59127ee8",
   "metadata": {},
   "source": [
    "# Count substring dffer by one charancter"
   ]
  },
  {
   "cell_type": "markdown",
   "id": "28d13a07-d184-4b41-89d4-52642fead54b",
   "metadata": {},
   "source": [
    "find substring of a and b such that they differ exactly by one character\n",
    "find total number of such substrings\n",
    "```\n",
    "1<=s.length,t.length<=100\n",
    "```"
   ]
  },
  {
   "cell_type": "code",
   "execution_count": 4,
   "id": "fa261a75-642d-4ea5-ad32-e2294806d919",
   "metadata": {},
   "outputs": [],
   "source": [
    "from collections import *"
   ]
  },
  {
   "cell_type": "code",
   "execution_count": 33,
   "id": "fe626506-6bac-40cb-8dc3-948ce67de54a",
   "metadata": {},
   "outputs": [],
   "source": [
    "class Solution:\n",
    "    def countSubStrings(self,s,t):\n",
    "        ans = 0\n",
    "        for l in range(1,min(len(s),len(t))+1):\n",
    "            ss = Counter([s[i:i+l] for i in range(len(s)) if i+l<=len(s)])\n",
    "            st = Counter([t[i:i+l] for i in range(len(t)) if i+l<=len(t)])\n",
    "            for si in ss:\n",
    "                for ti in st:\n",
    "                    def test(a,b):\n",
    "                        w = 0\n",
    "                        for i in range(len(a)):\n",
    "                            if a[i]!=b[i]:\n",
    "                                w += 1\n",
    "                            if w>1:\n",
    "                                return False\n",
    "                        return w==1\n",
    "                    if test(si,ti):\n",
    "                        ans += ss[si]*st[ti]\n",
    "        return ans"
   ]
  },
  {
   "cell_type": "code",
   "execution_count": 29,
   "id": "403dbc70-9c54-462b-a6ef-322b75108d29",
   "metadata": {},
   "outputs": [
    {
     "data": {
      "text/plain": [
       "6"
      ]
     },
     "execution_count": 32,
     "metadata": {},
     "output_type": "execute_result"
    }
   ],
   "source": [
    "Solution().countSubStrings(\"aba\",\"baba\")"
   ]
  },
  {
   "cell_type": "code",
   "execution_count": 34,
   "id": "2efba88c-f902-478b-be20-7a2b7362c647",
   "metadata": {},
   "outputs": [],
   "source": [
    "class Solution:\n",
    "    def countSubstrings(self,s,t):\n",
    "        ans = 0\n",
    "        ls,lt = len(s),len(t)\n",
    "        dpl = [[0]*(ls+1) for _ in range(lt+1)]\n",
    "        dpr = [[0]*(ls+2) for _ in range(lt+2)]\n",
    "        for i in range(ls):\n",
    "            for j in range(lt):\n",
    "                if s[i]==t[j]:\n",
    "                    dpl[i+1][j+1] = dpl[i][j]+1\n",
    "        for i in range(ls-1,-1,-1):\n",
    "            for j in range(lt-1,-1,-1):\n",
    "                if s[i]==t[j]:\n",
    "                    dpr[i+1][j+1] = dpr[i+2][j+2]+1\n",
    "        for i in range(ls):\n",
    "            for j in range(lt):\n",
    "                if s[i]!=t[j]:\n",
    "                    ans += dpl[i+1][j+1]*dpr[i+1][j+1]\n",
    "        return ans"
   ]
  },
  {
   "cell_type": "code",
   "execution_count": 37,
   "id": "099fd937-52fa-420e-b4f8-21d78d9a55a0",
   "metadata": {},
   "outputs": [],
   "source": [
    "class Solution:\n",
    "    def countSubstrings(self,s,t):\n",
    "        ls,lt = len(s),len(t)\n",
    "        dpl = [[0]*(lt+1) for _ in range(ls+1)]\n",
    "        dpr = [[0]*(lt+2) for _ in range(lt+2)]\n",
    "        for i in range(1,ls+1):\n",
    "            for j in range(1,lt+1):\n",
    "                if s[i-1] == t[j-1]:\n",
    "                    dpl[i][j] = dpl[i-1][j-1]+1\n",
    "        for i in range(ls,0,-1):\n",
    "            for j in range(lt,0,-1):\n",
    "                if s[i-1] == t[j-1]:\n",
    "                    dpr[i][j] = dpr[i+1][j+1]+1\n",
    "        ans = 0\n",
    "        for i in range(1,ls+1):\n",
    "            for j in range(1,lt+1):\n",
    "                if s[i-1] != t[j-1]:\n",
    "                    ans += (dpl[i-1][j-1]+1)*(dpr[i+1][j+1]+1)\n",
    "        return ans"
   ]
  },
  {
   "cell_type": "markdown",
   "id": "ab00b2ff-b650-4519-a45b-4330a06e781a",
   "metadata": {},
   "source": [
    "**AC**"
   ]
  },
  {
   "cell_type": "code",
   "execution_count": null,
   "id": "a5dbcf6e-e989-419e-82d8-ed3f5ecac806",
   "metadata": {},
   "outputs": [],
   "source": []
  }
 ],
 "metadata": {
  "kernelspec": {
   "display_name": "Python 3",
   "language": "python",
   "name": "python3"
  },
  "language_info": {
   "codemirror_mode": {
    "name": "ipython",
    "version": 3
   },
   "file_extension": ".py",
   "mimetype": "text/x-python",
   "name": "python",
   "nbconvert_exporter": "python",
   "pygments_lexer": "ipython3",
   "version": "3.9.2"
  }
 },
 "nbformat": 4,
 "nbformat_minor": 5
}
