{
 "cells": [
  {
   "cell_type": "markdown",
   "id": "6715b936-0bc7-448b-8faa-f665cfe66fbb",
   "metadata": {},
   "source": [
    "# rare words\n",
    "\n",
    "if count(A,a)  =1 count(B,a)=0, then a is rare. output all rare words.\n",
    "\n",
    "```\n",
    "1<=s1.length,s2.length<=200\n",
    "s1,s2 = lower + ' '\n",
    "s1 = s1.strip()\n",
    "s2 = s2.strip()\n",
    "len(s.split())>0\n",
    "```"
   ]
  },
  {
   "cell_type": "code",
   "execution_count": 1,
   "id": "25d1e648-0854-4053-b4f9-a8437e2240fb",
   "metadata": {},
   "outputs": [],
   "source": [
    "class Solution:\n",
    "    def uncommonFromSentences(self,s1,s2):\n",
    "        a = Counter(s1)\n",
    "        b = Counter(s2)\n",
    "        return [x for x,v in a.items() if v==1 and x not in b]"
   ]
  },
  {
   "cell_type": "code",
   "execution_count": 2,
   "id": "e6bb4379-3978-44af-8c7a-e8f7ce4aab94",
   "metadata": {},
   "outputs": [],
   "source": [
    "class Solution:\n",
    "    def uncommonFromSentence(self,s1,s2):\n",
    "        a = Counter(s1.split())\n",
    "        b = Counter(s2.split())\n",
    "        return [x for x,v in a.items() if v==1 and x not in b]"
   ]
  },
  {
   "cell_type": "code",
   "execution_count": 3,
   "id": "adc213e8-c9b6-42e9-95ee-726b2781f060",
   "metadata": {},
   "outputs": [],
   "source": [
    "class Solution:\n",
    "    def uncommonFromSentences(self,s1,s2):\n",
    "        a = Counter(s1.split())\n",
    "        b = Counter(s2.split())\n",
    "        return [x for x,v in a.items() if v==1 and x not in b] + [x for x,v in b.items() if v==1 and x not in a]"
   ]
  },
  {
   "cell_type": "markdown",
   "id": "246fac1f-31f1-44db-a4d8-36cecdba0e6c",
   "metadata": {},
   "source": [
    "**AC**"
   ]
  },
  {
   "cell_type": "code",
   "execution_count": null,
   "id": "0ca03aab-3239-4451-9326-a0042ac72aa4",
   "metadata": {},
   "outputs": [],
   "source": []
  }
 ],
 "metadata": {
  "kernelspec": {
   "display_name": "Python 3",
   "language": "python",
   "name": "python3"
  },
  "language_info": {
   "codemirror_mode": {
    "name": "ipython",
    "version": 3
   },
   "file_extension": ".py",
   "mimetype": "text/x-python",
   "name": "python",
   "nbconvert_exporter": "python",
   "pygments_lexer": "ipython3",
   "version": "3.9.2"
  }
 },
 "nbformat": 4,
 "nbformat_minor": 5
}
