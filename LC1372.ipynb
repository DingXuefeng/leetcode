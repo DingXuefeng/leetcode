{
 "cells": [
  {
   "cell_type": "markdown",
   "id": "1a9a3017-3968-4f96-b41c-1642d8f21f53",
   "metadata": {},
   "source": [
    "# Longest ZigZag path in a binary tree"
   ]
  },
  {
   "cell_type": "markdown",
   "id": "1513efe5-02b8-4f12-9524-c0f1ab24a503",
   "metadata": {},
   "source": [
    "start from any node, then left -> right -> left -> ...\n",
    "\n",
    "constraints\n",
    "```\n",
    "1<=n<=5*10**4\n",
    "1<=n.val<=100\n",
    "```"
   ]
  },
  {
   "cell_type": "markdown",
   "id": "08c21613-2419-4ec2-be77-14b852ab952c",
   "metadata": {},
   "source": [
    "## dfs\n",
    "```\n",
    "L,R = dfs(root.left) \n",
    "...\n",
    "```"
   ]
  },
  {
   "cell_type": "code",
   "execution_count": 47,
   "id": "d134adac-abde-42f8-bddb-894b236747d5",
   "metadata": {},
   "outputs": [],
   "source": [
    "class TreeNode:\n",
    "    def __init__(self,val = 0,left = None,right = None):\n",
    "        self.val = val\n",
    "        self.left = left\n",
    "        self.right = right\n",
    "    \n",
    "    @classmethod\n",
    "    def construct(cls,arr):\n",
    "        n = len(arr)\n",
    "        def dfs(L,R):\n",
    "            if L>=n:\n",
    "                return [None]*(R-L+1)\n",
    "            cur = [TreeNode(arr[i]) if i<n and arr[i] is not None else None for i in range(L,R+1)]\n",
    "            nvalid = len([x for x in cur if x is not None])\n",
    "            nxt = dfs(R+1,R+(nvalid<<1))\n",
    "            i,j = 0,0\n",
    "            while j<nvalid:\n",
    "                while cur[i] is None:\n",
    "                    i += 1\n",
    "                cur[i].left = nxt[j<<1]\n",
    "                cur[i].right = nxt[(j<<1)+1]\n",
    "                i += 1\n",
    "                j += 1\n",
    "            return cur\n",
    "        return dfs(0,0)[0]\n",
    "    \n",
    "    def __str__(self):\n",
    "        ans = ''\n",
    "        def bfs(q):\n",
    "            nxtr = [y for x in q for y in ([x.left,x.right] if x is not None else [None,None])]\n",
    "            nxt = [(None,i&1) for i in range(len(q)<<1)]\n",
    "            last = all([x==None for x in nxtr])\n",
    "            if not last:\n",
    "                nxt = bfs(nxtr)\n",
    "            n = len(nxt)>>1 \n",
    "            ret = [(x+' '*(nxt[(i<<1)+1][1]+nxt[i<<1][1]-len(x)),nxt[(i<<1)+1][1]+nxt[i<<1][1]) for i in range(n) for x in [(str(q[i].val) if q[i] is not None else ' ')]]\n",
    "            nonlocal ans\n",
    "            tmp = ''.join([x[0] for x in ret])+'\\n'\n",
    "            # if not last:\n",
    "            #     tmp += ''.join(['|'+'\\\\'+'-'*(x[1]-2) for x in ret])+'\\n'\n",
    "            ans = tmp+ans\n",
    "            return ret\n",
    "        bfs([root])\n",
    "        return ans\n",
    "null = None"
   ]
  },
  {
   "cell_type": "markdown",
   "id": "04b99069-6edf-4bf9-8e7a-5fe93af5b30c",
   "metadata": {},
   "source": [
    "**mistake**\n",
    "- if ... else, forgot else\n",
    "- (nvalid<<1) -> forgot x 2\n",
    "- while arr[i] is None -> while cur[i] is None"
   ]
  },
  {
   "cell_type": "code",
   "execution_count": 48,
   "id": "b06ddd30-4df2-4d77-b423-8ba4569b8367",
   "metadata": {},
   "outputs": [
    {
     "name": "stdout",
     "output_type": "stream",
     "text": [
      "1       \n",
      "2   3   \n",
      "    4 5 \n",
      "    6 7 \n",
      "\n"
     ]
    }
   ],
   "source": [
    "root = TreeNode.construct([1,2,3,null,null,4,5,6,null,7])\n",
    "print(root)"
   ]
  },
  {
   "cell_type": "markdown",
   "id": "de9002a5-da18-4060-8bbf-dda736f5fe1b",
   "metadata": {},
   "source": [
    "### Attempt 1"
   ]
  },
  {
   "cell_type": "code",
   "execution_count": null,
   "id": "3dcec97b-d5bc-40e1-992e-739d2534cd6b",
   "metadata": {},
   "outputs": [],
   "source": [
    "class Solution:\n",
    "    def longestZigZag(self,root):\n",
    "        ans = 0\n",
    "        def dfs(root):\n",
    "            if root:\n",
    "                _,R = dfs(root.left)\n",
    "                L,_ = dfs(root.right)\n",
    "                ans = max(ans,L,R)\n",
    "                return R+1,L+1\n",
    "            else:\n",
    "                return 0,0\n",
    "        return ans"
   ]
  },
  {
   "cell_type": "markdown",
   "id": "9cbf2732-8783-45c5-a473-5f9869854a63",
   "metadata": {},
   "source": [
    "**mistake**\n",
    "- forgot to run dfs(root)\n",
    "- should use self.ans"
   ]
  },
  {
   "cell_type": "markdown",
   "id": "aaab6173-e020-4440-9578-f0233bf7cf20",
   "metadata": {},
   "source": [
    "### Attempt 2"
   ]
  },
  {
   "cell_type": "code",
   "execution_count": 9,
   "id": "1793ba1f-0ca3-4d4a-aadc-e29594c68b46",
   "metadata": {},
   "outputs": [],
   "source": [
    "class Solution:\n",
    "    def longestZigZag(self,root):\n",
    "        self.ans = 0\n",
    "        def dfs(root):\n",
    "            if root:\n",
    "                _,R = dfs(root.left)\n",
    "                L,_ = dfs(root.right)\n",
    "                self.ans = max(self.ans,L,R)\n",
    "                return R+1,L+1\n",
    "            else:\n",
    "                return 0,0\n",
    "        dfs(root)\n",
    "        return self.ans"
   ]
  },
  {
   "cell_type": "code",
   "execution_count": 10,
   "id": "d5c32782-4407-4417-b2f1-d6f1a5dbb174",
   "metadata": {},
   "outputs": [
    {
     "data": {
      "text/plain": [
       "2"
      ]
     },
     "execution_count": 10,
     "metadata": {},
     "output_type": "execute_result"
    }
   ],
   "source": [
    "Solution().longestZigZag(root)"
   ]
  },
  {
   "cell_type": "markdown",
   "id": "f0b9d7b4-18d0-495e-b7fe-f6bf967779a4",
   "metadata": {},
   "source": [
    "## optimization: just return 1?"
   ]
  },
  {
   "cell_type": "markdown",
   "id": "962f997c-ca3a-4fd3-8713-d846292fc262",
   "metadata": {},
   "source": [
    "### Attempt 3"
   ]
  },
  {
   "cell_type": "code",
   "execution_count": null,
   "id": "d7901e75-ebd0-4888-ad9a-39e56c4662d7",
   "metadata": {},
   "outputs": [],
   "source": [
    "class Solution:\n",
    "    def longestZigZag(self,root):\n",
    "        self.ans = 0\n",
    "        def dfs(root,left):\n",
    "            if root:\n",
    "                L,R = dfs(root.left,True),dfs(root.right,False)\n",
    "                self.ans = max(self.ans,L,R)\n",
    "                return R+1 if left else L+1\n",
    "            else:\n",
    "                return 0\n",
    "        self.ans = max(self.ans,dfs(root.left,True),dfs(root.right,False))\n",
    "        return self.ans"
   ]
  },
  {
   "cell_type": "markdown",
   "id": "3e3b7a3a-9940-4048-981a-dea7dfe1c49a",
   "metadata": {},
   "source": [
    "**mistake**\n",
    "- wrong answer"
   ]
  },
  {
   "cell_type": "markdown",
   "id": "2aec4ecd-1c1e-47ae-be5b-5c522c11d7ca",
   "metadata": {},
   "source": [
    "### Attempt 4"
   ]
  },
  {
   "cell_type": "code",
   "execution_count": null,
   "id": "f21c267e-23de-4b1a-831b-f35328fe7a9a",
   "metadata": {},
   "outputs": [],
   "source": [
    "class Solution:\n",
    "    def longestZigZag(self,root):\n",
    "        self.ans = 0\n",
    "        def dfs(root,left):\n",
    "            if root:\n",
    "                ret = 0\n",
    "                if left:\n",
    "                    dfs(root.left,True)\n",
    "                    ret = dfs(root.right,False)\n",
    "                else:\n",
    "                    dfs(root.right,False)\n",
    "                    ret = dfs(root.left,True)\n",
    "                self.ans = max(self.ans,ret)\n",
    "                return ret+1\n",
    "            else:\n",
    "                return 0\n",
    "        self.ans = max(self.ans,dfs(root.left,True),dfs(root.right,False))\n",
    "        return self.ans"
   ]
  },
  {
   "cell_type": "markdown",
   "id": "587bac5a-8eab-4641-b5f0-5baf373f7e1e",
   "metadata": {},
   "source": [
    "**mistake**\n",
    "- still wrong answer. wrong way of thinking it?"
   ]
  },
  {
   "cell_type": "code",
   "execution_count": 26,
   "id": "0bd7557b-a4d5-4bdc-891e-4f28ff18c976",
   "metadata": {},
   "outputs": [
    {
     "name": "stdout",
     "output_type": "stream",
     "text": [
      "1\n",
      "1 1\n",
      "x 1 x x\n",
      "x x 1 1 x x x x\n",
      "x x x x x 1 x x x x x x x x x x\n",
      "\n"
     ]
    },
    {
     "data": {
      "text/plain": [
       "4"
      ]
     },
     "execution_count": 26,
     "metadata": {},
     "output_type": "execute_result"
    }
   ],
   "source": [
    "root = TreeNode.construct([1,1,1,null,1,null,null,1,1,null,1])\n",
    "print(root)\n",
    "Solution().longestZigZag(root)"
   ]
  },
  {
   "cell_type": "markdown",
   "id": "67854089-8214-42f8-ad21-f73f1be4efca",
   "metadata": {},
   "source": [
    "### Attempt 5"
   ]
  },
  {
   "cell_type": "code",
   "execution_count": null,
   "id": "45fd6f50-2ea8-43e5-9354-0e3160386422",
   "metadata": {},
   "outputs": [],
   "source": [
    "class Solution:\n",
    "    def longestZigZag(self,root):\n",
    "        self.ans = 0\n",
    "        def dfs(root,left):\n",
    "            # return longest path starting from root compatible with left\n",
    "            # actual ans: dfs+1\n",
    "            # ans will be updated for the current node\n",
    "            if root:\n",
    "                L,R = dfs(root.left),dfs(root.right)\n",
    "                if left:\n",
    "                    self.ans = max(self.ans,R+1)\n",
    "                    return R+1\n",
    "                else:\n",
    "                    self.ans = max(self.ans,L+1)\n",
    "                    return L+1\n",
    "            else:\n",
    "                return 0\n",
    "        self.ans = max(self.ans,dfs(root.left,True)+1,dfs(root.right,False)+1)\n",
    "        return self.ans"
   ]
  },
  {
   "cell_type": "markdown",
   "id": "f9085427-9d96-4dbc-bd8c-14e035ba1b66",
   "metadata": {},
   "source": [
    "**mistake**\n",
    "- forgot new parameters after refactorization"
   ]
  },
  {
   "cell_type": "markdown",
   "id": "d551f320-76bd-4282-8e6d-b79bbd9877ae",
   "metadata": {},
   "source": [
    "### Attempt 6"
   ]
  },
  {
   "cell_type": "code",
   "execution_count": 58,
   "id": "d272d688-bb82-4173-aec4-9dfeb13b6f2d",
   "metadata": {},
   "outputs": [],
   "source": [
    "class Solution:\n",
    "    def longestZigZag(self,root):\n",
    "        self.ans = 0\n",
    "        def dfs(root,left):\n",
    "            if root:\n",
    "                L,R = dfs(root.left,True),dfs(root.right,False)\n",
    "                if left:\n",
    "                    self.ans = max(self.ans,R+1)\n",
    "                    print(root.val,R+1)\n",
    "                    return R+1\n",
    "                else:\n",
    "                    self.ans = max(self.ans,L+1)\n",
    "                    print(root.val,L+1)\n",
    "                    return L+1\n",
    "            else:\n",
    "                return 0\n",
    "        dfs(root.left,True)\n",
    "        dfs(root.right,False)\n",
    "        return self.ans"
   ]
  },
  {
   "cell_type": "markdown",
   "id": "6538c4ae-196d-4516-b48e-b3733f6933a9",
   "metadata": {},
   "source": [
    "**AC**\n",
    "\n",
    "failed attemp:\n",
    "\n",
    "if you add \n",
    "```\n",
    "self.ans = max(self.ans, dfs(root.left,True),dfs(root.right,False))\n",
    "```\n",
    "it will fail. At least, should be\n",
    "```\n",
    "L,R = dfs(root.left,True),dfs(root.right,False)\n",
    "self.ans = max(self.ans,L,R)\n",
    "```\n",
    "\n",
    "But this is not necessary. dfs(root) returns the actual path length starting from root +1 assuming root has a parent. So dfs(root.left) will return path+1 starting from root.left assuming root.left has a parent. This is exactly the path starting from root, and it is included in the dfs(root.left) transverse."
   ]
  },
  {
   "cell_type": "code",
   "execution_count": 59,
   "id": "876b1ee0-87e7-43b6-9192-3d0fdba4757a",
   "metadata": {},
   "outputs": [
    {
     "name": "stdout",
     "output_type": "stream",
     "text": [
      "1               \n",
      "2       3       \n",
      "    4           \n",
      "    5 6         \n",
      "     7          \n",
      "\n",
      "7 1\n",
      "5 2\n",
      "6 1\n",
      "4 3\n",
      "2 4\n",
      "3 1\n"
     ]
    },
    {
     "data": {
      "text/plain": [
       "4"
      ]
     },
     "execution_count": 59,
     "metadata": {},
     "output_type": "execute_result"
    }
   ],
   "source": [
    "root = TreeNode.construct([1,2,3,null,4,null,null,5,6,null,7])\n",
    "print(root)\n",
    "Solution().longestZigZag(root)\n",
    "\n",
    "root = TreeNode.construct([1,2,3,null,4,null,null,5,6,null,7])\n",
    "print(root)\n",
    "Solution().longestZigZag(root)"
   ]
  },
  {
   "cell_type": "code",
   "execution_count": null,
   "id": "85907541-4bfd-4dc1-95ea-911046c623c7",
   "metadata": {},
   "outputs": [],
   "source": []
  }
 ],
 "metadata": {
  "kernelspec": {
   "display_name": "Python 3",
   "language": "python",
   "name": "python3"
  },
  "language_info": {
   "codemirror_mode": {
    "name": "ipython",
    "version": 3
   },
   "file_extension": ".py",
   "mimetype": "text/x-python",
   "name": "python",
   "nbconvert_exporter": "python",
   "pygments_lexer": "ipython3",
   "version": "3.9.2"
  }
 },
 "nbformat": 4,
 "nbformat_minor": 5
}
