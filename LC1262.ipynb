{
 "cells": [
  {
   "cell_type": "markdown",
   "id": "50b922d3-f9aa-43ee-9030-8277f393830b",
   "metadata": {},
   "source": [
    "# Greatest sum divisible by 3"
   ]
  },
  {
   "cell_type": "markdown",
   "id": "eff20598-033d-4c56-8a7c-2f36c68c8497",
   "metadata": {},
   "source": [
    "find sum of subsequence of an array of largest sum\n",
    "\n",
    "Constraints\n",
    "```\n",
    "1<=n.length<=4*10**4\n",
    "1<=n[i]<=10**4\n",
    "```"
   ]
  },
  {
   "cell_type": "markdown",
   "id": "31b02656-b9fc-427e-9da3-c53375b246b8",
   "metadata": {},
   "source": [
    "## DP\n",
    "```\n",
    "n0: all take\n",
    "n1+n2*2 %3 ==0: take all\n",
    "n1+n2*2 %3 ==1: remove 1 from n1, or 2 from n2\n",
    "n1+n2*2 %3 ==2: remove 1 from n2, or 1 from n1\n",
    "```"
   ]
  },
  {
   "cell_type": "markdown",
   "id": "31b26924-de87-4090-adb6-c782ad3fe9a6",
   "metadata": {},
   "source": [
    "### Attempt 1"
   ]
  },
  {
   "cell_type": "code",
   "execution_count": null,
   "id": "171f0836-f8b5-4602-ba52-8157a15439ce",
   "metadata": {},
   "outputs": [],
   "source": [
    "class Solution:\n",
    "    def maxSumDivThree(self,nums):\n",
    "        s0,s1,s2,n3 = 0,0,0,0\n",
    "        s1m1,s1m2 = float('inf'),float('inf')\n",
    "        s2m1,s2m2 = float('inf'),float('inf')\n",
    "        for a in nums:\n",
    "            if a%3==0:\n",
    "                s0 += a\n",
    "            elif a%3==1:\n",
    "                s1 += a\n",
    "                n3 += 1\n",
    "                if a<s1m1:\n",
    "                    s1m1,s1m2 = a,s1m1\n",
    "                elif a<s1m2:\n",
    "                    s1m2 = a\n",
    "            elif a%3==2:\n",
    "                s2 += a\n",
    "                n3 += 2\n",
    "                if a<s2m1:\n",
    "                    s2m1,s2m2 = a,s2m1\n",
    "                elif a<s2m2:\n",
    "                    s2m2 = a\n",
    "        if n3%3==0:\n",
    "            return s0+s1+s2\n",
    "        elif n3%3==1:\n",
    "            return s0+s1+s2-min(s1m1,s2m1+s2m2)\n",
    "        else:\n",
    "            return s0+s1+s2-min(s1m1+s1m2,s2m1)"
   ]
  },
  {
   "cell_type": "markdown",
   "id": "3807506e-4d18-4126-ab7a-0637b71e4658",
   "metadata": {},
   "source": [
    "**AC**"
   ]
  },
  {
   "cell_type": "markdown",
   "id": "9456621d-8825-45d3-bf4a-7d6302dd9709",
   "metadata": {},
   "source": [
    "## Better writing?"
   ]
  },
  {
   "cell_type": "markdown",
   "id": "760759ac-732a-409c-ae7d-623242479e21",
   "metadata": {},
   "source": [
    "### Attempt 2"
   ]
  },
  {
   "cell_type": "code",
   "execution_count": null,
   "id": "3218ddd0-3421-4cfe-879a-b1dbcc67f590",
   "metadata": {},
   "outputs": [],
   "source": [
    "class Solution:\n",
    "    def maxSumDivThree(self,nums):\n",
    "        dp = [0]*3\n",
    "        for a in arr:\n",
    "            for b in dp:\n",
    "                dp[(a+b)%3] = max(dp[(a+b)%3],a+b)\n",
    "        return dp[0]"
   ]
  },
  {
   "cell_type": "markdown",
   "id": "9e3bc02d-87cb-4ad3-a6e7-06dfd3c685e3",
   "metadata": {},
   "source": [
    "**mistake**\n",
    "- arr does not exist"
   ]
  },
  {
   "cell_type": "markdown",
   "id": "8215daad-99bf-4be3-ab91-5472ad25d462",
   "metadata": {},
   "source": [
    "### Attempt 3"
   ]
  },
  {
   "cell_type": "code",
   "execution_count": null,
   "id": "70b0752e-e2b1-406d-8bd6-9ef2315f8459",
   "metadata": {},
   "outputs": [],
   "source": [
    "class Solution:\n",
    "    def maxSumDivThree(self,nums):\n",
    "        dp = [0]*3\n",
    "        for a in nums:\n",
    "            for b in dp:\n",
    "                dp[(a+b)%3] = max(dp[(a+b)%3],a+b)\n",
    "        return dp[0]"
   ]
  },
  {
   "cell_type": "markdown",
   "id": "f96fc315-e805-4976-a1c6-4bba186ea61e",
   "metadata": {},
   "source": [
    "**mistake**\n",
    "- dp is changed during loop"
   ]
  },
  {
   "cell_type": "markdown",
   "id": "60a12bc8-8b6e-4740-960a-7f8b011cd094",
   "metadata": {},
   "source": [
    "### Attempt 4"
   ]
  },
  {
   "cell_type": "code",
   "execution_count": null,
   "id": "e3c0db99-8c8f-4e9c-94f3-2b6f820bd9c1",
   "metadata": {},
   "outputs": [],
   "source": [
    "class Solution:\n",
    "    def maxSumDivThree(self,nums):\n",
    "        dp = [0]*3\n",
    "        for a in nums:\n",
    "            for b in dp[:]:\n",
    "                dp[(a+b)%3] = max(dp[(a+b)%3],a+b)\n",
    "        return dp[0]"
   ]
  },
  {
   "cell_type": "markdown",
   "id": "9cbc46dd-2400-475f-a4b5-584ec6f6c616",
   "metadata": {},
   "source": [
    "**AC**"
   ]
  },
  {
   "cell_type": "code",
   "execution_count": null,
   "id": "9fccdb8e-774a-4f61-ad4f-c2dffcc7121b",
   "metadata": {},
   "outputs": [],
   "source": []
  }
 ],
 "metadata": {
  "kernelspec": {
   "display_name": "Python 3",
   "language": "python",
   "name": "python3"
  },
  "language_info": {
   "codemirror_mode": {
    "name": "ipython",
    "version": 3
   },
   "file_extension": ".py",
   "mimetype": "text/x-python",
   "name": "python",
   "nbconvert_exporter": "python",
   "pygments_lexer": "ipython3",
   "version": "3.9.2"
  }
 },
 "nbformat": 4,
 "nbformat_minor": 5
}
