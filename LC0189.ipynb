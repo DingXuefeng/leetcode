{
 "cells": [
  {
   "cell_type": "markdown",
   "id": "13c044f2-a0d3-4687-94ab-3cb0af43b17a",
   "metadata": {},
   "source": [
    "# Roate array by k"
   ]
  },
  {
   "cell_type": "markdown",
   "id": "1e3fe4ee-6041-4736-8709-c49256195dbf",
   "metadata": {},
   "source": [
    "``` \n",
    "1<=nums.length<=10**5\n",
    "-2**31<=nums[i]<=2**31-1\n",
    "0<=k=10**5\n",
    "```"
   ]
  },
  {
   "cell_type": "code",
   "execution_count": 3,
   "id": "e8d9b12d-baf8-48cc-83c0-e061c923c168",
   "metadata": {},
   "outputs": [],
   "source": [
    "class Solution:\n",
    "    def rotate(self,nums,k):\n",
    "        self.nums = (self.nums+self.nums)[n-k:]"
   ]
  },
  {
   "cell_type": "code",
   "execution_count": 4,
   "id": "bf9ed0a3-f2fc-4ec9-b6ca-9bda37e1ed01",
   "metadata": {},
   "outputs": [],
   "source": [
    "class Solution:\n",
    "    def rotate(self,nums,k):\n",
    "        n = len(nums)\n",
    "        k = k%n\n",
    "        nums[:] = (nums+nums)[n-k:(n<<1)-k]"
   ]
  },
  {
   "cell_type": "markdown",
   "id": "25dc9289-6dec-4213-a717-4907ee7f603b",
   "metadata": {},
   "source": [
    "**AC**"
   ]
  },
  {
   "cell_type": "code",
   "execution_count": 5,
   "id": "293f74ac-3c5c-425b-ad2e-d4da85017bbb",
   "metadata": {},
   "outputs": [],
   "source": [
    "class Solution:\n",
    "    def rotate(self,nums,k):\n",
    "        nums[:] = nums[n-k:]+nums[:k]"
   ]
  },
  {
   "cell_type": "code",
   "execution_count": 6,
   "id": "a4f1b1ee-5852-41ee-86a7-285c98018585",
   "metadata": {},
   "outputs": [],
   "source": [
    "class Solution:\n",
    "    def rotate(self,nums,k):\n",
    "        n = len(nums)\n",
    "        k = k%n\n",
    "        nums[:] = nums[n-k:]+nums[:n-k]"
   ]
  },
  {
   "cell_type": "markdown",
   "id": "0a2a80d8-1229-4b75-902e-bd1fab0e886a",
   "metadata": {},
   "source": [
    "**AC**"
   ]
  },
  {
   "cell_type": "code",
   "execution_count": null,
   "id": "97673db2-7e39-4843-b872-029e8fd7441c",
   "metadata": {},
   "outputs": [],
   "source": [
    "class Solution:\n",
    "    def rotate(self,nums,k):\n",
    "        nums[0] = tmp\n",
    "        for i in range(n):\n",
    "            nums[i],nums[i+n-k] = nums[i+n-k],nums[i]"
   ]
  }
 ],
 "metadata": {
  "kernelspec": {
   "display_name": "Python 3",
   "language": "python",
   "name": "python3"
  },
  "language_info": {
   "codemirror_mode": {
    "name": "ipython",
    "version": 3
   },
   "file_extension": ".py",
   "mimetype": "text/x-python",
   "name": "python",
   "nbconvert_exporter": "python",
   "pygments_lexer": "ipython3",
   "version": "3.9.2"
  }
 },
 "nbformat": 4,
 "nbformat_minor": 5
}
