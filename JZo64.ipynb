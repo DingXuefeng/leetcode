{
 "cells": [
  {
   "cell_type": "markdown",
   "id": "3a68662e-3563-48d5-9379-8e542e43e3bb",
   "metadata": {},
   "source": [
    "# calculate 1+2+..n"
   ]
  },
  {
   "cell_type": "markdown",
   "id": "3ef27633-ae7d-433e-9fd6-d6cba65d8600",
   "metadata": {},
   "source": [
    "avoid *,/,for,while,if,else,switch,case,etc.\n",
    "\n",
    "```\n",
    "1<=n<=10000\n",
    "```"
   ]
  },
  {
   "cell_type": "code",
   "execution_count": 1,
   "id": "8b032bd2-8d23-454d-8c10-4de704dcd8d1",
   "metadata": {},
   "outputs": [],
   "source": [
    "class Solution:\n",
    "    def sumNums(self, n: int) -> int:\n",
    "        A = n\n",
    "        B = n+1\n",
    "        ans = 0\n",
    "        C = (B&1 and (ans := ans+A))\n",
    "        A <<= 1\n",
    "        B >>= 1\n",
    "        C = (B&1 and (ans := ans+A))\n",
    "        A <<= 1\n",
    "        B >>= 1\n",
    "        C = (B&1 and (ans := ans+A))\n",
    "        A <<= 1\n",
    "        B >>= 1\n",
    "        C = (B&1 and (ans := ans+A))\n",
    "        A <<= 1\n",
    "        B >>= 1\n",
    "        C = (B&1 and (ans := ans+A))\n",
    "        A <<= 1\n",
    "        B >>= 1\n",
    "        C = (B&1 and (ans := ans+A))\n",
    "        A <<= 1\n",
    "        B >>= 1\n",
    "        C = (B&1 and (ans := ans+A))\n",
    "        A <<= 1\n",
    "        B >>= 1\n",
    "        C = (B&1 and (ans := ans+A))\n",
    "        A <<= 1\n",
    "        B >>= 1\n",
    "        C = (B&1 and (ans := ans+A))\n",
    "        A <<= 1\n",
    "        B >>= 1\n",
    "        C = (B&1 and (ans := ans+A))\n",
    "        A <<= 1\n",
    "        B >>= 1\n",
    "        C = (B&1 and (ans := ans+A))\n",
    "        A <<= 1\n",
    "        B >>= 1\n",
    "        C = (B&1 and (ans := ans+A))\n",
    "        A <<= 1\n",
    "        B >>= 1\n",
    "        C = (B&1 and (ans := ans+A))\n",
    "        A <<= 1\n",
    "        B >>= 1\n",
    "        C = (B&1 and (ans := ans+A))\n",
    "        A <<= 1\n",
    "        B >>= 1\n",
    "        return ans>>1\n"
   ]
  },
  {
   "cell_type": "code",
   "execution_count": null,
   "id": "39e951f9-8c9f-4b21-858b-7903d207c7b4",
   "metadata": {},
   "outputs": [],
   "source": []
  }
 ],
 "metadata": {
  "kernelspec": {
   "display_name": "Python 3",
   "language": "python",
   "name": "python3"
  },
  "language_info": {
   "codemirror_mode": {
    "name": "ipython",
    "version": 3
   },
   "file_extension": ".py",
   "mimetype": "text/x-python",
   "name": "python",
   "nbconvert_exporter": "python",
   "pygments_lexer": "ipython3",
   "version": "3.9.2"
  }
 },
 "nbformat": 4,
 "nbformat_minor": 5
}
