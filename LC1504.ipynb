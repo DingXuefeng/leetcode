{
 "cells": [
  {
   "cell_type": "markdown",
   "id": "4676b8b4-2c4c-4a6c-b8c5-7a49aba30476",
   "metadata": {},
   "source": [
    "# Count submatrices with all ones\n",
    "\n",
    "```\n",
    "1<=m,n<=150\n",
    "mat[i][j] in [0,1]\n",
    "```"
   ]
  },
  {
   "cell_type": "markdown",
   "id": "f8e1699e-5a92-48c3-95d9-d181e0fdfd3e",
   "metadata": {},
   "source": [
    "## DP\n",
    "simple solution: brute force"
   ]
  },
  {
   "cell_type": "markdown",
   "id": "506ba75d-e4b5-4c7b-855e-f13f237e43e6",
   "metadata": {},
   "source": [
    "### Attempt 1"
   ]
  },
  {
   "cell_type": "code",
   "execution_count": null,
   "id": "48a8a836-83da-469a-bd09-cabd9e8dffd1",
   "metadata": {},
   "outputs": [],
   "source": [
    "class Solution:\n",
    "    def numSubmat(self,mat):\n",
    "        rows,cols = len(mat),len(mat[0])\n",
    "        dp = [[0]*cols for _ in range(rows+1)]\n",
    "        ans = 0\n",
    "        for i in range(1,rows+1):\n",
    "            for j in range(cols):\n",
    "                if mat[i-1][j]:\n",
    "                    dp[i][j] = dp[i-1][j]+1\n",
    "                mindp = float('inf')\n",
    "                for k in range(j,-1,-1):\n",
    "                    mindp = min(mindp,dp[i][k])\n",
    "                    if mindp==0:\n",
    "                        break\n",
    "                    ans += mindp\n",
    "        # O(n^3) = ~10**7\n",
    "        return ans"
   ]
  },
  {
   "cell_type": "markdown",
   "id": "3c73027e-d6fe-4ff5-910f-251cbff019b3",
   "metadata": {},
   "source": [
    "**AC**"
   ]
  },
  {
   "cell_type": "markdown",
   "id": "32cce14f-546a-4944-b7ee-8985ce1b2137",
   "metadata": {},
   "source": [
    "## optimization"
   ]
  },
  {
   "cell_type": "markdown",
   "id": "abe11a16-bed3-4bd8-8a21-ff88a0fb895e",
   "metadata": {},
   "source": [
    "### Attempt 2"
   ]
  },
  {
   "cell_type": "code",
   "execution_count": 3,
   "id": "3728eb46-9e83-45e2-9a7d-b294978ab81f",
   "metadata": {},
   "outputs": [],
   "source": [
    "class Solution:\n",
    "    def numSubmat(self,mat):\n",
    "        rows,cols = len(mat),len(mat[0])\n",
    "        dp = [0]*cols\n",
    "        ans = 0\n",
    "        for i in range(1,rows+1):\n",
    "            stack = []\n",
    "            ssum = 0\n",
    "            spsum = 0\n",
    "            for j in range(cols):\n",
    "                if mat[i][j]:\n",
    "                    dp[j] = dp[j]+1\n",
    "                else:\n",
    "                    dp[j] = 0\n",
    "                while stack and stack[-1][0]>dp[j]:\n",
    "                    ssum -= stack[-1][0]\n",
    "                    spsum -= stack[-1][0]*stack[-1][1]\n",
    "                    stack.pop()\n",
    "                stack.push((dp[j],j))\n",
    "                ssum += dp[j]\n",
    "                spsum += dp[j]*j\n",
    "                ans += (j+1)*ssum-spsum\n",
    "        return ans"
   ]
  },
  {
   "cell_type": "markdown",
   "id": "a5f609a9-3384-4b00-8fa0-3e8f29e78b71",
   "metadata": {},
   "source": [
    "### Attempt 3"
   ]
  },
  {
   "cell_type": "code",
   "execution_count": 17,
   "id": "3d82c43c-fea1-4b69-b196-37b3cc99b0ea",
   "metadata": {},
   "outputs": [],
   "source": [
    "class Solution:\n",
    "    def numSubmat(self,mat):\n",
    "        rows,cols = len(mat),len(mat[0])\n",
    "        dp = [0]*cols\n",
    "        ans = 0\n",
    "        for i in range(rows):\n",
    "            stack = [(0,-1,-1)]\n",
    "            ssum = 0\n",
    "            for j in range(cols):\n",
    "                if mat[i][j]:\n",
    "                    dp[j] += 1\n",
    "                else:\n",
    "                    dp[j] = 0\n",
    "                while stack[-1][0]>dp[j]:\n",
    "                    ssum -= stack[-1][0]*(stack[-1][1]-stack[-1][2])\n",
    "                    stack.pop()\n",
    "                stack.append((dp[j],j,stack[-1][1] if stack else -1))\n",
    "                ssum += stack[-1][0]*(stack[-1][1]-stack[-1][2])\n",
    "                ans += ssum\n",
    "                print(dp,stack,sum([x[0]*(x[1]-x[2]) for x in stack]))\n",
    "        return ans"
   ]
  },
  {
   "cell_type": "code",
   "execution_count": 18,
   "id": "ba471ad3-f3a5-4032-b758-2ac230e099a6",
   "metadata": {},
   "outputs": [
    {
     "name": "stdout",
     "output_type": "stream",
     "text": [
      "[1, 0, 0] [(0, -1, -1), (1, 0, -1)] 1\n",
      "[1, 0, 0] [(0, -1, -1), (0, 1, -1)] 0\n",
      "[1, 0, 1] [(0, -1, -1), (0, 1, -1), (1, 2, 1)] 1\n",
      "[2, 0, 1] [(0, -1, -1), (2, 0, -1)] 2\n",
      "[2, 1, 1] [(0, -1, -1), (1, 1, -1)] 2\n",
      "[2, 1, 0] [(0, -1, -1), (0, 2, -1)] 0\n",
      "[3, 1, 0] [(0, -1, -1), (3, 0, -1)] 3\n",
      "[3, 2, 0] [(0, -1, -1), (2, 1, -1)] 4\n",
      "[3, 2, 0] [(0, -1, -1), (0, 2, -1)] 0\n"
     ]
    },
    {
     "data": {
      "text/plain": [
       "13"
      ]
     },
     "execution_count": 18,
     "metadata": {},
     "output_type": "execute_result"
    }
   ],
   "source": [
    "Solution().numSubmat([[1,0,1],[1,1,0],[1,1,0]])"
   ]
  },
  {
   "cell_type": "markdown",
   "id": "436c1925-2836-4b2a-b3fd-6ad4bf71072e",
   "metadata": {},
   "source": [
    "## further optimization"
   ]
  },
  {
   "cell_type": "markdown",
   "id": "f872dff3-cbeb-4616-b8ed-697c78de3b5d",
   "metadata": {},
   "source": [
    "### Attempt 4"
   ]
  },
  {
   "cell_type": "code",
   "execution_count": 19,
   "id": "c8714eab-10c1-467e-bbaf-509712109f4a",
   "metadata": {},
   "outputs": [],
   "source": [
    "class Solution:\n",
    "    def numSubmat(self,mat):\n",
    "        cols = len(mat[0])\n",
    "        dp = [0]*cols\n",
    "        ans = 0\n",
    "        for row in mat:\n",
    "            stack = [(0,-1,0)]\n",
    "            for i in range(cols):\n",
    "                if row[i]:\n",
    "                    dp[i]+=1\n",
    "                else:\n",
    "                    dp[i]=0\n",
    "                while stack[-1][0]>dp[i]:\n",
    "                    stack.pop()\n",
    "                stack.append((dp[i],i,stack[-1][2]+dp[i]*(i-stack[-1][1])))\n",
    "                ans += stack[-1][2]\n",
    "        return ans"
   ]
  },
  {
   "cell_type": "markdown",
   "id": "b6bcdfc3-a58e-4a96-b46e-be631c936d21",
   "metadata": {},
   "source": [
    "**AC**"
   ]
  },
  {
   "cell_type": "code",
   "execution_count": null,
   "id": "29a42fa4-540f-481a-b310-211e22e6a525",
   "metadata": {},
   "outputs": [],
   "source": []
  }
 ],
 "metadata": {
  "kernelspec": {
   "display_name": "Python 3",
   "language": "python",
   "name": "python3"
  },
  "language_info": {
   "codemirror_mode": {
    "name": "ipython",
    "version": 3
   },
   "file_extension": ".py",
   "mimetype": "text/x-python",
   "name": "python",
   "nbconvert_exporter": "python",
   "pygments_lexer": "ipython3",
   "version": "3.9.2"
  }
 },
 "nbformat": 4,
 "nbformat_minor": 5
}
