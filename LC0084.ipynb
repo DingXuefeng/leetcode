{
 "cells": [
  {
   "cell_type": "markdown",
   "id": "ed982e06-1ad2-4ae5-b0d0-f1aa23141012",
   "metadata": {},
   "source": [
    "# Lagest rectangle in histogram"
   ]
  },
  {
   "cell_type": "markdown",
   "id": "bdfee484-d24b-4919-9c7c-49e471134db0",
   "metadata": {},
   "source": [
    "Given array of heights, find largest rectangle in it\n",
    "\n",
    "Constraints\n",
    "```\n",
    "1<=h.length<=10**5\n",
    "0<=h[i]<=10**4\n",
    "```"
   ]
  },
  {
   "cell_type": "markdown",
   "id": "0434dd6e-f917-4c87-84f4-59b29cdd45c0",
   "metadata": {},
   "source": [
    "## DP\n",
    "```\n",
    "dp[i] = max([min(h[j:i+1])*(i-j+1) for j in range(0,i+1)])\n",
    "```\n",
    "\n"
   ]
  },
  {
   "cell_type": "code",
   "execution_count": null,
   "id": "67164d26-5185-40c8-a139-34de8b3021a6",
   "metadata": {},
   "outputs": [],
   "source": [
    "class Solution:\n",
    "    def largetRectangleArea(self,heights):\n",
    "        stack = [(0,-1)]\n",
    "        ans = 0\n",
    "        for i,h in enumerate(heights):\n",
    "            while stack[-1][0]>=h:\n",
    "                stack.pop()\n",
    "            ans = max(ans,h*(i-stack[-1][1]))\n",
    "            stack.append((h,i))\n",
    "        return ans"
   ]
  }
 ],
 "metadata": {
  "kernelspec": {
   "display_name": "Python 3",
   "language": "python",
   "name": "python3"
  },
  "language_info": {
   "codemirror_mode": {
    "name": "ipython",
    "version": 3
   },
   "file_extension": ".py",
   "mimetype": "text/x-python",
   "name": "python",
   "nbconvert_exporter": "python",
   "pygments_lexer": "ipython3",
   "version": "3.9.2"
  }
 },
 "nbformat": 4,
 "nbformat_minor": 5
}
