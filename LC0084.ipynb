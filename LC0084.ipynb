{
 "cells": [
  {
   "cell_type": "markdown",
   "id": "ed982e06-1ad2-4ae5-b0d0-f1aa23141012",
   "metadata": {},
   "source": [
    "# Lagest rectangle in histogram"
   ]
  },
  {
   "cell_type": "markdown",
   "id": "bdfee484-d24b-4919-9c7c-49e471134db0",
   "metadata": {},
   "source": [
    "Given array of heights, find largest rectangle in it\n",
    "\n",
    "Constraints\n",
    "```\n",
    "1<=h.length<=10**5\n",
    "0<=h[i]<=10**4\n",
    "```"
   ]
  },
  {
   "cell_type": "markdown",
   "id": "0434dd6e-f917-4c87-84f4-59b29cdd45c0",
   "metadata": {},
   "source": [
    "## DP\n",
    "```\n",
    "dp[i] = max([min(h[j:i+1])*(i-j+1) for j in range(0,i+1)])\n",
    "```"
   ]
  },
  {
   "cell_type": "code",
   "execution_count": null,
   "id": "67164d26-5185-40c8-a139-34de8b3021a6",
   "metadata": {},
   "outputs": [],
   "source": [
    "class Solution:\n",
    "    def largetRectangleArea(self,heights):\n",
    "        stack = [(0,-1)]\n",
    "        ans = 0\n",
    "        for i,h in enumerate(heights):\n",
    "            while stack[-1][0]>=h:\n",
    "                stack.pop()\n",
    "            ans = max(ans,h*(i-stack[-1][1]))\n",
    "            stack.append((h,i))\n",
    "        return ans"
   ]
  },
  {
   "cell_type": "markdown",
   "id": "5409eb7b-9cce-49ad-8d3f-bde0417ea451",
   "metadata": {},
   "source": [
    "## Monotonic stack"
   ]
  },
  {
   "cell_type": "markdown",
   "id": "0282547b-ee5a-4f56-92a1-e5e83a4215b7",
   "metadata": {},
   "source": [
    "difference between monotonic stack and patience sorting:\n",
    "```\n",
    "    monotonic stack is treating subarrays\n",
    "```"
   ]
  },
  {
   "cell_type": "code",
   "execution_count": 46,
   "id": "7074ba8e-72c3-4cb5-8b90-e184fd5309d8",
   "metadata": {},
   "outputs": [
    {
     "name": "stdout",
     "output_type": "stream",
     "text": [
      "66 [66]            [0, 1]          [66]                 [66]                \n",
      "99 [66, 99]        [0, 1, 2]       [66, 99]             [66 99]             \n",
      "66->99->72 [1 -- 2] [66, 99, 72] True True True\n",
      "area for (2, 99): (2, 2) -> 1 [99] 99\n",
      "72 [66, 72]        [0, 1, 3]       [66, 72]             [66 99 72]          \n",
      "66->72->39 [1 -- 3] [66, 99, 72, 39] True True True\n",
      "area for (3, 72): (2, 3) -> 2 [99, 72] 144\n",
      "-inf->66->39 [0 -- 3] [-inf, 66, 99, 72, 39] True True True\n",
      "area for (1, 66): (1, 3) -> 3 [66, 99, 72] 198\n",
      "39 [39]            [0, 4]          [39, 72]             [66 99 72 39]       \n",
      "96 [39, 96]        [0, 4, 5]       [39, 72, 96]         [66 99 72 39 96]    \n",
      "39->96->89 [4 -- 5] [39, 96, 89] True True True\n",
      "area for (5, 96): (5, 5) -> 1 [96] 96\n",
      "89 [39, 89]        [0, 4, 6]       [39, 72, 89]         [66 99 72 39 96 89] \n",
      "39->89->4 [4 -- 6] [39, 96, 89, 4] True True True\n",
      "area for (6, 89): (5, 6) -> 2 [96, 89] 178\n",
      "-inf->39->4 [0 -- 6] [-inf, 66, 99, 72, 39, 96, 89, 4] True True True\n",
      "area for (4, 39): (1, 6) -> 6 [66, 99, 72, 39, 96, 89] 234\n",
      " 4 [4]             [0, 7]          [4, 72, 89]          [66 99 72 39 96 89  4]\n",
      "10 [4, 10]         [0, 7, 8]       [4, 10, 89]          [66 99 72 39 96 89  4 10]\n",
      "20 [4, 10, 20]     [0, 7, 8, 9]    [4, 10, 20]          [66 99 72 39 96 89  4 10 20]\n",
      "31 [4, 10, 20, 31] [0, 7, 8, 9, 10] [4, 10, 20, 31]      [66 99 72 39 96 89  4 10 20 31]\n",
      "58 [4, 10, 20, 31, 58] [0, 7, 8, 9, 10, 11] [4, 10, 20, 31, 58]  [66 99 72 39 96 89  4 10 20 31 58]\n",
      "78 [4, 10, 20, 31, 58, 78] [0, 7, 8, 9, 10, 11, 12] [4, 10, 20, 31, 58, 78] [66 99 72 39 96 89  4 10 20 31 58 78]\n",
      "58->78->61 [11 -- 12] [58, 78, 61] True True True\n",
      "area for (12, 78): (12, 12) -> 1 [78] 78\n",
      "61 [4, 10, 20, 31, 58, 61] [0, 7, 8, 9, 10, 11, 13] [4, 10, 20, 31, 58, 61] [66 99 72 39 96 89  4 10 20 31 58 78 61]\n",
      "58->61->58 [11 -- 13] [58, 78, 61, 58] True True True\n",
      "area for (13, 61): (12, 13) -> 2 [78, 61] 122\n",
      "31->58->58 [10 -- 13] [31, 58, 78, 61, 58] True True False\n",
      "area for (11, 58): (11, 13) -> 3 [58, 78, 61] 174\n",
      "58 [4, 10, 20, 31, 58] [0, 7, 8, 9, 10, 14] [4, 10, 20, 31, 58, 61] [66 99 72 39 96 89  4 10 20 31 58 78 61 58]\n",
      "67 [4, 10, 20, 31, 58, 67] [0, 7, 8, 9, 10, 14, 15] [4, 10, 20, 31, 58, 61, 67] [66 99 72 39 96 89  4 10 20 31 58 78 61 58 67]\n",
      "58->67->20 [14 -- 15] [58, 67, 20] True True True\n",
      "area for (15, 67): (15, 15) -> 1 [67] 67\n",
      "31->58->20 [10 -- 15] [31, 58, 78, 61, 58, 67, 20] True True True\n",
      "area for (14, 58): (11, 15) -> 5 [58, 78, 61, 58, 67] 290\n",
      "20->31->20 [9 -- 15] [20, 31, 58, 78, 61, 58, 67, 20] True True True\n",
      "area for (10, 31): (10, 15) -> 6 [31, 58, 78, 61, 58, 67] 186\n",
      "10->20->20 [8 -- 15] [10, 20, 31, 58, 78, 61, 58, 67, 20] True True False\n",
      "area for (9, 20): (9, 15) -> 7 [20, 31, 58, 78, 61, 58, 67] 140\n",
      "20 [4, 10, 20]     [0, 7, 8, 16]   [4, 10, 20, 31, 58, 61, 67] [66 99 72 39 96 89  4 10 20 31 58 78 61 58 67 20]\n",
      "58 [4, 10, 20, 58] [0, 7, 8, 16, 17] [4, 10, 20, 31, 58, 61, 67] [66 99 72 39 96 89  4 10 20 31 58 78 61 58 67 20 58]\n",
      "20->58->51 [16 -- 17] [20, 58, 51] True True True\n",
      "area for (17, 58): (17, 17) -> 1 [58] 58\n",
      "51 [4, 10, 20, 51] [0, 7, 8, 16, 18] [4, 10, 20, 31, 51, 61, 67] [66 99 72 39 96 89  4 10 20 31 58 78 61 58 67 20 58 51]\n",
      "20->51->11 [16 -- 18] [20, 58, 51, 11] True True True\n",
      "area for (18, 51): (17, 18) -> 2 [58, 51] 102\n",
      "10->20->11 [8 -- 18] [10, 20, 31, 58, 78, 61, 58, 67, 20, 58, 51, 11] True True True\n",
      "area for (16, 20): (9, 18) -> 10 [20, 31, 58, 78, 61, 58, 67, 20, 58, 51] 200\n",
      "11 [4, 10, 11]     [0, 7, 8, 19]   [4, 10, 11, 31, 51, 61, 67] [66 99 72 39 96 89  4 10 20 31 58 78 61 58 67 20 58 51 11]\n",
      "44 [4, 10, 11, 44] [0, 7, 8, 19, 20] [4, 10, 11, 31, 44, 61, 67] [66 99 72 39 96 89  4 10 20 31 58 78 61 58 67 20 58 51 11 44]\n"
     ]
    }
   ],
   "source": [
    "import numpy as np\n",
    "from bisect import *\n",
    "arr = np.random.randint(1,100,20)\n",
    "arr2 = [float('-inf')]+list(arr)\n",
    "stack = []\n",
    "stack2 = []\n",
    "stack3 = [0]\n",
    "for i,a in enumerate(arr):\n",
    "    while stack and stack[-1]>=a:\n",
    "        h = stack.pop()\n",
    "        j = stack3.pop()\n",
    "        print(f'{arr2[stack3[-1]]}->{h}->{a}',f'[{stack3[-1]} -- {i}]',arr2[stack3[-1]:i+2],all([x>=h for x in arr2[stack3[-1]+1:i+1]]),arr2[stack3[-1]]<h,arr2[i+1]<h)\n",
    "        print(f'area for {j,h}: {stack3[-1]+1,i} -> {i-stack3[-1]} {arr2[stack3[-1]+1:i+1]} {(i-stack3[-1])*h}')\n",
    "    stack.append(a)\n",
    "    stack3.append(i+1)\n",
    "    if not stack2 or a>stack2[-1]:\n",
    "        stack2.append(a)\n",
    "    else:\n",
    "        stack2[bisect_left(stack2,a)] = a\n",
    "    print(f'{a:2d} {str(stack):15s} {str(stack3):15s} {str(stack2):20s} {str(arr[:i+1]):20s}')        "
   ]
  },
  {
   "cell_type": "code",
   "execution_count": 57,
   "id": "f7264f8f-523f-47e8-a391-5691a5d9babb",
   "metadata": {},
   "outputs": [],
   "source": [
    "class Solution:\n",
    "    def largestRectangleArea(self,heights):\n",
    "        stack = []\n",
    "        ans = 0\n",
    "        for i,curh in enumerate(heights):\n",
    "            while stack and heights[stack[-1]]>curh:\n",
    "                h = heights[stack.pop()] # rec of heigh h[j]\n",
    "                w = i-1-stack[-1] if stack else i\n",
    "                ans = max(ans,w*h) # stack[-1]+1 ... i-1\n",
    "            if stack and heights[stack[-1]]==curh: # equal case need to be poped.\n",
    "                stack.pop()\n",
    "                # its area will be same or less the area of current index\n",
    "            stack.append(i)\n",
    "        while stack:\n",
    "            h = heights[stack.pop()]\n",
    "            w = len(heights)-1-stack[-1] if stack else len(heights)\n",
    "            ans = max(ans,w*h) # stack[-1]+1,...n-1\n",
    "        return ans\n",
    "                "
   ]
  },
  {
   "cell_type": "code",
   "execution_count": 84,
   "id": "8f087494-794f-417f-ac61-4eb71c0dc376",
   "metadata": {},
   "outputs": [],
   "source": [
    "class Solution:\n",
    "    def largestRectangleArea(self,heights):\n",
    "        heights = [0]+heights+[0]\n",
    "        stack = []\n",
    "        ans = 0\n",
    "        for i,h in enumerate(heights):\n",
    "            while stack and heights[stack[-1]]>h:\n",
    "                curh = heights[stack.pop()]\n",
    "                w = i-stack[-1]-1\n",
    "                ans = max(ans,curh*w)\n",
    "                print(stack,curh,w,ans)\n",
    "            stack.append(i)\n",
    "        return ans"
   ]
  },
  {
   "cell_type": "code",
   "execution_count": 87,
   "id": "d20564e0-fb84-455a-a7ba-ffe5faf7fcf4",
   "metadata": {},
   "outputs": [],
   "source": [
    "class Solution:\n",
    "    def largestRectangleArea(self,heights):\n",
    "        heights = [0]+heights+[0]\n",
    "        stack = []\n",
    "        ans = 0\n",
    "        for i,curh in enumerate(heights):\n",
    "            while stack and stack[-1]>curh:\n",
    "                h = heights[stack.pop()]\n",
    "                ans = max(ans,h*(i-stack[-1]-1))\n",
    "            stack.append(i)\n",
    "        return ans"
   ]
  },
  {
   "cell_type": "code",
   "execution_count": 92,
   "id": "4b2cd30c-2565-4b55-93d2-1fdf96ca20bc",
   "metadata": {},
   "outputs": [],
   "source": [
    "class Solution:\n",
    "    def largestRectangleArea(self,heights):\n",
    "        heights = [0]+heights+[0]\n",
    "        stack = []\n",
    "        ans = 0\n",
    "        for i,curh in enumerate(heights):\n",
    "            while stack and heights[stack[-1]]>curh:\n",
    "                h = heights[stack.pop()]\n",
    "                ans = max(ans,h*(i-stack[-1]-1))\n",
    "            stack.append(i)\n",
    "        return ans"
   ]
  },
  {
   "cell_type": "code",
   "execution_count": 93,
   "id": "b890a6e6-c143-4c51-89c1-345df456c77b",
   "metadata": {},
   "outputs": [],
   "source": [
    "inp = [\n",
    "    [[2,1,5,6,2,3],10],\n",
    "    [[2,4],4],\n",
    "    [[99],99],\n",
    "    [[0,99,0,98,0,100,200],200],\n",
    "    [[1,1,1,1,1,99,1],99]\n",
    "]\n",
    "\n",
    "for heights,out in inp:\n",
    "    test = Solution().largestRectangleArea(heights)\n",
    "    if test!=out:\n",
    "        print(test,out)"
   ]
  },
  {
   "cell_type": "code",
   "execution_count": null,
   "id": "b7566f68-9786-4ff8-a6d1-b24d25657801",
   "metadata": {},
   "outputs": [],
   "source": []
  },
  {
   "cell_type": "code",
   "execution_count": null,
   "id": "79168c81-ac7c-4cb1-a4f1-ee57a3479535",
   "metadata": {},
   "outputs": [],
   "source": []
  }
 ],
 "metadata": {
  "kernelspec": {
   "display_name": "Python 3",
   "language": "python",
   "name": "python3"
  },
  "language_info": {
   "codemirror_mode": {
    "name": "ipython",
    "version": 3
   },
   "file_extension": ".py",
   "mimetype": "text/x-python",
   "name": "python",
   "nbconvert_exporter": "python",
   "pygments_lexer": "ipython3",
   "version": "3.9.2"
  }
 },
 "nbformat": 4,
 "nbformat_minor": 5
}
