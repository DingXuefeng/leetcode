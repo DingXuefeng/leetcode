{
 "cells": [
  {
   "cell_type": "markdown",
   "id": "1f3ba625-661c-4602-8b65-0ca4f662efa4",
   "metadata": {},
   "source": [
    "# All elements in two BST\n",
    "merge two BST into one sorted list \n",
    "\n",
    "Constraints:\n",
    "```\n",
    "0<=n<=5000\n",
    "-10**5<=node.val<=10**5\n",
    "```"
   ]
  },
  {
   "cell_type": "code",
   "execution_count": 43,
   "id": "68b966eb-adc3-4294-a6b3-c0e02c1f2600",
   "metadata": {},
   "outputs": [],
   "source": [
    "class TreeNode:\n",
    "    def __init__(self,val=0,left=None,right=None):\n",
    "        self.val = val\n",
    "        self.left = left\n",
    "        self.right = right\n",
    "    \n",
    "    @classmethod\n",
    "    def construct(cls,arr):\n",
    "        n = len(arr)\n",
    "        def dfs(L,R):\n",
    "            if L>=n:\n",
    "                return [None]*(R-L+1)\n",
    "            cur = [TreeNode(arr[i]) if i<n and arr[i] is not None else None for i in range(L,R+1)]\n",
    "            nvalid = len([x for x in cur if x is not None])\n",
    "            nxt = dfs(R+1,R+(nvalid<<1))\n",
    "            i,j = 0,0\n",
    "            while j<nvalid:\n",
    "                while cur[i] is None:\n",
    "                    i += 1\n",
    "                cur[i].left = nxt[j<<1]\n",
    "                cur[i].right = nxt[(j<<1)+1]\n",
    "                i += 1\n",
    "                j += 1\n",
    "            return cur\n",
    "        return dfs(0,0)[0]\n",
    "    \n",
    "    def __str__(self):\n",
    "        ans = ''\n",
    "        q = [self]\n",
    "        while q:\n",
    "            ans += ' '.join([str(x.val) if x is not None else 'x' for x in q])+'\\n'\n",
    "            q = [y for x in q for y in ([x.left,x.right] if x is not None else [None,None])]\n",
    "            if all([x is None for x in q]):\n",
    "                break\n",
    "        return ans\n",
    "null = None"
   ]
  },
  {
   "cell_type": "markdown",
   "id": "36d197a7-2238-43a4-978a-06b9480e9725",
   "metadata": {},
   "source": [
    "**mistake**\n",
    "- `for i in range(n)` should be `for i in range(L,R)`\n",
    "- return `dfs(0,0)[0]`, not `dfs(0,n-1)`\n",
    "- also not `return dfs(0,n-1)[0]`\n",
    "- use `is not None`, other 0 will also be treated as None"
   ]
  },
  {
   "cell_type": "code",
   "execution_count": 44,
   "id": "cd4e952d-72c2-40d9-8167-23de451af140",
   "metadata": {},
   "outputs": [
    {
     "name": "stdout",
     "output_type": "stream",
     "text": [
      "1\n",
      "2 3\n",
      "4 x x 5\n",
      "6 7 x x x x 0 x\n",
      "\n"
     ]
    }
   ],
   "source": [
    "root = TreeNode.construct([1,2,3,4,null,null,5,6,7,0])\n",
    "print(root)"
   ]
  },
  {
   "cell_type": "markdown",
   "id": "324439c0-c318-4316-a688-f6769a49bcf8",
   "metadata": {},
   "source": [
    "## Intuitition\n",
    "Same as merging two linked list"
   ]
  },
  {
   "cell_type": "markdown",
   "id": "a13d796c-c903-440e-9c47-506ac4e47977",
   "metadata": {},
   "source": [
    "### Attempt 1"
   ]
  },
  {
   "cell_type": "code",
   "execution_count": null,
   "id": "f499a9b1-e374-498b-bc96-4e35a622e32c",
   "metadata": {},
   "outputs": [],
   "source": [
    "class Solution:\n",
    "    def getAllElements(self,root1,root2):\n",
    "        def gen(root):\n",
    "            if root:\n",
    "                gen(root.left)\n",
    "                yield root.val\n",
    "                gen(root.right)\n",
    "        g1,g2 = gen(root1),gen(root2)\n",
    "        a = next(g1,None)\n",
    "        b = next(g2,None)\n",
    "        ans = []\n",
    "        while a not is None and b not is None:\n",
    "            if a.val<b.val:\n",
    "                ans.append(a.val)\n",
    "                a = next(g1,None)\n",
    "            else:\n",
    "                ans.append(b.val)\n",
    "                b = next(g2,None)\n",
    "        while a not is None:\n",
    "            ans.append(a.val)\n",
    "            a = next(g1,None)\n",
    "        while b not is None:\n",
    "            ans.append(b.val)\n",
    "            b = next(g2,None)\n",
    "        return ans"
   ]
  },
  {
   "cell_type": "markdown",
   "id": "d6f040f8-ccc5-44ff-8cff-3cfc5e5828c1",
   "metadata": {},
   "source": [
    "**mistake**\n",
    "- `is not` is an operator as a whole\n",
    "- `not in` is also an operator, but for set."
   ]
  },
  {
   "cell_type": "markdown",
   "id": "1008c5c6-3646-402a-9d5a-3f625840c34d",
   "metadata": {},
   "source": [
    "### Attempt 2"
   ]
  },
  {
   "cell_type": "code",
   "execution_count": null,
   "id": "f9ec4203-5e93-4b0d-859b-0ac3686a1441",
   "metadata": {},
   "outputs": [],
   "source": [
    "class Solution:\n",
    "    def getAllElements(self,root1,root2):\n",
    "        def gen(root):\n",
    "            if root:\n",
    "                gen(root.left)\n",
    "                yield root.val\n",
    "                gen(root.right)\n",
    "        g1,g2 = gen(root1),gen(root2)\n",
    "        v1,v2 = next(g1,None),next(g2,None)\n",
    "        ans = []\n",
    "        while v1 is not None and v2 is not None:\n",
    "            if v1.val<v2.val:\n",
    "                ans.append(v1.val)\n",
    "                v1 = next(g1,None)\n",
    "            else:\n",
    "                ans.append(v2.val)\n",
    "                v2 = next(g2,None)\n",
    "        while v1 is not None:\n",
    "            ans.append(v1.val)\n",
    "            v1 = next(g1,None)\n",
    "        while v2 is not None:\n",
    "            ans.append(n2.val)\n",
    "            v2 = next(g2,None)\n",
    "        return ans"
   ]
  },
  {
   "cell_type": "markdown",
   "id": "165a6607-2499-4c33-a34b-926bbf950a0a",
   "metadata": {},
   "source": [
    "**mistake**\n",
    "- generator already return root.val"
   ]
  },
  {
   "cell_type": "markdown",
   "id": "11025483-e3a0-4dbd-91cc-f80d5b4eb990",
   "metadata": {},
   "source": [
    "### Attempt 3"
   ]
  },
  {
   "cell_type": "code",
   "execution_count": 13,
   "id": "3d95d320-0364-46de-9f91-7a0f2059e429",
   "metadata": {},
   "outputs": [],
   "source": [
    "class Solution:\n",
    "    def getAllElements(self,root1,root2):\n",
    "        def gen(root):\n",
    "            if root:\n",
    "                gen(root.left)\n",
    "                yield root.val\n",
    "                gen(root.right)\n",
    "        g1,g2 = gen(root1),gen(root2)\n",
    "        v1,v2 = next(g1,None),next(g2,None)\n",
    "        ans = []\n",
    "        while v1 is not None and v2 is not None:\n",
    "            if v1<v2:\n",
    "                ans.append(v1)\n",
    "                v1 = next(g1,None)\n",
    "            else:\n",
    "                ans.append(v2)\n",
    "                v2 = next(g2,None)\n",
    "        while v1 is not None:\n",
    "            ans.append(v1)\n",
    "            v1 = next(g1,None)\n",
    "        while v2 is not None:\n",
    "            ans.append(v2)\n",
    "            v2 = next(g2,None)\n",
    "        return ans"
   ]
  },
  {
   "cell_type": "markdown",
   "id": "b5c9710d-5471-465c-84b4-9f968d079712",
   "metadata": {},
   "source": [
    "**mistake**\n",
    "- use `yield from`"
   ]
  },
  {
   "cell_type": "code",
   "execution_count": 20,
   "id": "deff0faf-5ce3-414d-8326-e7b98efda96a",
   "metadata": {},
   "outputs": [
    {
     "name": "stdout",
     "output_type": "stream",
     "text": [
      "[10, 6, 3, 2, 7, 4, 8, 1, 9, 5, 11]\n",
      "1\n",
      "2 11\n",
      "3 4 5 x\n",
      "6 x 7 8 9 x x x\n",
      "10 x x x x x x x x x x x x x x x\n",
      "\n"
     ]
    }
   ],
   "source": [
    "root = TreeNode.construct([1,2,11,3,4,5,null,6,null,7,8,9,null,10])\n",
    "def gen(root):\n",
    "    if root:\n",
    "        yield from gen(root.left)\n",
    "        yield root.val\n",
    "        yield from gen(root.right)\n",
    "        \n",
    "print([i for i in gen(root)])\n",
    "    \n",
    "print(root)"
   ]
  },
  {
   "cell_type": "markdown",
   "id": "bbb7e264-65a8-4118-b058-fedae9ebcf4f",
   "metadata": {},
   "source": [
    "### Attempt 4"
   ]
  },
  {
   "cell_type": "code",
   "execution_count": 24,
   "id": "3a471e8a-2ee5-4dff-8ce4-e897730af599",
   "metadata": {},
   "outputs": [],
   "source": [
    "class Solution:\n",
    "    def getAllElements(self,root1,root2):\n",
    "        def gen(root):\n",
    "            if root:\n",
    "                yield from gen(root.left)\n",
    "                yield root.val\n",
    "                yield from gen(root.right)\n",
    "        g1,g2 = gen(root1),gen(root2)\n",
    "        v1,v2 = next(g1,None),next(g2,None)\n",
    "        ans = []\n",
    "        while v1 is not None and v2 is not None:\n",
    "            if v1<v2:\n",
    "                ans.append(v1)\n",
    "                v1 = next(g1,None)\n",
    "            else:\n",
    "                ans.append(v2)\n",
    "                v2 = next(g2,None)\n",
    "        while v1 is not None:\n",
    "            ans.append(v1)\n",
    "            v1 = next(g1,None)\n",
    "        while v2 is not None:\n",
    "            ans.append(v2)\n",
    "            v2 = next(g2,None)\n",
    "        return ans"
   ]
  },
  {
   "cell_type": "markdown",
   "id": "bb696868-f9c3-4b4e-a92c-c1deb023bb3b",
   "metadata": {},
   "source": [
    "## Solution without using yield?"
   ]
  },
  {
   "cell_type": "markdown",
   "id": "acc4dc8f-776c-4cc3-ab31-dad04dd953cf",
   "metadata": {},
   "source": [
    "### Attempt 5"
   ]
  },
  {
   "cell_type": "code",
   "execution_count": null,
   "id": "3a6fb92a-f948-4c00-a804-eae601c11bd0",
   "metadata": {},
   "outputs": [],
   "source": [
    "class Solution:\n",
    "    def getAllElements(self,root1,root2):\n",
    "        stack1,stack2 = [],[]\n",
    "        node1,node2 = root1,root2\n",
    "        ans = []\n",
    "        while (node1 or stack1) and (node2 or stack2):\n",
    "            while node1:\n",
    "                stack1.append(node1)\n",
    "                node1 = node1.left\n",
    "            while node2:\n",
    "                stack2.append(node2)\n",
    "                node2 = node2.left\n",
    "            if stack1[-1].val<stack2[-1].val:\n",
    "                ans.append(node1.val)\n",
    "                node1 = stack1.pop()\n",
    "                node1 = node1.right\n",
    "            else:\n",
    "                ans.append(node2.val)\n",
    "                node2 = stack2.pop()\n",
    "                node2 = node2.right\n",
    "        for node,stack in [[node1,stack1],[node2,stack2]]:\n",
    "            while node or stack:\n",
    "                if node:\n",
    "                    stack.append(node)\n",
    "                    node = node.left\n",
    "                else:\n",
    "                    node = stack.pop()\n",
    "                    ans.append(node.val)\n",
    "                    node = node.right\n",
    "        return ans"
   ]
  },
  {
   "cell_type": "markdown",
   "id": "9095ee87-0b53-4940-8630-7c8f049bc026",
   "metadata": {},
   "source": [
    "**mistake**\n",
    "- forgot `node` is null now. should use `stack[-1]`"
   ]
  },
  {
   "cell_type": "markdown",
   "id": "73bd1c0b-1511-423f-a888-ca4cf88f5f8c",
   "metadata": {},
   "source": [
    "### Attempt6"
   ]
  },
  {
   "cell_type": "code",
   "execution_count": null,
   "id": "c2765d5b-cd1c-4891-a354-7943bbeb2dad",
   "metadata": {},
   "outputs": [],
   "source": [
    "class Solution:\n",
    "    def getAllElements(self,root1,root2):\n",
    "        n1,n2 = root1,root2\n",
    "        s1,s2 = [],[]\n",
    "        ans = []\n",
    "        while (n1 or s1) and (n2 or s2):\n",
    "            while n1:\n",
    "                s1.append(n1)\n",
    "                n1 = n1.left\n",
    "            while n2:\n",
    "                s2.append(n2)\n",
    "                n2 = n2.left\n",
    "            if s1[-1].val<s2[-1].val:\n",
    "                n1 = s1.pop()\n",
    "                ans.append(n1.val)\n",
    "                n1 = n1.right\n",
    "            else:\n",
    "                n2 = s2.pop()\n",
    "                ans.append(n2.val)\n",
    "                n2 = n2.right\n",
    "        for n,s in [[n1,s1],[n2,s2]]:\n",
    "            while n or s:\n",
    "                if n:\n",
    "                    s.append(n)\n",
    "                    n = n.left\n",
    "                else:\n",
    "                    n = s.pop()\n",
    "                    ans.append(n.val)\n",
    "                    n = n.right\n",
    "        return ans"
   ]
  },
  {
   "cell_type": "markdown",
   "id": "98839305-46b1-4942-a0dc-7317398609ba",
   "metadata": {},
   "source": [
    "**AC**"
   ]
  },
  {
   "cell_type": "markdown",
   "id": "d72481b3-8bb8-4aea-91cf-2a26053299ac",
   "metadata": {},
   "source": [
    "## What about Recursive?"
   ]
  },
  {
   "cell_type": "markdown",
   "id": "466bd88a-8271-4e51-8748-e2c8e05841b1",
   "metadata": {},
   "source": [
    "### Attempt 7"
   ]
  },
  {
   "cell_type": "code",
   "execution_count": null,
   "id": "06f14094-f46c-45f5-af73-38e5a8f5f595",
   "metadata": {},
   "outputs": [],
   "source": [
    "class Solution:\n",
    "    def getAllElements(self,root1,root2):\n",
    "        ans = []\n",
    "        def dfs(r1,r2):\n",
    "            if r1 and r2:\n",
    "                dfs(r1.left,r2.left)\n",
    "            elif r1:\n",
    "                dfs(r1.left,r2)\n",
    "            elif r2:\n",
    "                dfs(r1,r2.left)\n",
    "            if r1 and r2 and r1.val<r2.val or not r2:\n",
    "                ans.append(r1.val)\n",
    "                dfs(r1.right,r2)\n",
    "            elif r2:\n",
    "                ans.append(r2.val)\n",
    "                dfs(r1,r2.right)\n",
    "        dfs(root1,root2)\n",
    "        return ans"
   ]
  },
  {
   "cell_type": "markdown",
   "id": "b36e322c-efc3-41b1-adee-74d6cba11fd3",
   "metadata": {},
   "source": [
    "**mistake**\n",
    "- wrong logic. should be `r1 and r2 and r1.val<r2.val or r1 and not r2`"
   ]
  },
  {
   "cell_type": "markdown",
   "id": "ac6e0aa5-4143-4a27-ab1f-1712e359ed61",
   "metadata": {},
   "source": [
    "### Attempt 8"
   ]
  },
  {
   "cell_type": "code",
   "execution_count": 53,
   "id": "9d485b0c-9295-4bea-8efd-bf0e4d07d2b7",
   "metadata": {},
   "outputs": [],
   "source": [
    "class Solution:\n",
    "    def getAllElements(self,root1,root2):\n",
    "        ans = []\n",
    "        def dfs(r1,r2):\n",
    "            if r1 or r2:\n",
    "                if r1 and r2:\n",
    "                    dfs(r1.left,r2.left)\n",
    "                elif r1:\n",
    "                    dfs(r1.left,r2)\n",
    "                elif r2:\n",
    "                    dfs(r1,r2.left)\n",
    "                print(f'{r1.val if r1 else \"x\"} {r2.val if r2 else \"x\"} {ans}')\n",
    "                if r1 and r2 and r1.val<r2.val or r1 and not r2:\n",
    "                    ans.append(r1.val)\n",
    "                    dfs(r1.right,r2)\n",
    "                elif r2:\n",
    "                    ans.append(r2.val)\n",
    "                    dfs(r1,r2.right)\n",
    "        dfs(root1,root2)\n",
    "        return ans\n",
    "        "
   ]
  },
  {
   "cell_type": "markdown",
   "id": "0312eb94-2089-4477-9764-ed2ebf6f5ed1",
   "metadata": {},
   "source": [
    "**mistake**\n",
    "- complex procedure. trick failed. cannot merge two processes"
   ]
  },
  {
   "cell_type": "markdown",
   "id": "1057fabe-fcc6-4f80-92d9-1a9be820a09e",
   "metadata": {},
   "source": [
    "### Attempt 9"
   ]
  },
  {
   "cell_type": "code",
   "execution_count": null,
   "id": "162b5207-d5eb-4387-808d-64bb6ebe1730",
   "metadata": {},
   "outputs": [],
   "source": [
    "class Solution:\n",
    "    def getAllElements(self,root1,root2):\n",
    "        ans = []\n",
    "        tail = None\n",
    "        def dfs(r1,r2):\n",
    "            if r1 and r2:\n",
    "                dfs(r1.left,r2.left)\n",
    "            elif r1:\n",
    "                dfs(r1.left,r2)\n",
    "            elif r2:\n",
    "                dfs(r1,r2.left)\n",
    "            if r1 and r2:\n",
    "                if r1.val<r2.val:\n",
    "                    ans.append(r1)\n",
    "                    dfs(r1.right,r2)\n",
    "                else:\n",
    "                    ans.append(r2)\n",
    "                    dfs(r1,r2.right)\n",
    "            elif r1:\n",
    "                dfs(r1.right,r2)\n",
    "            elif r2:\n",
    "                dfs(r1,r2.right)\n",
    "            if r1 or r2:\n",
    "                tail = r1 or r2\n",
    "        def dfs(r):\n",
    "            if r:\n",
    "                dfs(r.left)\n",
    "                ans.append(r.val)\n",
    "                dfs(r.right)\n",
    "        dfs(root1,root2)\n",
    "        dfs(tail)\n",
    "        return ans"
   ]
  },
  {
   "cell_type": "markdown",
   "id": "25b80910-65a1-4dab-8a27-bec66beea726",
   "metadata": {},
   "source": [
    "**given up**"
   ]
  },
  {
   "cell_type": "code",
   "execution_count": 54,
   "id": "6447973f-0875-40a9-8f00-805eedc68ac1",
   "metadata": {},
   "outputs": [
    {
     "name": "stdout",
     "output_type": "stream",
     "text": [
      "2\n",
      "1 x\n",
      "0 x x x\n",
      " 150\n",
      "140 160\n",
      "x 141 x x\n",
      "\n",
      "0 x []\n",
      "1 140 [0]\n",
      "x 140 [0, 1]\n",
      "x 141 [0, 1, 140]\n",
      "2 150 [0, 1, 140, 141]\n",
      "x 140 [0, 1, 140, 141, 2]\n",
      "x 141 [0, 1, 140, 141, 2, 140]\n",
      "x 150 [0, 1, 140, 141, 2, 140, 141]\n",
      "x 160 [0, 1, 140, 141, 2, 140, 141, 150]\n"
     ]
    },
    {
     "data": {
      "text/plain": [
       "[0, 1, 140, 141, 2, 140, 141, 150, 160]"
      ]
     },
     "execution_count": 54,
     "metadata": {},
     "output_type": "execute_result"
    }
   ],
   "source": [
    "r1,r2 = TreeNode.construct([2,1,null,0]),TreeNode.construct([150,140,160,null,141])\n",
    "print(r1,r2)\n",
    "Solution().getAllElements(r1,r2)"
   ]
  },
  {
   "cell_type": "code",
   "execution_count": null,
   "id": "9189d065-e820-4fac-9388-7759926dc13b",
   "metadata": {},
   "outputs": [],
   "source": []
  },
  {
   "cell_type": "code",
   "execution_count": null,
   "id": "7da1c251-6f5f-4b23-a1a3-740503006fe9",
   "metadata": {},
   "outputs": [],
   "source": []
  }
 ],
 "metadata": {
  "kernelspec": {
   "display_name": "Python 3",
   "language": "python",
   "name": "python3"
  },
  "language_info": {
   "codemirror_mode": {
    "name": "ipython",
    "version": 3
   },
   "file_extension": ".py",
   "mimetype": "text/x-python",
   "name": "python",
   "nbconvert_exporter": "python",
   "pygments_lexer": "ipython3",
   "version": "3.9.2"
  }
 },
 "nbformat": 4,
 "nbformat_minor": 5
}
