{
 "cells": [
  {
   "cell_type": "markdown",
   "id": "29c1ec5b-14a6-4e47-8a16-262c367d94b3",
   "metadata": {},
   "source": [
    "# Nearest ancestor in a BST"
   ]
  },
  {
   "cell_type": "code",
   "execution_count": 24,
   "id": "89b13eba-8c0b-43f0-b965-b4269461cbbc",
   "metadata": {},
   "outputs": [
    {
     "name": "stdout",
     "output_type": "stream",
     "text": [
      "1\n",
      "2 3\n",
      "x 4 5 x\n",
      "x x 6 7 x x x x\n",
      "\n",
      "2\n",
      "x 4\n",
      "x x 6 7\n",
      "\n",
      "4\n",
      "6 7\n",
      "\n"
     ]
    }
   ],
   "source": [
    "class TreeNode:\n",
    "    def __init__(self,x):\n",
    "        self.val = x\n",
    "        self.left = None\n",
    "        self.right = None\n",
    "    @classmethod\n",
    "    def construct(self,arr):\n",
    "        n = len(arr)\n",
    "        def dfs(L,R):\n",
    "            if L>=n:\n",
    "                return [None]*(R-L+1)\n",
    "            cur = [TreeNode(arr[i]) if i<n and arr[i] is not None else None for i in range(L,R+1)]\n",
    "            nvalid = len([x for x in cur if x is not None])\n",
    "            nxt = dfs(R+1,R+(nvalid<<1))\n",
    "            i,j = 0,0\n",
    "            while j<nvalid:\n",
    "                while cur[i] is None:\n",
    "                    i += 1\n",
    "                cur[i].left = nxt[j<<1]\n",
    "                cur[i].right = nxt[(j<<1)+1]\n",
    "                i += 1\n",
    "                j += 1\n",
    "            return cur\n",
    "        return dfs(0,0)[0]\n",
    "    def __str__(self):\n",
    "        ans = ''\n",
    "        q = [self]\n",
    "        while q:\n",
    "            ans += ' '.join([str(x.val) if x is not None else 'x' for x in q])+'\\n'\n",
    "            q = [y for x in q for y in ([x.left,x.right] if x is not None else [None,None])]\n",
    "            if all([x is None for x in q]):\n",
    "                break\n",
    "        return ans\n",
    "null = None\n",
    "root = TreeNode.construct([1,2,3,null,4,5,null,6,7])\n",
    "print(root)\n",
    "print(root.left)\n",
    "print(root.left.right)"
   ]
  },
  {
   "cell_type": "code",
   "execution_count": 17,
   "id": "8cde42dd-e40f-4533-94f8-2396d621e002",
   "metadata": {},
   "outputs": [],
   "source": [
    "class Solution:\n",
    "    def lowestCommonAncestor(self,root,p,q):\n",
    "        ans = (0,root)\n",
    "        def dfs(root,d=0):\n",
    "            nonlocal ans\n",
    "            if root:\n",
    "                ret = dfs(root.left,d+1)+dfs(root.right,d+1)+(root==p or root==q)\n",
    "                if ret==2 and d>ans[0]:\n",
    "                        ans = (d,root)\n",
    "                return ret\n",
    "            else:\n",
    "                return 0\n",
    "        dfs(root)\n",
    "        return ans[1]"
   ]
  },
  {
   "cell_type": "code",
   "execution_count": 25,
   "id": "3a154033-f721-4e87-9f33-4514786992b2",
   "metadata": {},
   "outputs": [
    {
     "name": "stdout",
     "output_type": "stream",
     "text": [
      "(0, <__main__.TreeNode object at 0x109ce5280>)\n",
      "(0, <__main__.TreeNode object at 0x109ce5280>)\n",
      "(0, <__main__.TreeNode object at 0x109ce5280>)\n",
      "(0, <__main__.TreeNode object at 0x109ce5280>)\n",
      "(0, <__main__.TreeNode object at 0x109ce5280>)\n",
      "(0, <__main__.TreeNode object at 0x109ce5280>)\n",
      "(0, <__main__.TreeNode object at 0x109ce5280>)\n",
      "(0, <__main__.TreeNode object at 0x109ce5280>)\n",
      "(0, <__main__.TreeNode object at 0x109ce5280>)\n",
      "(0, <__main__.TreeNode object at 0x109ce5280>)\n",
      "(0, <__main__.TreeNode object at 0x109ce5280>)\n",
      "(0, <__main__.TreeNode object at 0x109ce5280>)\n",
      "(0, <__main__.TreeNode object at 0x109ce5280>)\n",
      "(0, <__main__.TreeNode object at 0x109ce5280>)\n",
      "(0, <__main__.TreeNode object at 0x109ce5280>)\n",
      "(0, <__main__.TreeNode object at 0x109ce5280>)\n",
      "(0, <__main__.TreeNode object at 0x109ce5280>)\n",
      "(0, <__main__.TreeNode object at 0x109ce5280>)\n",
      "(0, <__main__.TreeNode object at 0x109ce5280>)\n",
      "6\n",
      "2 8\n",
      "0 4 7 9\n",
      "x x 3 5 x x x x\n",
      "\n",
      "(0, <__main__.TreeNode object at 0x109ce5280>)\n",
      "(0, <__main__.TreeNode object at 0x109ce5280>)\n",
      "(0, <__main__.TreeNode object at 0x109ce5280>)\n",
      "(0, <__main__.TreeNode object at 0x109ce5280>)\n",
      "(0, <__main__.TreeNode object at 0x109ce5280>)\n",
      "(0, <__main__.TreeNode object at 0x109ce5280>)\n",
      "(0, <__main__.TreeNode object at 0x109ce5280>)\n",
      "(0, <__main__.TreeNode object at 0x109ce5280>)\n",
      "(0, <__main__.TreeNode object at 0x109ce5280>)\n",
      "(1, <__main__.TreeNode object at 0x1098ba8b0>)\n",
      "(1, <__main__.TreeNode object at 0x1098ba8b0>)\n",
      "(1, <__main__.TreeNode object at 0x1098ba8b0>)\n",
      "(1, <__main__.TreeNode object at 0x1098ba8b0>)\n",
      "(1, <__main__.TreeNode object at 0x1098ba8b0>)\n",
      "(1, <__main__.TreeNode object at 0x1098ba8b0>)\n",
      "(1, <__main__.TreeNode object at 0x1098ba8b0>)\n",
      "(1, <__main__.TreeNode object at 0x1098ba8b0>)\n",
      "(1, <__main__.TreeNode object at 0x1098ba8b0>)\n",
      "(1, <__main__.TreeNode object at 0x1098ba8b0>)\n",
      "2\n",
      "0 4\n",
      "x x 3 5\n",
      "\n",
      "2\n",
      "0 4\n",
      "x x 3 5\n",
      "\n"
     ]
    }
   ],
   "source": [
    "root = TreeNode.construct([6,2,8,0,4,7,9,null,null,3,5])\n",
    "p = root.left\n",
    "q = root.right\n",
    "print(Solution().lowestCommonAncestor(root,p,q))\n",
    "p = root.left\n",
    "q = root.left.right\n",
    "print(Solution().lowestCommonAncestor(root,p,q))\n",
    "print(p)"
   ]
  },
  {
   "cell_type": "code",
   "execution_count": 26,
   "id": "dc4fccea-9992-4f65-9ab1-27e1dc96f9ff",
   "metadata": {},
   "outputs": [],
   "source": [
    "class Solution:\n",
    "    def lowestCommonAncestor(self,root,p,q):\n",
    "        if p.val>q.val:\n",
    "            p,q = q,p\n",
    "        def dfs(root):\n",
    "            if root:\n",
    "                if p.val<=root.val<=q.val:\n",
    "                    return root\n",
    "                elif q.val<root.val:\n",
    "                    return dfs(root.left)\n",
    "                else:\n",
    "                    return dfs(root.right)\n",
    "        return dfs(root)\n",
    "                "
   ]
  },
  {
   "cell_type": "code",
   "execution_count": null,
   "id": "65931ed6-b141-4e34-bd12-24da4440112d",
   "metadata": {},
   "outputs": [],
   "source": []
  }
 ],
 "metadata": {
  "kernelspec": {
   "display_name": "Python 3",
   "language": "python",
   "name": "python3"
  },
  "language_info": {
   "codemirror_mode": {
    "name": "ipython",
    "version": 3
   },
   "file_extension": ".py",
   "mimetype": "text/x-python",
   "name": "python",
   "nbconvert_exporter": "python",
   "pygments_lexer": "ipython3",
   "version": "3.9.2"
  }
 },
 "nbformat": 4,
 "nbformat_minor": 5
}
