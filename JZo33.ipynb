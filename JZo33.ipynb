{
 "cells": [
  {
   "cell_type": "markdown",
   "id": "9720d64c-6bb6-4f42-9c64-004cca03ad51",
   "metadata": {},
   "source": [
    "# BST postorder\n",
    "check is arr can be postorder of a BST"
   ]
  },
  {
   "cell_type": "code",
   "execution_count": 24,
   "id": "cceab669-89f9-419d-888a-ac0dbf378bc1",
   "metadata": {},
   "outputs": [],
   "source": [
    "class Solution:\n",
    "    def verifyPostorder(self,postorder):\n",
    "        def dfs(L,R,mn,mx):\n",
    "            if L>R:\n",
    "                return True\n",
    "            p = postorder[R]\n",
    "            if not mn<=p<=mx:\n",
    "                return False\n",
    "            l,r = L-1,R-1\n",
    "            while l<r:\n",
    "                mid = l+(r-l+1>>1)\n",
    "                if postorder[mid]<p:\n",
    "                    l = mid\n",
    "                else:\n",
    "                    r = mid-1\n",
    "            return dfs(L,l,mn,p) and dfs(l+1,R-1,p,mx)\n",
    "        return dfs(0,len(postorder)-1,float('-inf'),float('inf'))\n",
    "            \n"
   ]
  },
  {
   "cell_type": "code",
   "execution_count": 25,
   "id": "f44f138a-3650-4f49-be5a-48ced8e4b899",
   "metadata": {},
   "outputs": [
    {
     "data": {
      "text/plain": [
       "False"
      ]
     },
     "execution_count": 25,
     "metadata": {},
     "output_type": "execute_result"
    }
   ],
   "source": [
    "Solution().verifyPostorder([7, 4, 6, 5])"
   ]
  },
  {
   "cell_type": "code",
   "execution_count": 28,
   "id": "2c466127-c8cf-4153-a833-42feaddd42ef",
   "metadata": {},
   "outputs": [],
   "source": [
    "class Solution:\n",
    "    def verifyPostorder(self,postorder):\n",
    "        def dfs(L,R,mn,mx):\n",
    "            if L>R:\n",
    "                return True\n",
    "            p = postorder[R]\n",
    "            if not mn<p<mx:\n",
    "                return False\n",
    "            i = bisect_left(postorder,p,L,R)\n",
    "            return dfs(L,i-1,mn,p) and dfs(i,R-1,p,mx)\n",
    "        return dfs(0,len(postorder)-1,float('-inf'),float('inf'))"
   ]
  },
  {
   "cell_type": "code",
   "execution_count": null,
   "id": "f312d29e-2180-4ce7-a1ef-c7a86a5f59ab",
   "metadata": {},
   "outputs": [],
   "source": []
  }
 ],
 "metadata": {
  "kernelspec": {
   "display_name": "Python 3",
   "language": "python",
   "name": "python3"
  },
  "language_info": {
   "codemirror_mode": {
    "name": "ipython",
    "version": 3
   },
   "file_extension": ".py",
   "mimetype": "text/x-python",
   "name": "python",
   "nbconvert_exporter": "python",
   "pygments_lexer": "ipython3",
   "version": "3.9.2"
  }
 },
 "nbformat": 4,
 "nbformat_minor": 5
}
