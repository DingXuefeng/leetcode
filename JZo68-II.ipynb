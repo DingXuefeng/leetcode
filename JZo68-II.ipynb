{
 "cells": [
  {
   "cell_type": "markdown",
   "id": "fd652669-b86a-4f72-a369-b2bf10e77cc2",
   "metadata": {},
   "source": [
    "# BT nearest ancestor"
   ]
  },
  {
   "cell_type": "code",
   "execution_count": 2,
   "id": "94724a91-9521-4ebf-b463-a52d36633e9b",
   "metadata": {},
   "outputs": [
    {
     "name": "stdout",
     "output_type": "stream",
     "text": [
      "1\n",
      "2 3\n",
      "x x 4 5\n",
      "x x x x x 6 x x\n",
      "\n"
     ]
    }
   ],
   "source": [
    "class TreeNode:\n",
    "    def __init__(self,val):\n",
    "        self.val =val\n",
    "        self.left = None\n",
    "        self.right = None\n",
    "    @classmethod\n",
    "    def construct(self,arr):\n",
    "        n = len(arr)\n",
    "        def dfs(L,R):\n",
    "            if L>=n:\n",
    "                return [None]*(R-L+1)\n",
    "            cur = [TreeNode(arr[i]) if i<n and arr[i] is not None else None for i in range(L,R+1)]\n",
    "            nvalid = len([x for x in cur if x is not None])\n",
    "            nxt = dfs(R+1,R+(nvalid<<1))\n",
    "            i,j = 0,0\n",
    "            while j<nvalid:\n",
    "                while cur[i] is None:\n",
    "                    i += 1\n",
    "                cur[i].left = nxt[j<<1]\n",
    "                cur[i].right = nxt[(j<<1)+1]\n",
    "                i += 1\n",
    "                j += 1\n",
    "            return cur\n",
    "        return dfs(0,0)[0]\n",
    "    def __str__(self):\n",
    "        q = [self]\n",
    "        ans = ''\n",
    "        while q:\n",
    "            ans += ' '.join([str(x.val) if x is not None else 'x' for x in q]) + '\\n'\n",
    "            q = [y for x in q for y in ([x.left,x.right] if x else [None,None])]\n",
    "            if all([x is None for x in q]):\n",
    "                break\n",
    "        return ans\n",
    "null = None\n",
    "root = TreeNode.construct([1,2,3,null,null,4,5,null,6])\n",
    "print(root)\n",
    "    "
   ]
  },
  {
   "cell_type": "code",
   "execution_count": 10,
   "id": "6461b22e-6579-4ae0-b914-3b1d46297ac2",
   "metadata": {},
   "outputs": [],
   "source": [
    "class Solution:\n",
    "    def lowestCommonAncestor(self,root,p,q):\n",
    "        ans = None\n",
    "        def dfs(root):\n",
    "            nonlocal ans\n",
    "            if root:\n",
    "                ret = dfs(root.left)+dfs(root.right)+(root==p)+(root==q)\n",
    "                if ret ==2 and ans is None:\n",
    "                    ans = root\n",
    "                return ret\n",
    "            return 0\n",
    "        dfs(root)\n",
    "        return ans"
   ]
  },
  {
   "cell_type": "code",
   "execution_count": 11,
   "id": "5c5faaf7-a823-4103-8482-fd23b6ec690c",
   "metadata": {},
   "outputs": [
    {
     "name": "stdout",
     "output_type": "stream",
     "text": [
      "1\n",
      "2 3\n",
      "x x 4 5\n",
      "x x x x x 6 x x\n",
      "\n",
      "3\n",
      "4 5\n",
      "x 6 x x\n",
      "\n"
     ]
    }
   ],
   "source": [
    "print(root)\n",
    "print(Solution().lowestCommonAncestor(root,root.right,root.right.left))"
   ]
  },
  {
   "cell_type": "code",
   "execution_count": null,
   "id": "3a0523d7-e4cc-45ea-82cc-2633945cca10",
   "metadata": {},
   "outputs": [],
   "source": []
  }
 ],
 "metadata": {
  "kernelspec": {
   "display_name": "Python 3",
   "language": "python",
   "name": "python3"
  },
  "language_info": {
   "codemirror_mode": {
    "name": "ipython",
    "version": 3
   },
   "file_extension": ".py",
   "mimetype": "text/x-python",
   "name": "python",
   "nbconvert_exporter": "python",
   "pygments_lexer": "ipython3",
   "version": "3.9.2"
  }
 },
 "nbformat": 4,
 "nbformat_minor": 5
}
