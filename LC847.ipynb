{
 "cells": [
  {
   "cell_type": "markdown",
   "id": "16b7d729-243e-401d-b707-5e414d5b3277",
   "metadata": {},
   "source": [
    "# Visit shortest path"
   ]
  },
  {
   "cell_type": "markdown",
   "id": "c3297a51-28bc-43ff-989f-64aeb256b10d",
   "metadata": {},
   "source": [
    "Given n connected bi-directional graph, numbered from 0 to n-1 represented by graph, \n",
    "where graph[i] is the list of node connected with i, \n",
    "calculate the shortest length of path to visit all nodes\n",
    "\n",
    "Examples\n",
    "```\n",
    "[[1,2,3],[0],[0],[0]]\n",
    "\n",
    "4\n",
    "eg, [1,0,2,0,3]\n",
    "\n",
    "[[1],[0,2,4],[1,3,4],[2],[1,2]]\n",
    "\n",
    "4\n",
    "eg, [0,1,4,2,3]\n",
    "```"
   ]
  },
  {
   "cell_type": "markdown",
   "id": "9880dc25-565b-4aba-a4ea-ffc56323ccf9",
   "metadata": {},
   "source": [
    "### Attempt 1"
   ]
  },
  {
   "cell_type": "code",
   "execution_count": null,
   "id": "918491eb-e9ab-4c8a-86f7-cdcd91750cb5",
   "metadata": {},
   "outputs": [],
   "source": [
    "class Solution:\n",
    "    def shortestPathLength(self,graph):\n",
    "        n = len(graph)\n",
    "        G = [[float('inf')]*n for _ in range(n)]\n",
    "        for i in range(n):\n",
    "            G[i][i] = 0\n",
    "            for j in graph[i]:\n",
    "                G[i][j] = 1\n",
    "        for k in range(n):\n",
    "            for i in range(n):\n",
    "                for j in range(n):\n",
    "                    if j in graph[k]:\n",
    "                        G[i][j] = min(G[i][j],G[i][k]+G[k][j])\n",
    "        dp = [None]*2\n",
    "        dp[0] = {(i):{i:0} for i in range(n)}\n",
    "        for l in range(2,n+1):\n",
    "            dp[l&1] = defaultdict(defaultdict(lambda : float('inf')))\n",
    "            for path in dp[(l-1)&1]:\n",
    "                for head in path:\n",
    "                    for newH in graph[head]:\n",
    "                        dp[l&1][(*path,newH)][newH] = min(dp[l&1][(*path,newH)][newH],dp[(l-1)&1][path][head]+1)\n",
    "            for path in dp[l&1]:\n",
    "                for i in path:\n",
    "                    for j in path:\n",
    "                        dp[l&1][path][i] = min(dp[l&1][path][i],dp[l&1][path][j]+G[j][i])\n",
    "        return min(dp[n&1][(i for i in range(n))].values())"
   ]
  },
  {
   "cell_type": "markdown",
   "id": "de39e790-324b-4cef-9e3e-680103e33e2e",
   "metadata": {},
   "source": [
    "**Mistake**\n",
    "- syntax error `defaultdict(defaultdict(lambda : float('inf')))`"
   ]
  },
  {
   "cell_type": "code",
   "execution_count": 7,
   "id": "e18ec80a-6f49-4a7b-946f-6f8558e7c098",
   "metadata": {},
   "outputs": [],
   "source": [
    "from collections import *\n",
    "a = defaultdict(lambda : float('inf'))\n",
    "b = defaultdict(lambda : defaultdict(lambda : float('inf')))"
   ]
  },
  {
   "cell_type": "markdown",
   "id": "cb38420e-45c3-459e-9607-bca89fbb267c",
   "metadata": {},
   "source": [
    "### Attemp 2"
   ]
  },
  {
   "cell_type": "code",
   "execution_count": null,
   "id": "521bcb78-d1c3-4b85-8525-15542f525d80",
   "metadata": {},
   "outputs": [],
   "source": [
    "class Solution:\n",
    "    def shortestPathLength(self,graph):\n",
    "        n = len(graph)\n",
    "        G = [[float('inf')]*n for _ in range(n)]\n",
    "        for i in range(n):\n",
    "            G[i][i] = 0\n",
    "            for j in graph[i]:\n",
    "                G[i][j] = 1\n",
    "        for k in range(n):\n",
    "            for i in range(n):\n",
    "                for j in range(n):\n",
    "                    G[i][j] = min(G[i][j],G[i][k]+G[k][j])\n",
    "        \n",
    "        dp = [None]*2\n",
    "        dp[1] = {(i):{i:0} for i in range(n)}\n",
    "        \n",
    "        for l in range(2,n+1):\n",
    "            dp[l&1] = defaultdict(lambda: defaultdict(lambda: float('inf')))\n",
    "            for path in dp[(l-1)&1]:\n",
    "                for head in path:\n",
    "                    for newH in graph[head]:\n",
    "                        dp[l&1][(*path,newH)][newH] = min(dp[l&1][(*path,newH)][newH],\n",
    "                                                          dp[(l-1)&1][path][head]+1)\n",
    "            for path in dp[l&1]:\n",
    "                for i in path:\n",
    "                    for j in path:\n",
    "                        dp[l&1][path][i] = min(dp[l&1][path][i],dp[l&1][path][j]+G[j][i])\n",
    "        \n",
    "        return min(dp[n&1][(i for i in range(n))])     "
   ]
  },
  {
   "cell_type": "markdown",
   "id": "1d33cb81-f973-4a85-be35-53147de5f901",
   "metadata": {},
   "source": [
    "**Mistake and update**\n",
    "- fix mistakes in Dijkstra algorithms in the first part. G[k][j] can be larger than 1\n",
    "- (1) is a number, (1,) is a tuple. First can be interated, second not."
   ]
  },
  {
   "cell_type": "code",
   "execution_count": 12,
   "id": "e2eea239-b8fe-4f57-89bb-6e72a7a06b63",
   "metadata": {},
   "outputs": [
    {
     "name": "stdout",
     "output_type": "stream",
     "text": [
      "1\n",
      "2\n",
      "3\n",
      "1\n"
     ]
    }
   ],
   "source": [
    "a = (1)\n",
    "# for i in a:\n",
    "#     print(i)\n",
    "b = (1,2,3)\n",
    "for i in b:\n",
    "    print(i)\n",
    "# for i in list(a):\n",
    "#     print(i)\n",
    "a = (1,)\n",
    "for i in a:\n",
    "    print(i)"
   ]
  },
  {
   "cell_type": "markdown",
   "id": "0417a2c0-756f-444a-95d9-075b98bf14b7",
   "metadata": {},
   "source": [
    "### Attemp 3"
   ]
  },
  {
   "cell_type": "code",
   "execution_count": 42,
   "id": "899253c7-d1e5-4e4f-9356-466cc397400a",
   "metadata": {},
   "outputs": [],
   "source": [
    "class Solution:\n",
    "    def shortestPathLength(self,graph):\n",
    "        n = len(graph)\n",
    "        G = [[float('inf')]*n for _ in range(n)]\n",
    "        for i in range(n):\n",
    "            G[i][i] = 0\n",
    "            for j in graph[i]:\n",
    "                G[i][j] = 1\n",
    "        for k in range(n):\n",
    "            for i in range(n):\n",
    "                for j in range(n):\n",
    "                    G[i][j] = min(G[i][j],G[i][k]+G[k][j])\n",
    "        \n",
    "        dp = [None]*2\n",
    "        dp[1] = {(i,):{i:0} for i in range(n)}\n",
    "        for l in range(2,n+1):\n",
    "            dp[l&1] = defaultdict(lambda: defaultdict(lambda: float('inf')))\n",
    "            for path in dp[(l-1)&1]:\n",
    "                for head in path:\n",
    "                    for newH in graph[head]:\n",
    "                        dp[l&1][(*path,newH)][newH] = min(dp[l&1][(*path,newH)][newH],dp[(l-1)&1][path][head]+1)\n",
    "            for path in dp[l&1]:\n",
    "                for i in path:\n",
    "                    for j in path:\n",
    "                        dp[l&1][path][i] = min(dp[l&1][path][i],dp[l&1][path][j]+G[j][i])\n",
    "        print(dp[n&1][(0,1,2,3)])\n",
    "        return min(dp[n&1][(i for i in range(n))])"
   ]
  },
  {
   "cell_type": "markdown",
   "id": "bb9a9792-a3db-4186-990b-81157609b9de",
   "metadata": {},
   "source": [
    "**Mistake**\n",
    "- simple typo: `for in range(n)`=>`for i in range(n)`\n",
    "- `(i for i in range(n))` is fine.\n",
    "- `dp[n&1][(0,1,2,3)]` is fine, `dp[n&1][(i for i in range(n)]` not.\n",
    "- `(i for i in range(n))` is a generator, rather than a tuple. \n",
    "use `tuple()` to convert the generator into a tuple\n",
    "- forgot to remove duplicate elements, resulting (0,1,1,1) path\n",
    "- forgot to sort, resulting (0,1,2,3) and (0,2,3,1) as different variables.\n",
    "**How to avoid \"forgot\"?**"
   ]
  },
  {
   "cell_type": "code",
   "execution_count": 50,
   "id": "a84a3048-55d4-4350-9686-1bb721291530",
   "metadata": {},
   "outputs": [
    {
     "name": "stdout",
     "output_type": "stream",
     "text": [
      "<class 'tuple'> <class 'generator'> False False True False True\n"
     ]
    }
   ],
   "source": [
    "a = (1,2,3)\n",
    "b = (i for i in [1,2,3])\n",
    "c = {a:3}\n",
    "print(type(a),type(b),a==b,a is b,a in c,b in c,tuple(b) in c)\n",
    "# Solution().shortestPathLength([[1,2,3],[0],[0],[0]])"
   ]
  },
  {
   "cell_type": "markdown",
   "id": "7de7d57e-11e2-4863-97de-71702f368182",
   "metadata": {},
   "source": [
    "### Attempt 4"
   ]
  },
  {
   "cell_type": "code",
   "execution_count": 64,
   "id": "61270932-3d35-4f99-88bc-e41170accf59",
   "metadata": {},
   "outputs": [],
   "source": [
    "class Solution:\n",
    "    def shortestPathLength(self,graph):\n",
    "        n = len(graph)\n",
    "        G = [[float('inf')]*n for _ in range(n)]\n",
    "        for i in range(n):\n",
    "            G[i][i] = 0\n",
    "            for j in graph[i]:\n",
    "                G[i][j] = 1\n",
    "        for k in range(n):\n",
    "            for i in range(n):\n",
    "                for j in range(n):\n",
    "                    G[i][j] = min(G[i][j],G[i][k]+G[k][j])\n",
    "        dp = [None]*2\n",
    "        dp[1] = {(i,):{i:0} for i in range(n)}\n",
    "        for l in range(2,n+1):\n",
    "            dp[l&1] = defaultdict(lambda : defaultdict(lambda : float('inf')))\n",
    "            for path in dp[(l-1)&1]:\n",
    "                for head in path:\n",
    "                    for newH in graph[head]:\n",
    "                        if not newH in path:\n",
    "                            newP = tuple(sorted((*path,newH)))\n",
    "                            dp[l&1][newP][newH] = min(dp[l&1][newP][newH],dp[(l-1)&1][path][head]+1)\n",
    "            for path in dp[l&1]:\n",
    "                for i in path:\n",
    "                    for j in path:\n",
    "                        dp[l&1][path][i] = min(dp[l&1][path][i],dp[l&1][path][j]+G[j][i])\n",
    "        for path in dp[n&1]:\n",
    "            for head in dp[n&1][path]:\n",
    "                print(path,head,dp[n&1][path][head])\n",
    "        return min(dp[n&1][tuple((i for i in range(n)))])"
   ]
  },
  {
   "cell_type": "code",
   "execution_count": 65,
   "id": "9fca247a-c15d-42b8-a4ee-b9cd3c020421",
   "metadata": {},
   "outputs": [
    {
     "name": "stdout",
     "output_type": "stream",
     "text": [
      "(0, 1, 2, 3, 4, 5, 6, 7, 8, 9, 10) 10 18\n",
      "(0, 1, 2, 3, 4, 5, 6, 7, 8, 9, 10) 9 18\n",
      "(0, 1, 2, 3, 4, 5, 6, 7, 8, 9, 10) 8 18\n",
      "(0, 1, 2, 3, 4, 5, 6, 7, 8, 9, 10) 7 18\n",
      "(0, 1, 2, 3, 4, 5, 6, 7, 8, 9, 10) 6 18\n",
      "(0, 1, 2, 3, 4, 5, 6, 7, 8, 9, 10) 5 18\n",
      "(0, 1, 2, 3, 4, 5, 6, 7, 8, 9, 10) 4 18\n",
      "(0, 1, 2, 3, 4, 5, 6, 7, 8, 9, 10) 3 18\n",
      "(0, 1, 2, 3, 4, 5, 6, 7, 8, 9, 10) 2 18\n",
      "(0, 1, 2, 3, 4, 5, 6, 7, 8, 9, 10) 1 18\n",
      "(0, 1, 2, 3, 4, 5, 6, 7, 8, 9, 10) 0 19\n"
     ]
    },
    {
     "data": {
      "text/plain": [
       "18"
      ]
     },
     "execution_count": 68,
     "metadata": {},
     "output_type": "execute_result"
    }
   ],
   "source": [
    "Solution().shortestPathLength([[1,2,3],[0],[0],[0],[0],[0],[0],[0],[0],[0],[0]])"
   ]
  },
  {
   "cell_type": "markdown",
   "id": "acc11236-322f-4a72-9abd-589c96763964",
   "metadata": {},
   "source": [
    "**Mistake**\n",
    "- Naive type: `return dp[l&1]` instead of `return dp[n&1]`\n",
    "- should return `min(dict.values())` instead of `min(dict)`\n",
    "- does not handle edge cases. When n==0, it will return `min([])`, resulting an error.\n",
    "- always check if arguments of min can be empty."
   ]
  },
  {
   "cell_type": "markdown",
   "id": "002da636-1006-43cf-848c-7952f1193567",
   "metadata": {},
   "source": [
    "### Attempt 5"
   ]
  },
  {
   "cell_type": "code",
   "execution_count": 89,
   "id": "37ba7eae-3c77-4a5b-8457-792b9cf65add",
   "metadata": {},
   "outputs": [],
   "source": [
    "class Solution:\n",
    "    def shortestPathLength(self,graph):\n",
    "        n = len(graph)\n",
    "        G = [[float('inf')]*n for _ in range(n)]\n",
    "        for i in range(n):\n",
    "            G[i][i] = 0\n",
    "            for j in graph[i]:\n",
    "                G[i][j] = 1\n",
    "        dp = [None]*2\n",
    "        dp[1] = {(i,):{i:0} for i in range(n)}\n",
    "        for l in range(2,n+1):\n",
    "            dp[l&1] = defaultdict(lambda:defaultdict(lambda:float('inf')))\n",
    "            for path in dp[(l-1)&1]:\n",
    "                for head in path:\n",
    "                    for newH in set(graph[head])-set(path):\n",
    "                        newP = tuple(sorted((*path,newH)))\n",
    "                        dp[l&1][newP][newH] = min(dp[l&1][newP][newH],dp[(l-1)&1][head]+1)\n",
    "            for path in dp[l&1]:\n",
    "                for i in path:\n",
    "                    for j in path:\n",
    "                        dp[l&1][path][j] = min(dp[l&1][path][j],dp[l&1][path][i]+G[i][j])\n",
    "        # print(n,dp[n&1])\n",
    "        return min(dp[n&1][tuple((i for i in range(n)))].values())"
   ]
  },
  {
   "cell_type": "code",
   "execution_count": 91,
   "id": "329d092a-3121-4e26-aecb-775b2e8430cd",
   "metadata": {},
   "outputs": [
    {
     "data": {
      "text/plain": [
       "0"
      ]
     },
     "execution_count": 91,
     "metadata": {},
     "output_type": "execute_result"
    }
   ],
   "source": [
    "Solution().shortestPathLength([[]])"
   ]
  },
  {
   "cell_type": "markdown",
   "id": "a8829590-2b1b-4cfa-878b-d96eff40b679",
   "metadata": {},
   "source": [
    "## Another idea\n",
    "Now we loop over the length of the path. Why not over the head point?\n",
    "```\n",
    "dp[i] = [(*path,i) for j in graph[i] for path in dp[j]]\n",
    "```\n",
    "we can also use bit to represent a path, since the order does not matter\n",
    "```python\n",
    "dp[i] = defaultdict(lambda : float('inf')\n",
    "for j,n in graph[i].items():\n",
    "    for path in dp[j]:\n",
    "        dp[i][path] = min(dp[i][path],n+1)\n",
    "```"
   ]
  }
 ],
 "metadata": {
  "kernelspec": {
   "display_name": "Python 3",
   "language": "python",
   "name": "python3"
  },
  "language_info": {
   "codemirror_mode": {
    "name": "ipython",
    "version": 3
   },
   "file_extension": ".py",
   "mimetype": "text/x-python",
   "name": "python",
   "nbconvert_exporter": "python",
   "pygments_lexer": "ipython3",
   "version": "3.9.2"
  }
 },
 "nbformat": 4,
 "nbformat_minor": 5
}
