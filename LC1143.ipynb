{
 "cells": [
  {
   "cell_type": "markdown",
   "id": "cad19aae-6b2a-4a6b-869d-24d4a98d0d80",
   "metadata": {},
   "source": [
    "# Longest Common Subsequence"
   ]
  },
  {
   "cell_type": "markdown",
   "id": "64415e7f-60c9-4ed6-88a4-afbb053fc8cd",
   "metadata": {},
   "source": [
    "Given a and b, calculate the length of longest common subsequence\n",
    "\n",
    "Constraint:\n",
    "```\n",
    "1<=t1.length,t2.length<=1000\n",
    "```"
   ]
  },
  {
   "cell_type": "markdown",
   "id": "eb49d619-40e4-4e53-8428-6ee1f9deab2e",
   "metadata": {},
   "source": [
    "### Attempt 1"
   ]
  },
  {
   "cell_type": "code",
   "execution_count": null,
   "id": "78bc3bc7-dbf1-4cc4-86ff-356cc7bf06c7",
   "metadata": {},
   "outputs": [],
   "source": [
    "class Solution:\n",
    "    def longestCommonSubsequence(self,text1,text2):\n",
    "        l1,l2 = len(text1),len(text2)\n",
    "        dp = [[0]*(l2+1) for _ in range(l1+1)]\n",
    "        for i in range(1,l1+1):\n",
    "            for j in range(1,l2+1):\n",
    "                if text1[i-1]==text1[j-1]:\n",
    "                    dp[i][j] = dp[i-1][j-1]+1\n",
    "                else:\n",
    "                    dp[i][j] = max(dp[i-1][j],dp[i][j-1])\n",
    "        return dp[l1][l2]"
   ]
  },
  {
   "cell_type": "markdown",
   "id": "74cb341a-7c2e-4d9b-991e-7a0cadcfeec2",
   "metadata": {},
   "source": [
    "**mistake**\n",
    "- low level mistake: **text1[i-1]==text1[j-1]**"
   ]
  },
  {
   "cell_type": "markdown",
   "id": "891d5106-0301-472b-bd0a-d1f7f6a8bd2a",
   "metadata": {},
   "source": [
    "### Attempt2"
   ]
  },
  {
   "cell_type": "code",
   "execution_count": 2,
   "id": "6ab4cbff-05d0-4b77-8e5a-1870fb27918f",
   "metadata": {},
   "outputs": [],
   "source": [
    "class Solution:\n",
    "    def longestCommonSubsequence(self,t1,t2):\n",
    "        l1,l2 = len(t1),len(t2)\n",
    "        dp = [0]*(l2+1)\n",
    "        c = 0\n",
    "        for i in range(1,l1+1):\n",
    "            for j in range(1,l2+1):\n",
    "                p,c = c,dp[j]\n",
    "                if t1[i-1]==t2[j-1]:\n",
    "                    dp[j] = p+1\n",
    "                else:\n",
    "                    dp[j] = max(dp[j],dp[j-1])\n",
    "        return dp[l2]"
   ]
  }
 ],
 "metadata": {
  "kernelspec": {
   "display_name": "Python 3",
   "language": "python",
   "name": "python3"
  },
  "language_info": {
   "codemirror_mode": {
    "name": "ipython",
    "version": 3
   },
   "file_extension": ".py",
   "mimetype": "text/x-python",
   "name": "python",
   "nbconvert_exporter": "python",
   "pygments_lexer": "ipython3",
   "version": "3.9.2"
  }
 },
 "nbformat": 4,
 "nbformat_minor": 5
}
