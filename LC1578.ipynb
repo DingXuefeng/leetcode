{
 "cells": [
  {
   "cell_type": "markdown",
   "id": "62ef4766-3b83-4959-b0c3-063fc7366f5f",
   "metadata": {},
   "source": [
    "# min time to make rope colorful\n",
    "\n",
    "n balloons on a rope, colors[0]--colors[n-1].\n",
    "\n",
    "Alice want it colorful: no i such that colors[i]==colors[i+1].\n",
    "Bob can remove ballons but for time neededTime[i] for ballon i\n",
    "\n",
    "return minimum time to make it colorful.\n",
    "\n",
    "```\n",
    "1<=n<=10**5\n",
    "1<=neededTime[i]<=10**4\n",
    "colors.lower()==True\n",
    "```"
   ]
  },
  {
   "cell_type": "markdown",
   "id": "804d0035-79af-4144-8539-686d2b4752a5",
   "metadata": {},
   "source": [
    "## Idea\n",
    "\n",
    "dp[i]: time needed to make 0..i colorful, but keep ballon i\n",
    "dp[i] = min(dp[j] + sum(needed[k], k=j+1,...i-1), j=0...i-1, if ballon[j]!=ballon[i])\n",
    "=> O(n^3)\n",
    "\n",
    "[a],[b],[c],[d],...[e]\n",
    "a-1 + b-1 + c-1 + .. + e-1"
   ]
  },
  {
   "cell_type": "code",
   "execution_count": 10,
   "id": "3631dd06-8948-475d-8797-d5fcb40dc227",
   "metadata": {},
   "outputs": [],
   "source": [
    "class Solution:\n",
    "    def minCost(self,colors,neededTime):\n",
    "        amax,asum,color = 0,0,0\n",
    "        cost = 0\n",
    "        for i,c in enumerate(colors):\n",
    "            if c!=color:\n",
    "                # print(asum,amax,cost,c,color,colors,neededTime)\n",
    "                cost += asum-amax\n",
    "                color = c\n",
    "                amax = 0\n",
    "                asum = 0\n",
    "            else:\n",
    "                amax = max(amax,neededTime[i])\n",
    "                asum += neededTime[i]\n",
    "        cost += asum-amax\n",
    "        return cost"
   ]
  },
  {
   "cell_type": "markdown",
   "id": "a12b8225-2254-48ca-99b7-e449f9ecb9d2",
   "metadata": {},
   "source": [
    "**mistake**\n",
    "- amax and asum initialization should be neededTime, not 0"
   ]
  },
  {
   "cell_type": "code",
   "execution_count": 16,
   "id": "dbbc6ad6-006a-4596-83d4-f858d6f3a03e",
   "metadata": {},
   "outputs": [],
   "source": [
    "class Solution:\n",
    "    def minCost(self,colors,neededTime):\n",
    "        amax,asum,color = 0,0,0\n",
    "        cost = 0\n",
    "        for c in colors:\n",
    "            if c!=color:\n",
    "                cost += asum-amax\n",
    "                amax = neededTime[i]\n",
    "                asum = neededTime[i]\n",
    "                color = c\n",
    "            else:\n",
    "                amax = max(neededTime[i],amax)\n",
    "                asum += neededTime[i]\n",
    "        return cost"
   ]
  },
  {
   "cell_type": "markdown",
   "id": "4d287406-4be6-4270-8e7b-a60a0f5d1f69",
   "metadata": {},
   "source": [
    "**mistake**\n",
    "- i not defined\n",
    "- forgot to add last sum"
   ]
  },
  {
   "cell_type": "code",
   "execution_count": 20,
   "id": "42d90538-a31b-46fb-87a6-9b0d82ddb889",
   "metadata": {},
   "outputs": [],
   "source": [
    "class Solution:\n",
    "    def minCost(self,colors,neededTime):\n",
    "        amax,asum,color = 0,0,0\n",
    "        cost = 0\n",
    "        for i,c in enumerate(colors):\n",
    "            if c==color:\n",
    "                amax = max(amax,neededTime[i])\n",
    "                asum += neededTime[i]\n",
    "            else:\n",
    "                cost += asum-amax\n",
    "                amax = neededTime[i]\n",
    "                asum = neededTime[i]\n",
    "        cost += asum-amax\n",
    "        return cost"
   ]
  },
  {
   "cell_type": "markdown",
   "id": "d4fd4129-f18b-4065-b4d8-15c06ac15275",
   "metadata": {},
   "source": [
    "**mistake**\n",
    "- forgot to set color=c"
   ]
  },
  {
   "cell_type": "code",
   "execution_count": 23,
   "id": "dc4b665b-86a1-439e-b865-9804f3f86b7e",
   "metadata": {},
   "outputs": [],
   "source": [
    "class Solution:\n",
    "    def minCost(self,colors,neededTime):\n",
    "        amax,asum,color = 0,0,0\n",
    "        cost = 0\n",
    "        for i,c in enumerate(colors):\n",
    "            if c==color:\n",
    "                amax = max(amax,neededTime[i])\n",
    "                asum += neededTime[i]\n",
    "            else:\n",
    "                cost += asum-amax\n",
    "                color = c\n",
    "                amax = asum = neededTime[i]\n",
    "        cost += asum-amax\n",
    "        return cost"
   ]
  },
  {
   "cell_type": "markdown",
   "id": "e1a6d55d-6e01-42a1-8235-e3d5ad5ccc14",
   "metadata": {},
   "source": [
    "**AC**"
   ]
  },
  {
   "cell_type": "code",
   "execution_count": 24,
   "id": "bda78d19-1b51-4b6e-9a3e-9f9fd6c6f2a6",
   "metadata": {},
   "outputs": [
    {
     "name": "stdout",
     "output_type": "stream",
     "text": [
      "pass\n",
      "pass\n",
      "pass\n",
      "pass\n",
      "pass\n",
      "pass\n"
     ]
    }
   ],
   "source": [
    "inp = [\n",
    "    [\"abaac\",[1,2,3,4,5],3],\n",
    "    [\"abc\",[1,2,3],0],\n",
    "    [\"aabaa\",[1,2,3,4,1],2],\n",
    "    [\"a\",[9],0],\n",
    "    [\"aa\",[32,17],17],\n",
    "    [\"aabbbbccaca\",[1,2,3,4,5,6,7,8,9,10,11],1+3+4+5+7]\n",
    "]\n",
    "for colors,neededTime,out in inp:\n",
    "    test = Solution().minCost(colors,neededTime)\n",
    "    if test==out:\n",
    "        print('pass')\n",
    "    else:\n",
    "        print(test,out)"
   ]
  },
  {
   "cell_type": "code",
   "execution_count": null,
   "id": "50162ee5-9094-4861-ac84-59df6ab0934f",
   "metadata": {},
   "outputs": [],
   "source": []
  }
 ],
 "metadata": {
  "kernelspec": {
   "display_name": "Python 3",
   "language": "python",
   "name": "python3"
  },
  "language_info": {
   "codemirror_mode": {
    "name": "ipython",
    "version": 3
   },
   "file_extension": ".py",
   "mimetype": "text/x-python",
   "name": "python",
   "nbconvert_exporter": "python",
   "pygments_lexer": "ipython3",
   "version": "3.9.2"
  }
 },
 "nbformat": 4,
 "nbformat_minor": 5
}
