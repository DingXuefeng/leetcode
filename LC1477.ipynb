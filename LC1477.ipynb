{
 "cells": [
  {
   "cell_type": "markdown",
   "id": "66d5ada8-951a-4209-96e9-5760593fc645",
   "metadata": {},
   "source": [
    "# Find two non-overlapping sub-array each with target sum"
   ]
  },
  {
   "cell_type": "markdown",
   "id": "cf35cbb3-7844-4d3c-9184-7ff5760e35fe",
   "metadata": {},
   "source": [
    "Given `arr` and `target`, there may be two non-overlapping subarrays of `arr`, both sum `target`.\n",
    "\n",
    "return minimum total length of two arrays, of -1 if not found\n",
    "\n",
    "constraint:\n",
    "```\n",
    "1<=arr.length<=10**5\n",
    "1<=arr[i]<=1000\n",
    "1<=target<=10**8\n",
    "```"
   ]
  },
  {
   "cell_type": "markdown",
   "id": "256cef67-7baa-45b7-8229-63c6aa928072",
   "metadata": {},
   "source": [
    "## DP\n",
    "```\n",
    "dp[R] = l if sum(arr[L:R+1])==target, or -1\n",
    "return l+min(dp[:R-l+1])\n",
    "\n",
    "f[x] = min(dp[:x+1])\n",
    "return l+f[R-l]\n",
    "```"
   ]
  },
  {
   "cell_type": "markdown",
   "id": "a3581ce5-d6d2-415f-bce8-0d4c8b2fe2df",
   "metadata": {},
   "source": [
    "### Attempt 1"
   ]
  },
  {
   "cell_type": "code",
   "execution_count": 9,
   "id": "2eb611f9-b97a-41ec-817b-034fe8745f5c",
   "metadata": {},
   "outputs": [],
   "source": [
    "from bisect import *\n",
    "from itertools import *\n",
    "class Solution:\n",
    "    def minSumOfLengths(self,arr,target):\n",
    "        alen = len(arr)\n",
    "        acc = [0]+list(accumulate(arr))\n",
    "        f = [float('inf')]*alen\n",
    "        l = 0\n",
    "        ans = float('inf')\n",
    "        for r in range(alen):\n",
    "            l = bisect_left(acc,acc[r+1]-target)\n",
    "            if acc[r+1]-acc[l]==target:\n",
    "                lsub = r-l+1\n",
    "                f[r] = min(f[r-1],lsub)\n",
    "                ans = min(ans,lsub+f[r-lsub])\n",
    "        print(f)\n",
    "        return ans"
   ]
  },
  {
   "cell_type": "markdown",
   "id": "2101e294-7914-4b3a-be22-9175561ca067",
   "metadata": {},
   "source": [
    "**mistake**\n",
    "- logic mistake\n",
    "- f should be updated even when acc[r+1]-acc[l]!=target."
   ]
  },
  {
   "cell_type": "markdown",
   "id": "dc16e456-15dc-4e60-8ac4-141593d5df13",
   "metadata": {},
   "source": [
    "### Attempt 2"
   ]
  },
  {
   "cell_type": "code",
   "execution_count": 16,
   "id": "3c1abd03-1d9c-4522-9840-937fca71d333",
   "metadata": {},
   "outputs": [],
   "source": [
    "class Solution:\n",
    "    def minSumOfLengths(self,arr,target):\n",
    "        acc = [0]+list(accumulate(arr))\n",
    "        alen = len(arr)\n",
    "        f = [float('inf')]*n\n",
    "        l = 0\n",
    "        ans = float('inf')\n",
    "        for r in range(n):\n",
    "            l = bisect_left(acc,acc[r+1]-target,lo=l)\n",
    "            if acc[r+1]-acc[l]==target:\n",
    "                lsub = r-l+1\n",
    "                f[r] = min(f[r-1],lsub)\n",
    "                ans = min(ans,lsub+f[r-lsub])\n",
    "            else:\n",
    "                f[r] = f[r-1]\n",
    "        return -1 if ans==float('inf') else ans"
   ]
  },
  {
   "cell_type": "markdown",
   "id": "ad34175a-b405-4d1e-aab8-d14263840d66",
   "metadata": {},
   "source": [
    "**mistake**\n",
    "- n is not defined"
   ]
  },
  {
   "cell_type": "markdown",
   "id": "0553fb9b-b7c0-4445-a14a-208b4d1805a7",
   "metadata": {},
   "source": [
    "### Attempt 3"
   ]
  },
  {
   "cell_type": "code",
   "execution_count": 17,
   "id": "2138676e-042e-452d-9ba2-40f615c4c0e7",
   "metadata": {},
   "outputs": [],
   "source": [
    "class Solution:\n",
    "    def minSumOfLengths(self,arr,target):\n",
    "        acc = [0]+list(accumulate(arr))\n",
    "        ans = float('inf')\n",
    "        alen = len(arr)\n",
    "        f = [float('inf')]*alen\n",
    "        for r in range(alen):\n",
    "            l = bisect_left(acc,acc[r+1]-target,lo=l)\n",
    "            if acc[r+1]-acc[l]==target:\n",
    "                lsub = r-l+1\n",
    "                f[r] = min(f[r-1],lsub)\n",
    "                ans = min(ans,lsub+f[r-lsub])\n",
    "            else:\n",
    "                f[r] = f[r-1]\n",
    "        return ans"
   ]
  },
  {
   "cell_type": "markdown",
   "id": "4c350142-caf9-4992-b13c-908f14055cb5",
   "metadata": {},
   "source": [
    "**mistake**\n",
    "- l not defined"
   ]
  },
  {
   "cell_type": "markdown",
   "id": "ee86298f-21a3-474f-b168-62a3b40b88c4",
   "metadata": {},
   "source": [
    "### Attempt 4"
   ]
  },
  {
   "cell_type": "code",
   "execution_count": 21,
   "id": "6c98d836-5c7e-46c4-9fd2-832e4644e9cb",
   "metadata": {},
   "outputs": [],
   "source": [
    "class Solution:\n",
    "    def minSumOfLengths(self,arr,target):\n",
    "        acc = [0]+list(accumulate(arr))\n",
    "        ans = float('inf')\n",
    "        alen = len(arr)\n",
    "        f = [float('inf')]*alen\n",
    "        l = 0\n",
    "        for r in range(alen):\n",
    "            l = bisect_left(acc,acc[r+1]-target,l)\n",
    "            if acc[r+1]-acc[l]==target:\n",
    "                lsub = r-l+1\n",
    "                f[r] = min(f[r-1],lsub)\n",
    "                ans = min(ans,lsub+f[r-lsub])\n",
    "            else:\n",
    "                f[r] = f[r-1]\n",
    "        return -1 if ans==float('inf') else ans"
   ]
  },
  {
   "cell_type": "markdown",
   "id": "6e40d523-8dd9-4baa-acb5-f89bd04bae0a",
   "metadata": {},
   "source": [
    "**mistake**\n",
    "- r-lsub>=0"
   ]
  },
  {
   "cell_type": "markdown",
   "id": "f137441a-dd76-4613-a19d-ad8d8b74ba28",
   "metadata": {},
   "source": [
    "### Attempt 5"
   ]
  },
  {
   "cell_type": "code",
   "execution_count": 23,
   "id": "a00e52df-d111-4146-a81b-3271a680b2a1",
   "metadata": {},
   "outputs": [],
   "source": [
    "class Solution:\n",
    "    def minSumOfLengths(self,arr,target):\n",
    "        acc = [0]+list(accumulate(arr))\n",
    "        l = 0\n",
    "        alen = len(arr)\n",
    "        f = [float('inf')]*alen\n",
    "        ans = float('inf')\n",
    "        for r in range(alen):\n",
    "            l = bisect_left(acc,acc[r+1]-target,l)\n",
    "            if acc[r+1]-acc[l]==target:\n",
    "                lsub = r-l+1\n",
    "                f[r] = min(f[r-1],lsub)\n",
    "                if r-lsub>=0:\n",
    "                    ans = min(ans,lsub+f[r-lsub])\n",
    "            else:\n",
    "                f[r] = f[r-1]\n",
    "        return ans if ans!=float('inf') else -1"
   ]
  },
  {
   "cell_type": "markdown",
   "id": "869ae7cc-1d75-4a05-8e66-074fda6f5f71",
   "metadata": {},
   "source": [
    "**AC**"
   ]
  },
  {
   "cell_type": "code",
   "execution_count": 26,
   "id": "4832325b-0aa8-4870-8a58-78887e1fbf81",
   "metadata": {},
   "outputs": [
    {
     "data": {
      "text/plain": [
       "-1"
      ]
     },
     "execution_count": 26,
     "metadata": {},
     "output_type": "execute_result"
    }
   ],
   "source": [
    "Solution().minSumOfLengths([3],3)"
   ]
  },
  {
   "cell_type": "code",
   "execution_count": null,
   "id": "66ba1b69-6ac9-45cb-9e60-7f5f07c63740",
   "metadata": {},
   "outputs": [],
   "source": []
  }
 ],
 "metadata": {
  "kernelspec": {
   "display_name": "Python 3",
   "language": "python",
   "name": "python3"
  },
  "language_info": {
   "codemirror_mode": {
    "name": "ipython",
    "version": 3
   },
   "file_extension": ".py",
   "mimetype": "text/x-python",
   "name": "python",
   "nbconvert_exporter": "python",
   "pygments_lexer": "ipython3",
   "version": "3.9.2"
  }
 },
 "nbformat": 4,
 "nbformat_minor": 5
}
