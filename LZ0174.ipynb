{
 "cells": [
  {
   "cell_type": "markdown",
   "id": "1d5df073-4c12-43ee-83f1-ce5dde6f1acd",
   "metadata": {},
   "source": [
    "# Dungeon game"
   ]
  },
  {
   "cell_type": "markdown",
   "id": "6e244919-e414-4788-b1a8-675f5557bcf2",
   "metadata": {},
   "source": [
    "return minimum health\n",
    "```\n",
    "1<=m,n<=200\n",
    "-1000<=dungeon[i][j]<=1000\n",
    "```"
   ]
  },
  {
   "cell_type": "code",
   "execution_count": 28,
   "id": "6d60cd27-8725-49f2-8d02-85705c58ec1b",
   "metadata": {},
   "outputs": [],
   "source": [
    "class Solution:\n",
    "    def calculateMinimumHP(self,dungeon):\n",
    "        # each minHP only keep largest HP\n",
    "        rows,cols = len(dungeon),len(dungeon[0])\n",
    "        HP = [[[[0,0]] for _ in range(cols)] for _ in range(2)]\n",
    "        for i in range(rows):\n",
    "            for j in range(cols):\n",
    "                print('old',HP[(i-1)&1])\n",
    "                newHP = []\n",
    "                prev = -1001\n",
    "                for minHP,curHP in sorted(HP[(i-1)&1][j]+HP[i&1][j-1]):\n",
    "                    if minHP==prev:\n",
    "                        newHP[-1][1] = max(curHP,newHP[-1][1])\n",
    "                    else:\n",
    "                        newHP.append([minHP,curHP])\n",
    "                    prev = minHP\n",
    "                for k,(minHP,curHP) in enumerate(newHP):\n",
    "                    newHP[k][1] += dungeon[i][j]\n",
    "                    if newHP[k][1]<minHP:\n",
    "                        newHP[k][0] = newHP[k][1]\n",
    "                HP[i&1][j] = newHP\n",
    "                print('new',HP[i&1])\n",
    "        return -HP[(rows-1)&1][cols-1][-1][0]\n",
    "               "
   ]
  },
  {
   "cell_type": "code",
   "execution_count": 29,
   "id": "86dcda4b-ad13-4d4c-a093-63529567d92b",
   "metadata": {},
   "outputs": [
    {
     "name": "stdout",
     "output_type": "stream",
     "text": [
      "old [[[0, 0]], [[0, 0]], [[0, 0]]]\n",
      "new [[[-2, -2]], [[0, 0]], [[0, 0]]]\n",
      "old [[[0, 0]], [[0, 0]], [[0, 0]]]\n",
      "new [[[-2, -2]], [[-5, -5], [-3, -3]], [[0, 0]]]\n",
      "old [[[0, 0]], [[0, 0]], [[0, 0]]]\n",
      "new [[[-2, -2]], [[-5, -5], [-3, -3]], [[-5, -2], [-3, 0], [0, 3]]]\n",
      "old [[[-2, -2]], [[-5, -5], [-3, -3]], [[-5, -2], [-3, 0], [0, 3]]]\n",
      "new [[[-7, -7], [-5, -5]], [[0, 0]], [[0, 0]]]\n",
      "old [[[-2, -2]], [[-5, -5], [-3, -3]], [[-5, -2], [-3, 0], [0, 3]]]\n",
      "new [[[-7, -7], [-5, -5]], [[-17, -17], [-15, -15], [-13, -13]], [[0, 0]]]\n",
      "old [[[-2, -2]], [[-5, -5], [-3, -3]], [[-5, -2], [-3, 0], [0, 3]]]\n",
      "new [[[-7, -7], [-5, -5]], [[-17, -17], [-15, -15], [-13, -13]], [[-17, -16], [-15, -14], [-13, -12], [-5, -1], [-3, 1], [0, 4]]]\n",
      "old [[[-7, -7], [-5, -5]], [[-17, -17], [-15, -15], [-13, -13]], [[-17, -16], [-15, -14], [-13, -12], [-5, -1], [-3, 1], [0, 4]]]\n",
      "new [[[-7, 3], [-5, 8], [-3, 10], [0, 13]], [[-5, -5], [-3, -3]], [[-5, -2], [-3, 0], [0, 3]]]\n",
      "old [[[-7, -7], [-5, -5]], [[-17, -17], [-15, -15], [-13, -13]], [[-17, -16], [-15, -14], [-13, -12], [-5, -1], [-3, 1], [0, 4]]]\n",
      "new [[[-7, 3], [-5, 8], [-3, 10], [0, 13]], [[-17, 13], [-15, 15], [-13, 17], [-7, 33], [-5, 38], [-3, 40], [0, 43]], [[-5, -2], [-3, 0], [0, 3]]]\n",
      "old [[[-7, -7], [-5, -5]], [[-17, -17], [-15, -15], [-13, -13]], [[-17, -16], [-15, -14], [-13, -12], [-5, -1], [-3, 1], [0, 4]]]\n",
      "new [[[-7, 3], [-5, 8], [-3, 10], [0, 13]], [[-17, 13], [-15, 15], [-13, 17], [-7, 33], [-5, 38], [-3, 40], [0, 43]], [[-17, 8], [-15, 10], [-13, 12], [-7, 28], [-5, 33], [-3, 35], [0, 38]]]\n",
      "fail 7 0\n"
     ]
    }
   ],
   "source": [
    "inp = [\n",
    "    [[[-2,-3,3],[-5,-10,1],[10,30,-5]],7],\n",
    "    [[[0]],1]\n",
    "]\n",
    "for a,b in inp:\n",
    "    c = Solution().calculateMinimumHP(a)\n",
    "    if b!=c:\n",
    "        print('fail',b,c)\n",
    "    break\n",
    "    "
   ]
  },
  {
   "cell_type": "code",
   "execution_count": null,
   "id": "b56602e1-0481-4af4-b480-75d4df03169c",
   "metadata": {},
   "outputs": [],
   "source": []
  }
 ],
 "metadata": {
  "kernelspec": {
   "display_name": "Python 3",
   "language": "python",
   "name": "python3"
  },
  "language_info": {
   "codemirror_mode": {
    "name": "ipython",
    "version": 3
   },
   "file_extension": ".py",
   "mimetype": "text/x-python",
   "name": "python",
   "nbconvert_exporter": "python",
   "pygments_lexer": "ipython3",
   "version": "3.9.2"
  }
 },
 "nbformat": 4,
 "nbformat_minor": 5
}
