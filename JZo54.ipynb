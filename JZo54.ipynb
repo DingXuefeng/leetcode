{
 "cells": [
  {
   "cell_type": "markdown",
   "id": "2e6ef6ba-8031-4630-ba84-ccab9ee5ce85",
   "metadata": {},
   "source": [
    "# k-th maximum node val in BST"
   ]
  },
  {
   "cell_type": "markdown",
   "id": "bc50caaa-11fd-4e0b-b730-d8f984078448",
   "metadata": {},
   "source": [
    "Given a BST, search the k-largest element's value"
   ]
  },
  {
   "cell_type": "code",
   "execution_count": 10,
   "id": "b18f7bcd-54c6-4a3a-b30d-0e21ea3e4017",
   "metadata": {},
   "outputs": [],
   "source": [
    "null = None\n",
    "class TreeNode:\n",
    "    def __init__(self,x):\n",
    "        self.val = x\n",
    "        self.left = None\n",
    "        self.right = None\n",
    "    \n",
    "    @classmethod\n",
    "    def construct(cls,arr):\n",
    "        n = len(arr)\n",
    "        def dfs(L,R):\n",
    "            if L>n:\n",
    "                return [None]*(R-L+1)\n",
    "            cur = [TreeNode(arr[i]) if i<n and arr[i] else None for i in range(L,R+1)]\n",
    "            nvalid = len([x for x in cur if x])\n",
    "            nxt = dfs(R+1,R+(nvalid<<1))\n",
    "            i,j = 0,0\n",
    "            while j<nvalid:\n",
    "                while not cur[i]:\n",
    "                    i += 1\n",
    "                cur[i].left = nxt[j<<1]\n",
    "                cur[i].right = nxt[(j<<1)+1]\n",
    "                i+=1\n",
    "                j+=1\n",
    "            return cur\n",
    "        return dfs(0,0)[0]\n",
    "    \n",
    "    def __str__(self):\n",
    "        ans = ''\n",
    "        q = [root]\n",
    "        while q:\n",
    "            ans += ' '.join([str(x.val) if x else 'x' for x in q])+'\\n'\n",
    "            q = [y for x in q for y in ([x.left, x.right] if x else [None,None])]\n",
    "            if all([x==None for x in q]):\n",
    "                break\n",
    "        return ans"
   ]
  },
  {
   "cell_type": "code",
   "execution_count": 11,
   "id": "6bca2610-5764-48c8-b861-1395ad2e1961",
   "metadata": {},
   "outputs": [
    {
     "name": "stdout",
     "output_type": "stream",
     "text": [
      "1\n",
      "2 3\n",
      "x x 5 6\n",
      "x x x x x 7 8 x\n",
      "\n"
     ]
    }
   ],
   "source": [
    "root = TreeNode.construct([1,2,3,null,null,5,6,null,7,8])\n",
    "print(root)"
   ]
  },
  {
   "cell_type": "markdown",
   "id": "2d4ebc4a-e033-4879-8521-a8153f56a8d8",
   "metadata": {},
   "source": [
    "**mistake**\n",
    "- forgot to write the value for `else`\n",
    "- forgot to exit recursion (`if L>n`)\n",
    "- forgot to handle `None` case (`str(x.val)`)"
   ]
  },
  {
   "cell_type": "markdown",
   "id": "5158f2a6-36ab-4290-8733-2739dc1668a3",
   "metadata": {
    "tags": []
   },
   "source": [
    "### Attempt 1"
   ]
  },
  {
   "cell_type": "code",
   "execution_count": null,
   "id": "e154796f-4026-423d-aab1-7dc0f280666b",
   "metadata": {},
   "outputs": [],
   "source": [
    "class Solution:\n",
    "    def kthLargest(self,root,k):\n",
    "        n = 0\n",
    "        ans = None\n",
    "        def dfs(root):\n",
    "            if root and n<k:\n",
    "                dfs(root.right)\n",
    "                n+=1\n",
    "                if n==k:\n",
    "                    ans = root.val\n",
    "                dfs(root.left)\n",
    "        dfs(root)\n",
    "        return ans"
   ]
  },
  {
   "cell_type": "markdown",
   "id": "362401c9-f7a8-4786-852f-80bac7be8003",
   "metadata": {},
   "source": [
    "**mistake**\n",
    "- forgot to use `self` for `n`"
   ]
  },
  {
   "cell_type": "markdown",
   "id": "cf0d76b4-c58c-43e9-913f-0309ae4eeaa6",
   "metadata": {},
   "source": [
    "### Attempt 2"
   ]
  },
  {
   "cell_type": "code",
   "execution_count": 14,
   "id": "efa5a7d1-085f-48b9-a5f4-da8b5eb790bb",
   "metadata": {},
   "outputs": [],
   "source": [
    "class Solution:\n",
    "    def kthLargest(self,root,k):\n",
    "        self.n = 0\n",
    "        self.ans = None\n",
    "        def dfs(root):\n",
    "            if root and self.n<k:\n",
    "                dfs(root.right)\n",
    "                self.n += 1\n",
    "                if self.n==k:\n",
    "                    self.ans = root.val\n",
    "                dfs(root.left)\n",
    "        dfs(root)\n",
    "        return self.ans"
   ]
  },
  {
   "cell_type": "markdown",
   "id": "06b35099-ada1-482b-84cb-889765f09a0e",
   "metadata": {},
   "source": [
    "### Another Solution: Iteration"
   ]
  },
  {
   "cell_type": "code",
   "execution_count": null,
   "id": "56a5eb98-d228-4b2d-8717-4b880925a4ee",
   "metadata": {},
   "outputs": [],
   "source": [
    "class Solution:\n",
    "    def kthLargest(self,root,k):\n",
    "        stack = []\n",
    "        node = root\n",
    "        n = 0\n",
    "        while stack or node:\n",
    "            if node:\n",
    "                stack.append(node)\n",
    "                node = node.right\n",
    "            else:\n",
    "                node = stack.pop()\n",
    "                n += 1\n",
    "                if n==k:\n",
    "                    return node.val\n",
    "                node = node.left\n",
    "        return None"
   ]
  },
  {
   "cell_type": "markdown",
   "id": "530069d3-516a-4932-b9d0-b269581daee2",
   "metadata": {},
   "source": [
    "**AC**\n",
    "- good job"
   ]
  },
  {
   "cell_type": "code",
   "execution_count": null,
   "id": "6476aaa1-f6cd-43cd-a93d-14a4c98542b1",
   "metadata": {},
   "outputs": [],
   "source": []
  }
 ],
 "metadata": {
  "kernelspec": {
   "display_name": "Python 3",
   "language": "python",
   "name": "python3"
  },
  "language_info": {
   "codemirror_mode": {
    "name": "ipython",
    "version": 3
   },
   "file_extension": ".py",
   "mimetype": "text/x-python",
   "name": "python",
   "nbconvert_exporter": "python",
   "pygments_lexer": "ipython3",
   "version": "3.9.2"
  }
 },
 "nbformat": 4,
 "nbformat_minor": 5
}
