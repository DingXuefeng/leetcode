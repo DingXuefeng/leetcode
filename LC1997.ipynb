{
 "cells": [
  {
   "cell_type": "markdown",
   "id": "945e36c4-1f2f-4ab2-8b3b-a3734bebfe62",
   "metadata": {},
   "source": [
    "# First day where all in room\n",
    "\n",
    "i -> arr[i] odd times enter\n",
    "i -> i+1 even times enter\n",
    "\n",
    "```\n",
    "2<=n<=10**5\n",
    "0<=arr[i]<=i\n",
    "```"
   ]
  },
  {
   "cell_type": "code",
   "execution_count": 13,
   "id": "377f52e1-5d2b-419a-82ab-28e9bcb9ccfe",
   "metadata": {},
   "outputs": [],
   "source": [
    "class Solution:\n",
    "    def firstDayBeenInAllRooms(self,nextVisit):\n",
    "        n = len(nextVisit)\n",
    "        dp = [0]*(n-1)\n",
    "        prefix = [0]*n\n",
    "        for i,j in enumerate(nextVisit[:-1]):\n",
    "            dp[i] = prefix[i]-prefix[j]+2\n",
    "            prefix[i+1] = prefix[i]+dp[i]\n",
    "        return prefix[n-1]"
   ]
  },
  {
   "cell_type": "code",
   "execution_count": 16,
   "id": "46a479ed-8d6e-435f-b697-32a015c28c12",
   "metadata": {},
   "outputs": [],
   "source": [
    "class Solution:\n",
    "    def firstDayBeenInAllRooms(self,nextVisit):\n",
    "        n = len(nextVisit)\n",
    "        dp = [None]*(n-1)\n",
    "        pf = [0]*n\n",
    "        mod = 10**9+7\n",
    "        for i,j in enumerate(nextVisit[:-1]):\n",
    "            dp[i] = 2+pf[i]-pf[j]\n",
    "            pf[i+1] = (pf[i]+dp[i])%mod\n",
    "        return pf[n-1]"
   ]
  },
  {
   "cell_type": "markdown",
   "id": "2a8f8fa3-3b3f-4cd9-8ceb-82cc0f071f94",
   "metadata": {},
   "source": [
    "**AC**"
   ]
  },
  {
   "cell_type": "code",
   "execution_count": 17,
   "id": "f070f1fe-9c90-4df4-97c7-1b8e7553bf2b",
   "metadata": {},
   "outputs": [
    {
     "data": {
      "text/plain": [
       "6"
      ]
     },
     "execution_count": 17,
     "metadata": {},
     "output_type": "execute_result"
    }
   ],
   "source": [
    "Solution().firstDayBeenInAllRooms([0,1,2,0])"
   ]
  },
  {
   "cell_type": "code",
   "execution_count": null,
   "id": "db22ab73-fa6e-4a0e-92d7-7c77b04c06c0",
   "metadata": {},
   "outputs": [],
   "source": []
  }
 ],
 "metadata": {
  "kernelspec": {
   "display_name": "Python 3",
   "language": "python",
   "name": "python3"
  },
  "language_info": {
   "codemirror_mode": {
    "name": "ipython",
    "version": 3
   },
   "file_extension": ".py",
   "mimetype": "text/x-python",
   "name": "python",
   "nbconvert_exporter": "python",
   "pygments_lexer": "ipython3",
   "version": "3.9.2"
  }
 },
 "nbformat": 4,
 "nbformat_minor": 5
}
