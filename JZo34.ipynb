{
 "cells": [
  {
   "cell_type": "markdown",
   "id": "4caf8fc4-6d93-4d2f-ab08-f00c472211f1",
   "metadata": {},
   "source": [
    "# Find all paths with target sum"
   ]
  },
  {
   "cell_type": "markdown",
   "id": "13277f60-a5ce-42d8-adf2-20bbd52a9803",
   "metadata": {},
   "source": [
    "Given a binary tree and a target sum, \n",
    "find all paths from the root node to the leaf node whose sum is target sum.\n",
    "\n",
    "Constraint\n",
    "```\n",
    "n: number of node\n",
    "0<=n<=5000\n",
    "-1000<=node.val<=1000\n",
    "-1000<=targetSum<=1000\n",
    "```"
   ]
  },
  {
   "cell_type": "code",
   "execution_count": 60,
   "id": "56263c13-1658-494b-8a19-30ed21e3a080",
   "metadata": {},
   "outputs": [],
   "source": [
    "class TreeNode:\n",
    "    def __init__(self,val=0,left=None,right=None):\n",
    "        self.val = val\n",
    "        self.left = left\n",
    "        self.right = right\n",
    "    @classmethod\n",
    "    def construct(cls,arr):\n",
    "        n = len(arr)\n",
    "        def dfs(L,R):\n",
    "            if L>=n:\n",
    "                return [None]*(R-L+1)\n",
    "            else:\n",
    "                cur = [TreeNode(arr[i]) if i<n and arr[i] else None for i in range(L,R+1)]\n",
    "                nvalid = len([x for x in cur if x])\n",
    "                nxt = dfs(R+1,R+(nvalid<<1))\n",
    "                i,j = 0,0\n",
    "                while j<nvalid:\n",
    "                    while not cur[i]:\n",
    "                        i += 1\n",
    "                    cur[i].left = nxt[j<<1]\n",
    "                    cur[i].right = nxt[(j<<1)+1]\n",
    "                    i+=1\n",
    "                    j+=1\n",
    "                return cur\n",
    "        return dfs(0,0)[0]\n",
    "    \n",
    "    def __str__(self):\n",
    "        ans = ''\n",
    "        q = [self]\n",
    "        while q:\n",
    "            ans += ' '.join([str(x.val) if x else 'x' for x in q])+'\\n'\n",
    "            q = [y for x in q for y in ([x.left,x.right] if x else [None,None])]\n",
    "            if all([x==None for x in q]):\n",
    "                break\n",
    "        return ans\n",
    "null = None"
   ]
  },
  {
   "cell_type": "code",
   "execution_count": 61,
   "id": "9d569311-658d-4fb9-906f-deb1071e6da8",
   "metadata": {},
   "outputs": [
    {
     "name": "stdout",
     "output_type": "stream",
     "text": [
      "5\n",
      "4 8\n",
      "11 x 13 4\n",
      "7 2 x x x x 5 1\n",
      "\n",
      "4\n",
      "11 x\n",
      "7 2 x x\n",
      "\n",
      "8\n",
      "13 4\n",
      "x x 5 1\n",
      "\n"
     ]
    }
   ],
   "source": [
    "root = TreeNode.construct([5,4,8,11,null,13,4,7,2,null,null,5,1])\n",
    "print(root)\n",
    "print(root.left)\n",
    "print(root.right)"
   ]
  },
  {
   "cell_type": "markdown",
   "id": "e6e36baf-a4ce-4b70-82a1-2cc0fc35c702",
   "metadata": {},
   "source": [
    "**Mistake made in preparing TreeNode.construct**\n",
    "- misunderstood how it is constructed. null node are skipped automatically in the next level"
   ]
  },
  {
   "cell_type": "markdown",
   "id": "9326d844-809c-41fc-8dbc-ba18825e5f7b",
   "metadata": {},
   "source": [
    "### Attempt 1"
   ]
  },
  {
   "cell_type": "code",
   "execution_count": 62,
   "id": "79ba52fe-021a-4e70-8a0f-cf90dcc34020",
   "metadata": {},
   "outputs": [],
   "source": [
    "class Solution:\n",
    "    def pathSum(self,root,targetSum):\n",
    "        def dfs(root,target):\n",
    "            print(root,'target:',target)\n",
    "            if root:\n",
    "                if not root.left and not root.right:\n",
    "                    return [[root.val]] if root.val==target else []\n",
    "                else:\n",
    "                    return [[root.val]+path for path in dfs(root.left,target-root.val)+dfs(root.right,target-root.val)]\n",
    "            else:\n",
    "                return []\n",
    "        return dfs(root,targetSum)"
   ]
  },
  {
   "cell_type": "code",
   "execution_count": 63,
   "id": "279fc958-8444-424c-b888-8ec7b462ff58",
   "metadata": {},
   "outputs": [
    {
     "name": "stdout",
     "output_type": "stream",
     "text": [
      "5\n",
      "4 8\n",
      "11 x 13 4\n",
      "7 2 x x x x 5 1\n",
      " target: 22\n",
      "4\n",
      "11 x\n",
      "7 2 x x\n",
      " target: 17\n",
      "11\n",
      "7 2\n",
      " target: 13\n",
      "7\n",
      " target: 2\n",
      "2\n",
      " target: 2\n",
      "None target: 13\n",
      "8\n",
      "13 4\n",
      "x x 5 1\n",
      " target: 17\n",
      "13\n",
      " target: 9\n",
      "4\n",
      "5 1\n",
      " target: 9\n",
      "5\n",
      " target: 5\n",
      "1\n",
      " target: 5\n"
     ]
    },
    {
     "data": {
      "text/plain": [
       "[[5, 4, 11, 2], [5, 8, 4, 5]]"
      ]
     },
     "execution_count": 63,
     "metadata": {},
     "output_type": "execute_result"
    }
   ],
   "source": [
    "Solution().pathSum(TreeNode.construct([5,4,8,11,null,13,4,7,2,null,null,5,1]),22)"
   ]
  },
  {
   "cell_type": "markdown",
   "id": "aa47b7c2-3f6a-4a03-957b-3b319e24f7bd",
   "metadata": {},
   "source": [
    "**Directly AC**\n",
    "- Good job."
   ]
  },
  {
   "cell_type": "code",
   "execution_count": null,
   "id": "1f43bc28-c21c-4240-8504-a84f1b9353f8",
   "metadata": {},
   "outputs": [],
   "source": []
  }
 ],
 "metadata": {
  "kernelspec": {
   "display_name": "Python 3",
   "language": "python",
   "name": "python3"
  },
  "language_info": {
   "codemirror_mode": {
    "name": "ipython",
    "version": 3
   },
   "file_extension": ".py",
   "mimetype": "text/x-python",
   "name": "python",
   "nbconvert_exporter": "python",
   "pygments_lexer": "ipython3",
   "version": "3.9.2"
  }
 },
 "nbformat": 4,
 "nbformat_minor": 5
}
